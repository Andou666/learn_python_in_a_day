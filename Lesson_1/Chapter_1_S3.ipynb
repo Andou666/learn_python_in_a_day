{
 "cells": [
  {
   "cell_type": "markdown",
   "metadata": {},
   "source": [
    "# SECTION 03 値を格納する「変数」を理解する\n",
    "- このセクションで学ぶこと\n",
    "    - 変数と代入\n",
    "    - 変数の名前のつけかた\n",
    "    - 複合代入演算子\n",
    "    - 定数"
   ]
  },
  {
   "cell_type": "markdown",
   "metadata": {},
   "source": [
    "## 変数とは\n",
    "- 「変数」は値を格納する容器\n",
    "- 作成した変数に値をいれることを「代入」するという\n",
    "- 変数に代入された値は必要なときに自動で取り出される\n",
    "- 変数から値が取り出されてもなくならない\n",
    "- 変数を作成することを「宣言」するという\n",
    "- 「変数＝値」という文法で変数の宣言と代入を同時におこなう。\n",
    "（他のプログラミング言語では変数の宣言のみできるものもあるが、Pythonでは宣言時に代入も行う）"
   ]
  },
  {
   "cell_type": "code",
   "execution_count": 2,
   "metadata": {},
   "outputs": [
    {
     "data": {
      "text/plain": [
       "51"
      ]
     },
     "execution_count": 2,
     "metadata": {},
     "output_type": "execute_result"
    }
   ],
   "source": [
    "abc = 51\n",
    "abc"
   ]
  },
  {
   "cell_type": "code",
   "execution_count": 3,
   "metadata": {},
   "outputs": [
    {
     "data": {
      "text/plain": [
       "56"
      ]
     },
     "execution_count": 3,
     "metadata": {},
     "output_type": "execute_result"
    }
   ],
   "source": [
    "abc + 5"
   ]
  },
  {
   "cell_type": "code",
   "execution_count": 5,
   "metadata": {},
   "outputs": [
    {
     "data": {
      "text/plain": [
       "61"
      ]
     },
     "execution_count": 5,
     "metadata": {},
     "output_type": "execute_result"
    }
   ],
   "source": [
    "abc + 10"
   ]
  },
  {
   "cell_type": "markdown",
   "metadata": {},
   "source": [
    "## 変数とは\n",
    "- 変数に新しい値を代入（「再代入」とよばれる）すると、古い値は上書きされてなくなる\n",
    "- 変数Aに変数A（自分自身）や変数Bの値を代入することもできる"
   ]
  },
  {
   "cell_type": "code",
   "execution_count": 7,
   "metadata": {},
   "outputs": [],
   "source": [
    "abc = 51"
   ]
  },
  {
   "cell_type": "code",
   "execution_count": 8,
   "metadata": {},
   "outputs": [
    {
     "data": {
      "text/plain": [
       "56"
      ]
     },
     "execution_count": 8,
     "metadata": {},
     "output_type": "execute_result"
    }
   ],
   "source": [
    "abc + 5"
   ]
  },
  {
   "cell_type": "code",
   "execution_count": 9,
   "metadata": {},
   "outputs": [],
   "source": [
    "abc = 8"
   ]
  },
  {
   "cell_type": "code",
   "execution_count": 10,
   "metadata": {},
   "outputs": [
    {
     "data": {
      "text/plain": [
       "8"
      ]
     },
     "execution_count": 10,
     "metadata": {},
     "output_type": "execute_result"
    }
   ],
   "source": [
    "abc"
   ]
  },
  {
   "cell_type": "code",
   "execution_count": 11,
   "metadata": {},
   "outputs": [],
   "source": [
    "abc = abc + 3"
   ]
  },
  {
   "cell_type": "code",
   "execution_count": 12,
   "metadata": {},
   "outputs": [
    {
     "data": {
      "text/plain": [
       "11"
      ]
     },
     "execution_count": 12,
     "metadata": {},
     "output_type": "execute_result"
    }
   ],
   "source": [
    "abc"
   ]
  },
  {
   "cell_type": "markdown",
   "metadata": {},
   "source": [
    "## 変数の用語\n",
    "- 変数を作成すること => 「宣言」する\n",
    "- 変数に値を入れること => 「代入」する\n",
    "- すでに変数をもつ変数に値をいれること => 「再代入」する\n",
    "- 変数に値を代入する記号 => 「代入演算子」。「=」のこと\n",
    "- 変数から値を取り出すこと => 変数が値を「返す」\n",
    "- これらの用語はプログラマの常識なので、知っていないと専門書籍を読んだりプログラマと会話する際に困ります。覚えて自分も使うことをおすすめします。"
   ]
  },
  {
   "cell_type": "markdown",
   "metadata": {},
   "source": [
    "## 変数名の規則\n",
    "- 変数に使える記号は「アルファベットと数字およびアンダーバー(_)」が基本。日本語も使えるがおすすめしない。\n",
    "- 「必ずアルファベットから始まる」というルールがある\n",
    "- Pythonでは変数に大文字を使わないのが一般的\n",
    "- 特別な意味をもつ予約語（たとえばforなど）は使えない\n",
    "- 変数名にはなにが入っているか分かりやすいものを使う"
   ]
  },
  {
   "cell_type": "code",
   "execution_count": 13,
   "metadata": {},
   "outputs": [],
   "source": [
    "abc = 3"
   ]
  },
  {
   "cell_type": "code",
   "execution_count": 14,
   "metadata": {},
   "outputs": [
    {
     "ename": "SyntaxError",
     "evalue": "invalid syntax (<ipython-input-14-7386c27c024e>, line 1)",
     "output_type": "error",
     "traceback": [
      "\u001b[1;36m  File \u001b[1;32m\"<ipython-input-14-7386c27c024e>\"\u001b[1;36m, line \u001b[1;32m1\u001b[0m\n\u001b[1;33m    5ab = 3\u001b[0m\n\u001b[1;37m      ^\u001b[0m\n\u001b[1;31mSyntaxError\u001b[0m\u001b[1;31m:\u001b[0m invalid syntax\n"
     ]
    }
   ],
   "source": [
    "5ab = 3"
   ]
  },
  {
   "cell_type": "code",
   "execution_count": 16,
   "metadata": {},
   "outputs": [],
   "source": [
    "price = 100\n",
    "text_length = 10\n",
    "# 上記のような分かりやすい名前が望ましい"
   ]
  },
  {
   "cell_type": "markdown",
   "metadata": {},
   "source": [
    "## 複合代入演算子\n",
    "- 代入と演算（+や-）を同時にやる特殊な演算子は「複合代入演算子」と呼ばれる\n",
    "- 代入演算子の前に演算記号がつく。たとえば「+=」\n",
    "- すでに代入されている変数を加工するためによく使われる\n",
    "- 変数に1を加えることを「インクリメント」と呼び、Pythonはそれを複合代入演算子で実現する。「a += 1」"
   ]
  },
  {
   "cell_type": "code",
   "execution_count": 19,
   "metadata": {},
   "outputs": [
    {
     "data": {
      "text/plain": [
       "11"
      ]
     },
     "execution_count": 19,
     "metadata": {},
     "output_type": "execute_result"
    }
   ],
   "source": [
    "a = 10\n",
    "a += 1\n",
    "a"
   ]
  },
  {
   "cell_type": "code",
   "execution_count": 20,
   "metadata": {},
   "outputs": [
    {
     "data": {
      "text/plain": [
       "6"
      ]
     },
     "execution_count": 20,
     "metadata": {},
     "output_type": "execute_result"
    }
   ],
   "source": [
    "a -= 5\n",
    "a"
   ]
  },
  {
   "cell_type": "markdown",
   "metadata": {},
   "source": [
    "|複合代入演算子の例|同一の意味を持つ命令|\n",
    "|---|---|\n",
    "|a += 1|a = a + 1|\n",
    "|a -= 5|a = a - 5|\n",
    "|a \\*= 10|a = a \\* 10|\n",
    "|a /= 3|a = a / 3|"
   ]
  },
  {
   "cell_type": "markdown",
   "metadata": {},
   "source": [
    "## 値の変わらない定数\n",
    "- 目的の分からない値のことを「マジックナンバー」と呼ぶ\n",
    "- マジックナンバーやプログラムのパラメータ（例えば処理を何秒おきに呼び出すか）などは「定数」で宣言するのが一般的\n",
    "- 定数は「大文字英数字とアンダーバーを使う」のが一般的\n",
    "- プログラムファイル内で定数を使っているとパラメータ変更時のコード変更箇所を減らせる\n",
    "- 変数と異なり「定数は内部の値が変化しない」特徴がある"
   ]
  },
  {
   "cell_type": "code",
   "execution_count": 21,
   "metadata": {},
   "outputs": [
    {
     "data": {
      "text/plain": [
       "108.0"
      ]
     },
     "execution_count": 21,
     "metadata": {},
     "output_type": "execute_result"
    }
   ],
   "source": [
    "# 100に1.08をかけている理由がわからない\n",
    "100 * 1.08"
   ]
  },
  {
   "cell_type": "code",
   "execution_count": 22,
   "metadata": {},
   "outputs": [
    {
     "data": {
      "text/plain": [
       "108.0"
      ]
     },
     "execution_count": 22,
     "metadata": {},
     "output_type": "execute_result"
    }
   ],
   "source": [
    "TAX_RATE = 1.08\n",
    "100 * TAX_RATE"
   ]
  },
  {
   "cell_type": "markdown",
   "metadata": {},
   "source": [
    "## コラム：Pythonの定数\n",
    "- 多くのプログラミング言語では定数に値を再代入するとエラーが発生する\n",
    "- Pythonでは定数に再代入してもエラーが発生しない\n",
    "- 実はPythonには文法としての定数はなく、ただの変数に過ぎない。ただし「大文字で宣言された変数は定数として使われる」というのはPythonプログラマの常識なので再代入をすることは避ける必要がある。大文字の変数を定数として使う。"
   ]
  },
  {
   "cell_type": "markdown",
   "metadata": {},
   "source": [
    "## 演習\n",
    "- インタラクティブシェルを立ち上げて、変数abに5を代入し、次に変数cdに10を代入し、最後に変数同士を足し算して結果を確認してください\n",
    "- 変数aに10を代入し、それを複合代入演算子を使ったインクリメントで11にしてください。\n",
    "- 変数と定数の役割の違いについて説明してください\n",
    "- 一般的なPythonの変数名と定数名の命名ルールを説明してください"
   ]
  },
  {
   "cell_type": "code",
   "execution_count": 24,
   "metadata": {},
   "outputs": [
    {
     "data": {
      "text/plain": [
       "15"
      ]
     },
     "execution_count": 24,
     "metadata": {},
     "output_type": "execute_result"
    }
   ],
   "source": [
    "ab = 5\n",
    "cd = 10\n",
    "ab+cd"
   ]
  },
  {
   "cell_type": "code",
   "execution_count": 26,
   "metadata": {},
   "outputs": [
    {
     "data": {
      "text/plain": [
       "11"
      ]
     },
     "execution_count": 26,
     "metadata": {},
     "output_type": "execute_result"
    }
   ],
   "source": [
    "a = 10\n",
    "a += 1\n",
    "a"
   ]
  },
  {
   "cell_type": "code",
   "execution_count": null,
   "metadata": {},
   "outputs": [],
   "source": []
  }
 ],
 "metadata": {
  "kernelspec": {
   "display_name": "Python 3",
   "language": "python",
   "name": "python3"
  },
  "language_info": {
   "codemirror_mode": {
    "name": "ipython",
    "version": 3
   },
   "file_extension": ".py",
   "mimetype": "text/x-python",
   "name": "python",
   "nbconvert_exporter": "python",
   "pygments_lexer": "ipython3",
   "version": "3.7.4"
  }
 },
 "nbformat": 4,
 "nbformat_minor": 4
}
