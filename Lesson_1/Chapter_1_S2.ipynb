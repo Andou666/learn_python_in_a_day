{
 "cells": [
  {
   "cell_type": "markdown",
   "metadata": {},
   "source": [
    "# SECTION 02 Pythonで電卓代わりに計算する\n",
    "- このセクションで学ぶこと\n",
    "    - Pythonの起動方法：Windows、Mac\n",
    "    - Pythonのバージョン\n",
    "    - インタラクティブシェルを操作して計算\n",
    "    - 値（あたい）とは"
   ]
  },
  {
   "cell_type": "markdown",
   "metadata": {},
   "source": [
    "## Windows：PowershellでPythonを起動する\n",
    "- 「インタラクティブシェル」は対話形式でPythonを利用する操作法で「REPL（Read Eval Print Loop）」とも呼ばれる\n",
    "- Windows左下の検索ボックスに「powershell」と入力してPowerShell（コマンドラインアプリ）を起動\n",
    "- Powershellで半角にて「python」と入力することで起動する\n",
    "- インストール時にパスを通し忘れていると「Pythonというコマンドは存在しない」といった旨のエラー。再インストール。"
   ]
  },
  {
   "cell_type": "markdown",
   "metadata": {},
   "source": [
    "## Mac：ターミナルでPythonを起動する\n",
    "- ターミナルアプリケーションを開く\n",
    "- ターミナルで「Python3」と入力して起動\n",
    "- 注意：Macでは「Python」と入力するとPython3ではなくデフォルトでインストールされているPython2が起動する。両者ともPythonだが仕様（文法など）が大きくことなるので注意\n",
    "- 本資料ではWindowsを優先してpython表記とするが、python3と読み替えること"
   ]
  },
  {
   "cell_type": "markdown",
   "metadata": {},
   "source": [
    "## コラム：Pythonとバージョン\n",
    "- バージョン：Python X.Y という形式。Xがメジャーバージョン（Windows7、10などのレベル）でYがマイナーバージョン（リリース時期やパッチなどのレベル）。\n",
    "- Python2：一般普及した最初のメジャーバージョン。新規開発は停止している。バージョン２で開発されたシステムのメンテ作業は2020年代中盤あたりまでは継続することが予想される。日本語の扱いが苦手\n",
    "- Python3：現在普及しているメジャーバージョン。今から学ぶならPython3をやるべき。新規開発も当然ながらPython3を使う\n",
    "- Python2と3は似ているが文法やライブラリが異なる別言語"
   ]
  },
  {
   "cell_type": "markdown",
   "metadata": {},
   "source": [
    "## インタラクティブシェルで足し算、引き算\n",
    "- インタラクティブシェルの挙動\n",
    "    1. 「>>>」に続けて実行したいことを書く\n",
    "    2. Enter(Return) キーを押す\n",
    "    3. Pythonが書かれていることを解釈する\n",
    "    4. Pythonが実行結果を画面に表示する\n",
    "    5. ステップ１に戻る"
   ]
  },
  {
   "cell_type": "code",
   "execution_count": 4,
   "metadata": {},
   "outputs": [
    {
     "data": {
      "text/plain": [
       "8"
      ]
     },
     "execution_count": 4,
     "metadata": {},
     "output_type": "execute_result"
    }
   ],
   "source": [
    "5 + 3"
   ]
  },
  {
   "cell_type": "code",
   "execution_count": 5,
   "metadata": {},
   "outputs": [
    {
     "data": {
      "text/plain": [
       "5"
      ]
     },
     "execution_count": 5,
     "metadata": {},
     "output_type": "execute_result"
    }
   ],
   "source": [
    "7 - 2"
   ]
  },
  {
   "cell_type": "markdown",
   "metadata": {},
   "source": [
    "## インタラクティブシェルで掛け算、割り算、剰余\n",
    "- 足し算（+）引き算（-）は算数と同じ記号を使う\n",
    "- 掛け算には「\\*」記号を使う\n",
    "- 割り算には「/」記号を使う\n",
    "- 剰余（余り。たまに使う）では「%」記号を使う\n",
    "- 算数と同じく小カッコ「()」で計算順序を調整できる"
   ]
  },
  {
   "cell_type": "code",
   "execution_count": 6,
   "metadata": {},
   "outputs": [
    {
     "data": {
      "text/plain": [
       "16"
      ]
     },
     "execution_count": 6,
     "metadata": {},
     "output_type": "execute_result"
    }
   ],
   "source": [
    "4 * 4"
   ]
  },
  {
   "cell_type": "code",
   "execution_count": 7,
   "metadata": {},
   "outputs": [
    {
     "data": {
      "text/plain": [
       "3.5"
      ]
     },
     "execution_count": 7,
     "metadata": {},
     "output_type": "execute_result"
    }
   ],
   "source": [
    "7 / 2"
   ]
  },
  {
   "cell_type": "code",
   "execution_count": 8,
   "metadata": {},
   "outputs": [
    {
     "data": {
      "text/plain": [
       "1"
      ]
     },
     "execution_count": 8,
     "metadata": {},
     "output_type": "execute_result"
    }
   ],
   "source": [
    "31 % 2"
   ]
  },
  {
   "cell_type": "code",
   "execution_count": 9,
   "metadata": {},
   "outputs": [
    {
     "data": {
      "text/plain": [
       "11"
      ]
     },
     "execution_count": 9,
     "metadata": {},
     "output_type": "execute_result"
    }
   ],
   "source": [
    "5 + 2 * 3"
   ]
  },
  {
   "cell_type": "code",
   "execution_count": 10,
   "metadata": {},
   "outputs": [
    {
     "data": {
      "text/plain": [
       "21"
      ]
     },
     "execution_count": 10,
     "metadata": {},
     "output_type": "execute_result"
    }
   ],
   "source": [
    "(5 + 2) * 3"
   ]
  },
  {
   "cell_type": "markdown",
   "metadata": {},
   "source": [
    "## 値（あたい）とは\n",
    "- 「値（あたい）」はPythonが扱うデータのこと。英語ではvalue。\n",
    "- たとえば数字の4や5\n",
    "- たとえばテキスト（文字列と呼ばれる）のHello\n",
    "- 今後学ぶ様々な種類のデータも値"
   ]
  },
  {
   "cell_type": "markdown",
   "metadata": {},
   "source": [
    "## 演習\n",
    "- インタラクティブシェルを立ち上げて、「10×2」の計算を実施してください\n",
    "- 「5÷2」の計算を実施してください\n",
    "- 「5+2\\*2」と「(5+2)*2」の計算結果の違いを確認し、なぜ結果が異なるか説明してください\n",
    "- Python2とPython3の違いについて説明してください"
   ]
  },
  {
   "cell_type": "code",
   "execution_count": 12,
   "metadata": {},
   "outputs": [
    {
     "data": {
      "text/plain": [
       "20"
      ]
     },
     "execution_count": 12,
     "metadata": {},
     "output_type": "execute_result"
    }
   ],
   "source": [
    "10 * 2"
   ]
  },
  {
   "cell_type": "code",
   "execution_count": 13,
   "metadata": {},
   "outputs": [
    {
     "data": {
      "text/plain": [
       "2.5"
      ]
     },
     "execution_count": 13,
     "metadata": {},
     "output_type": "execute_result"
    }
   ],
   "source": [
    "5 / 2"
   ]
  },
  {
   "cell_type": "code",
   "execution_count": 14,
   "metadata": {},
   "outputs": [
    {
     "data": {
      "text/plain": [
       "9"
      ]
     },
     "execution_count": 14,
     "metadata": {},
     "output_type": "execute_result"
    }
   ],
   "source": [
    "5 + 2 * 2"
   ]
  },
  {
   "cell_type": "code",
   "execution_count": 15,
   "metadata": {},
   "outputs": [
    {
     "data": {
      "text/plain": [
       "14"
      ]
     },
     "execution_count": 15,
     "metadata": {},
     "output_type": "execute_result"
    }
   ],
   "source": [
    "(5 + 2) * 2"
   ]
  },
  {
   "cell_type": "code",
   "execution_count": null,
   "metadata": {},
   "outputs": [],
   "source": []
  }
 ],
 "metadata": {
  "kernelspec": {
   "display_name": "Python 3",
   "language": "python",
   "name": "python3"
  },
  "language_info": {
   "codemirror_mode": {
    "name": "ipython",
    "version": 3
   },
   "file_extension": ".py",
   "mimetype": "text/x-python",
   "name": "python",
   "nbconvert_exporter": "python",
   "pygments_lexer": "ipython3",
   "version": "3.7.4"
  }
 },
 "nbformat": 4,
 "nbformat_minor": 4
}
