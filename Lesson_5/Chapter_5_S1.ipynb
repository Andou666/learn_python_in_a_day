{
 "cells": [
  {
   "cell_type": "markdown",
   "metadata": {},
   "source": [
    "## SECTION 01 クラスの仕組みと設計⽅法を知る\n",
    "- このセクションで学ぶこと\n",
    "  - クラスとは\n",
    "  - この章の学習の流れ\n",
    "  - クラスとメソッドを定義する\n",
    "  - ⾃分で定義したクラスのインスタンスを作成\n",
    "  - メソッド定義の第⼀引数selfは⾃動で代⼊される\n",
    "  - クラスの命名規則\n",
    "  - インスタンス変数\n",
    "  - コンストラクタでのインスタンス変数の定義\n",
    "  - メソッド間のインスタンス変数の共有\n",
    "  - インスタンス変数の外部からの参照"
   ]
  },
  {
   "cell_type": "markdown",
   "metadata": {},
   "source": [
    "## クラスとは\n",
    "- 複雑なデータと処理をまとめるための⽂法\n",
    "- クラスを使わないとプログラムが⼤規模化した際に「どの関数がどのデータを使うか」を管理しにくくなる\n",
    "- クラスで枠を作ることで構造をプログラマに強制する"
   ]
  },
  {
   "cell_type": "markdown",
   "metadata": {},
   "source": [
    "この章の学習の流れ\n",
    "- クラスの概念の理解は難所のため、以下の順を追って学ぶ\n",
    "  1. Section1 : クラスとメソッドの定義⽅法\n",
    "  2. Section1 : クラスをインスタンス化する⽅法\n",
    "  3. Section1 : データ(インスタンス変数)の定義\n",
    "  4. Section2 : クラスの有無によるプログラムの⽐較\n",
    "  5. Section3 : その他のトピック"
   ]
  },
  {
   "cell_type": "markdown",
   "metadata": {},
   "source": [
    "## クラスとメソッドを定義する\n",
    "- classに続けてクラス名を書く\n",
    "- classのブロック内にメソッドを関数と同じくdefで定義\n",
    "- メソッドの第⼀引数は常に「self」とする"
   ]
  },
  {
   "cell_type": "code",
   "execution_count": 1,
   "metadata": {},
   "outputs": [],
   "source": [
    "class MyClass:\n",
    "    def plus(self, a, b):\n",
    "        return a + b\n",
    "    def minus(self, a, b):\n",
    "        return a - b"
   ]
  },
  {
   "cell_type": "markdown",
   "metadata": {},
   "source": [
    "## ⾃分で定義したクラスのインスタンスを作成\n",
    "- 「クラス名()」でインスタンス化をおこなう\n",
    "- インスタンス.メソッド名()でメソッドの呼び出しを⾏なう\n",
    "- 呼び出し側で引数selfに相当するものを与えていない(後述)"
   ]
  },
  {
   "cell_type": "code",
   "execution_count": 2,
   "metadata": {},
   "outputs": [
    {
     "name": "stdout",
     "output_type": "stream",
     "text": [
      "8\n",
      "2\n"
     ]
    }
   ],
   "source": [
    "class MyClass:\n",
    "    def plus(self, a, b):\n",
    "        return a + b\n",
    "    def minus(self, a, b):\n",
    "        return a - b\n",
    "\n",
    "myclass = MyClass()\n",
    "a = myclass.plus(5, 3)\n",
    "print(a)\n",
    "b = myclass.minus(5, 3)\n",
    "print(b)"
   ]
  },
  {
   "cell_type": "markdown",
   "metadata": {},
   "source": [
    "## メソッド定義の第⼀引数selfは⾃動で代⼊される\n",
    "- 引数の数の違い\n",
    "  - クラスでの定義: 3つ。 下図のminusは「self, a, b」\n",
    "  - メソッドで与える数: 2つ。数のminusは「7, 5」\n",
    "- Pythonのクラスでのメソッド定義のルール\n",
    "  - 第⼀引数はselfとする\n",
    "  - selfにはインスタンス⾃⾝が代⼊されている(利⽤法は後述)"
   ]
  },
  {
   "cell_type": "markdown",
   "metadata": {},
   "source": [
    "## クラスの命名規則\n",
    "- 単語の区切りを⼤⽂字にする\n",
    "- クラス名の例\n",
    "  - MyClass\n",
    "  - User\n",
    "  - BingoMachine\n",
    "- この命名ルールは⼀般的に「キャメルケース」と呼ばれる。キャメルはラクダで、⼤⽂字⼩⽂字の連なりがラクダのコブのようにぼこぼこしているため"
   ]
  },
  {
   "cell_type": "markdown",
   "metadata": {},
   "source": [
    "## インスタンス変数\n",
    "- 「インスタンス変数」は同⼀インスタンスのメソッド間で共有される変数\n",
    "- インスタンス変数はインスタンスごとに独⽴している\n",
    "- 同⼀クラスから作られた複数インスタンスの差はインスタンス変数のみ。メソッドの処理などに違いはない"
   ]
  },
  {
   "cell_type": "markdown",
   "metadata": {},
   "source": [
    "## コンストラクタでのインスタンス変数の定義\n",
    "- Pythonでインスタンス変数を定義するのは「コンストラクタ」\n",
    "- コンストラクタは特殊なメソッドで「__init__(self, 初期化のための引数)」とし、処理でインスタンス変数の初期化を書く\n",
    "- 「self.インスタンス変数名 = 初期価値」として変数定義\n",
    "- コンストラクタはクラスのインスタンス化時に呼び出される"
   ]
  },
  {
   "cell_type": "code",
   "execution_count": 3,
   "metadata": {},
   "outputs": [
    {
     "name": "stdout",
     "output_type": "stream",
     "text": [
      "name:ana\n",
      "age:30\n"
     ]
    }
   ],
   "source": [
    "class User:\n",
    "    def __init__(self, x, y):\n",
    "        self.name = x\n",
    "        self.age = y\n",
    "    def dump(self):\n",
    "        print('name:{}'.format(self.name))\n",
    "        print('age:{}'.format(self.age))\n",
    "ana = User('ana', 30)\n",
    "ana.dump()"
   ]
  },
  {
   "cell_type": "markdown",
   "metadata": {},
   "source": [
    "## メソッド間のインスタンス変数の共有\n",
    "- メソッドの第⼀引数 selfはオブジェクト⾃⾝\n",
    "- コンストラクタ内で⾃分⾃⾝にインスタンス変数を追加(定義)\n",
    "- メソッド内で⾃分⾃⾝が持つ変数にアクセス(read/write)"
   ]
  },
  {
   "cell_type": "markdown",
   "metadata": {},
   "source": [
    "## インスタンス変数の外部からの参照\n",
    "- インスタンス変数はメソッド内部だけでなく「インスタンス.インスタンス変数名」としても参照できる\n",
    "- この利⽤法はJavaなどでは⾮推奨とされるがPythonは問題ないので不必要なセッターやゲッターは作らないこと"
   ]
  },
  {
   "cell_type": "code",
   "execution_count": 4,
   "metadata": {},
   "outputs": [
    {
     "name": "stdout",
     "output_type": "stream",
     "text": [
      "ana\n",
      "30\n"
     ]
    }
   ],
   "source": [
    "class User:\n",
    "    def __init__(self, x, y):\n",
    "        self.name = x\n",
    "        self.age = y\n",
    "    def dump(self):\n",
    "        print('name:{}'.format(self.name))\n",
    "        print('age:{}'.format(self.age))\n",
    "\n",
    "ana = User('ana', 30)\n",
    "print(ana.name)\n",
    "print(ana.age)"
   ]
  },
  {
   "cell_type": "markdown",
   "metadata": {},
   "source": [
    "## 演習\n",
    "- 以下のクラスを作成してください\n",
    "  - クラス名: User\n",
    "  - 以下のインスタンス変数を持ち、コンストラクタで初期化\n",
    "    - id\n",
    "    - name\n",
    "    - address\n",
    "  - 以下のメソッドを持つ\n",
    "    - dumps: ⽂字列のformatメソッドを使ってCSV形式で「id, name, address」を⽂字列で返す\n",
    "  - 上記クラスをインスタンス化してdumpsの結果を出⼒する"
   ]
  },
  {
   "cell_type": "code",
   "execution_count": 6,
   "metadata": {},
   "outputs": [
    {
     "name": "stdout",
     "output_type": "stream",
     "text": [
      "0, test, test\n",
      "None\n"
     ]
    }
   ],
   "source": [
    "class User:\n",
    "    def __init__(self, id, name, address):\n",
    "        self.id = id\n",
    "        self.name = name\n",
    "        self.address = address\n",
    "    def dumps(self):\n",
    "        print('{}, {}, {}'.format(self.id, self.name, self.address))\n",
    "\n",
    "user = User(0, 'test', 'test')\n",
    "print(user.dumps())"
   ]
  },
  {
   "cell_type": "code",
   "execution_count": null,
   "metadata": {},
   "outputs": [],
   "source": []
  }
 ],
 "metadata": {
  "kernelspec": {
   "display_name": "Python 3",
   "language": "python",
   "name": "python3"
  },
  "language_info": {
   "codemirror_mode": {
    "name": "ipython",
    "version": 3
   },
   "file_extension": ".py",
   "mimetype": "text/x-python",
   "name": "python",
   "nbconvert_exporter": "python",
   "pygments_lexer": "ipython3",
   "version": "3.7.4"
  }
 },
 "nbformat": 4,
 "nbformat_minor": 4
}
