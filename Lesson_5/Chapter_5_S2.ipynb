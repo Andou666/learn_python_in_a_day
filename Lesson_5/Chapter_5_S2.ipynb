{
 "cells": [
  {
   "cell_type": "markdown",
   "metadata": {},
   "source": [
    "# SECTION 02 クラスの必要性を理解する\n",
    "- このセクションで学ぶこと\n",
    "  - ⽐較題材のプログラムについて\n",
    "  - クラスを使わないプログラムの実装\n",
    "  - 中級者向け: 関数内での参照と代⼊の違い\n",
    "  - クラスを使わないプログラムの実⾏\n",
    "  - クラスを使うプログラムの実装\n",
    "  - なぜクラスが必要か\n",
    "  - インスタンスに閉じた副作⽤を使う\n",
    "  - 正しいクラスの設計ができたら中級者"
   ]
  },
  {
   "cell_type": "markdown",
   "metadata": {},
   "source": [
    "## ⽐較題材のプログラムについて\n",
    "- クラスを使うべき理由を具体例(ビンゴマシーン)で確認する\n",
    "- 仕組み\n",
    "  - 1-99の番号が振られたボールをランダムに抽出する\n",
    "  - 同じボールは⼀度しか出ない\n",
    "  - 全てのボールがなくなったら終了"
   ]
  },
  {
   "cell_type": "markdown",
   "metadata": {},
   "source": [
    "## クラスを使わないプログラムの実装\n",
    "- ビンゴを実現する関数\n",
    "  - initialize: 1-99のボール揃える\n",
    "  - get_ball: ランダムにボールを取り出す(ランダム操作は6章)\n",
    "  - has_ball: まだボールがあるか確認\n",
    "- プログラムの問題: 引数経由でしかデータ共有ができない"
   ]
  },
  {
   "cell_type": "code",
   "execution_count": 1,
   "metadata": {},
   "outputs": [
    {
     "name": "stdout",
     "output_type": "stream",
     "text": [
      "1\n",
      "21\n",
      "36\n",
      "17\n",
      "20\n",
      "55\n",
      "25\n",
      "70\n",
      "48\n",
      "23\n",
      "19\n",
      "89\n",
      "22\n",
      "9\n",
      "80\n",
      "44\n",
      "3\n",
      "68\n",
      "49\n",
      "60\n",
      "82\n",
      "40\n",
      "64\n",
      "88\n",
      "91\n",
      "34\n",
      "61\n",
      "29\n",
      "75\n",
      "35\n",
      "24\n",
      "51\n",
      "16\n",
      "45\n",
      "63\n",
      "65\n",
      "10\n",
      "50\n",
      "96\n",
      "7\n",
      "8\n",
      "99\n",
      "41\n",
      "28\n",
      "87\n",
      "76\n",
      "39\n",
      "32\n",
      "15\n",
      "6\n",
      "2\n",
      "47\n",
      "33\n",
      "57\n",
      "46\n",
      "90\n",
      "59\n",
      "52\n",
      "67\n",
      "37\n",
      "79\n",
      "97\n",
      "54\n",
      "30\n",
      "26\n",
      "11\n",
      "73\n",
      "71\n",
      "98\n",
      "62\n",
      "31\n",
      "86\n",
      "84\n",
      "72\n",
      "66\n",
      "14\n",
      "81\n",
      "18\n",
      "27\n",
      "69\n",
      "42\n",
      "95\n",
      "53\n",
      "74\n",
      "5\n",
      "12\n",
      "77\n",
      "92\n",
      "83\n",
      "93\n",
      "43\n",
      "85\n",
      "78\n",
      "58\n",
      "38\n",
      "56\n",
      "4\n",
      "94\n",
      "13\n"
     ]
    }
   ],
   "source": [
    "import random # ランダムな機能を使うという宣⾔\n",
    "def initialize(balls1):\n",
    "    balls1.clear() # リストを空にする\n",
    "    balls1.extend(list(range(1, 100))) # リストに1-99を⼊れる\n",
    "def get_ball(balls1):\n",
    "    random.shuffle(balls1) # リストをランダムに並べ替える\n",
    "    return balls1.pop()\n",
    "def has_ball(balls1):\n",
    "    return len(balls1) != 0\n",
    "balls2 = []\n",
    "initialize(balls2)\n",
    "# ボールがあればビンゴを回す\n",
    "while has_ball(balls2):\n",
    "    print(get_ball(balls2))"
   ]
  },
  {
   "cell_type": "markdown",
   "metadata": {},
   "source": [
    "## 中級者向け: 関数内での参照と代⼊の違い\n",
    "- さきほどのinitializeで引数balls1にリストを代⼊すると失敗する\n",
    "- 引数をextendメソッドで参照して要素変更すると成功\n",
    "- 深いレベルの知識(ポインタの概念)を理解していないと間違える"
   ]
  },
  {
   "cell_type": "markdown",
   "metadata": {},
   "source": [
    "クラスを使わないプログラムの実⾏\n",
    "-  2セル前の正しいプログラム\n",
    "-  下記参照ではなく代⼊する誤ったプログラム"
   ]
  },
  {
   "cell_type": "code",
   "execution_count": 2,
   "metadata": {},
   "outputs": [],
   "source": [
    "import random # ランダムな機能を使うという宣言（詳細は第6章）\n",
    "\n",
    "def initialize(balls1):\n",
    "    balls1 = list(range(1, 100))\n",
    "\n",
    "def get_ball(balls1):\n",
    "    random.shuffle(balls1) # リストをランダムに並べ替える\n",
    "    return balls1.pop()\n",
    "\n",
    "def has_ball(balls1):\n",
    "    return len(balls1) != 0\n",
    "\n",
    "balls2 = []\n",
    "initialize(balls2)\n",
    "while has_ball(balls2): # ボールがあればビンゴを回す\n",
    "    print(get_ball(balls2))"
   ]
  },
  {
   "cell_type": "markdown",
   "metadata": {},
   "source": [
    "## クラスを使うプログラムの実装 (1/2)\n",
    "- クラスを使うことでメソッド間でデータ(ビンゴのボール)をインスタンス変数として共有できる\n",
    "- あるメソッドでの変更(たとえば初期化や取り出し)が、別のメソッドでも反映される"
   ]
  },
  {
   "cell_type": "code",
   "execution_count": 4,
   "metadata": {},
   "outputs": [
    {
     "name": "stdout",
     "output_type": "stream",
     "text": [
      "6\n",
      "20\n",
      "4\n",
      "36\n",
      "62\n",
      "73\n",
      "68\n",
      "25\n",
      "5\n",
      "74\n",
      "37\n",
      "63\n",
      "46\n",
      "83\n",
      "50\n",
      "30\n",
      "10\n",
      "11\n",
      "24\n",
      "60\n",
      "7\n",
      "2\n",
      "45\n",
      "40\n",
      "1\n",
      "85\n",
      "90\n",
      "42\n",
      "84\n",
      "78\n",
      "31\n",
      "35\n",
      "48\n",
      "88\n",
      "34\n",
      "17\n",
      "99\n",
      "56\n",
      "57\n",
      "12\n",
      "72\n",
      "33\n",
      "9\n",
      "64\n",
      "80\n",
      "53\n",
      "29\n",
      "92\n",
      "69\n",
      "39\n",
      "91\n",
      "70\n",
      "47\n",
      "58\n",
      "81\n",
      "86\n",
      "43\n",
      "61\n",
      "65\n",
      "77\n",
      "28\n",
      "54\n",
      "98\n",
      "79\n",
      "26\n",
      "89\n",
      "44\n",
      "15\n",
      "38\n",
      "97\n",
      "71\n",
      "18\n",
      "22\n",
      "75\n",
      "66\n",
      "95\n",
      "87\n",
      "82\n",
      "94\n",
      "16\n",
      "55\n",
      "14\n",
      "51\n",
      "93\n",
      "32\n",
      "76\n",
      "13\n",
      "52\n",
      "27\n",
      "41\n",
      "21\n",
      "49\n",
      "3\n",
      "96\n",
      "23\n",
      "19\n",
      "8\n",
      "67\n",
      "59\n"
     ]
    }
   ],
   "source": [
    "import random\n",
    "class Bingo:\n",
    "    def __init__(self):\n",
    "        self.balls = list(range(1, 100))\n",
    "    def get_ball(self):\n",
    "        random.shuffle(self.balls)\n",
    "        return self.balls.pop()\n",
    "    def has_ball(self):\n",
    "        return len(self.balls) != 0\n",
    "bingo = Bingo()\n",
    "while bingo.has_ball():\n",
    "    print(bingo.get_ball())"
   ]
  },
  {
   "cell_type": "markdown",
   "metadata": {},
   "source": [
    "## クラスを使うプログラムの実装\n",
    "- 初⼼者にはクラスという⽂法で難しく⾒えるかもしれない\n",
    "- 処理(メソッド)間で「データ(インスタンス変数)を共有すること」が簡単になる\n",
    "- 難しい参照と代⼊の違いを意識しないでも動く"
   ]
  },
  {
   "cell_type": "markdown",
   "metadata": {},
   "source": [
    "## なぜクラスが必要か\n",
    "- 複雑なプログラムを構造化することで、データや制御の流れをシンプルにできるため。難しさをクラス内に押し込める\n",
    "- 逆に⾔えばシンプルなプログラムではクラスを使わなくてもよい\n",
    "\n",
    "|⽐較項⽬| クラスなし| クラスあり|\n",
    "|---|---|---|\n",
    "|⽂法| シンプル| 複雑|\n",
    "|変数と関数| 同じ空間上に多数存在| クラス内の数は少ない|\n",
    "|データの共有| 難しい| メソッド間はインスタンス変数を使えば簡単|\n",
    "|データ構造の定義| タプルやリストなどの組み合わせ| クラスで構造を定義し、新しい型を作れる|\n",
    "|初期化処理| ⾃分で任意で実⾏| コンストラクタで⾃動で実施|\n",
    "|副作⽤の利⽤| 管理しにくいので避けるべき| クラス内では積極的に使うべき|\n",
    "|デバッグ| しにくい| 整理されているためやりやすい|\n",
    "|総合判断| 単純なプログラム向け| 複雑なプログラムでは必須|\n",
    "\n",
    "気になる⼈は「カプセル化」というキーワードで調べてみるとよいかも"
   ]
  },
  {
   "cell_type": "markdown",
   "metadata": {},
   "source": [
    "## インスタンスに閉じた副作⽤を使う\n",
    "- ⼀般的にプログラミングでは副作⽤(3章)を減らすのが望ましい\n",
    "- ただしインスタンス内の変数にたいしては例外\n",
    "  - プログラムの影響範囲がクラス定義内と限定的\n",
    "  - 外部の複雑さをクラス内に押し込むことで全体を綺麗にする\n",
    "  - インスタンスを使う側が簡単に使えることを最も優先する"
   ]
  },
  {
   "cell_type": "markdown",
   "metadata": {},
   "source": [
    "## 正しいクラスの設計ができたら中級者\n",
    "- オブジェクト指向のクラスの⽂法は頑張れば覚えられる\n",
    "- 正しいオブジェクト指向の設計は勉強だけでなく経験が必要\n",
    "- 上級者でも設計変更は発⽣するので完璧なものを最初から作ろうとするのではなく、作って修正を繰り返して慣れるのがよい"
   ]
  },
  {
   "cell_type": "markdown",
   "metadata": {},
   "source": [
    "## 演習\n",
    "- テキストを追加するクラスを作成してください\n",
    "- インスタンス変数 self.text = “”をコンストラクタで定義\n",
    "- メソッドadd_text: インスタンス変数self.textに引数のテキストを追加"
   ]
  },
  {
   "cell_type": "code",
   "execution_count": 15,
   "metadata": {},
   "outputs": [
    {
     "name": "stdout",
     "output_type": "stream",
     "text": [
      "hello\n",
      "hello world\n"
     ]
    },
    {
     "data": {
      "text/plain": [
       "'hello world'"
      ]
     },
     "execution_count": 15,
     "metadata": {},
     "output_type": "execute_result"
    }
   ],
   "source": [
    "class TextAdder():\n",
    "    def __init__(self, text=\"\"):\n",
    "        self.text = text\n",
    "    def add_text(self, text):\n",
    "        self.text += text\n",
    "        print(self.text)\n",
    "\n",
    "ta = TextAdder()\n",
    "ta.text\n",
    "ta.add_text('hello')\n",
    "ta.text\n",
    "ta.add_text(' world')\n",
    "ta.text"
   ]
  },
  {
   "cell_type": "markdown",
   "metadata": {},
   "source": [
    "## 演習\n",
    "- ⽂字の出現数(空⽩を含む)をカウントするクラスを作成してください\n",
    "- コンストラクタ: 引数はselfのみでインスタンス変数 self.char_counterに{}を設定する\n",
    "- メソッド\n",
    "  - add_text: 引数はselfとtext(⽂字列)で、メソッド内でtextを1⽂字ごとforループで回す。出現する⽂字を self.char_counterで数える(ヒント: dictのgetメソッドと初期値を使うと実装が簡単)\n",
    "  - get_counts: インスタンス変数 self.char_counter の値を返す。"
   ]
  },
  {
   "cell_type": "code",
   "execution_count": null,
   "metadata": {},
   "outputs": [],
   "source": []
  }
 ],
 "metadata": {
  "kernelspec": {
   "display_name": "Python 3",
   "language": "python",
   "name": "python3"
  },
  "language_info": {
   "codemirror_mode": {
    "name": "ipython",
    "version": 3
   },
   "file_extension": ".py",
   "mimetype": "text/x-python",
   "name": "python",
   "nbconvert_exporter": "python",
   "pygments_lexer": "ipython3",
   "version": "3.7.4"
  }
 },
 "nbformat": 4,
 "nbformat_minor": 4
}
