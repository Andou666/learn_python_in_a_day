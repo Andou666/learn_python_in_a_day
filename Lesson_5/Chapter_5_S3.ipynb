{
 "cells": [
  {
   "cell_type": "markdown",
   "metadata": {},
   "source": [
    "# SECTION 03 クラスの⾼度な使い⽅を知る\n",
    "- このセクションで学ぶこと\n",
    "  - クラス変数\n",
    "  - クラスメソッド\n",
    "  - クラスの継承\n",
    "  - コラム: 初⼼者はあまり継承を使わない?"
   ]
  },
  {
   "cell_type": "markdown",
   "metadata": {},
   "source": [
    "## クラス変数\n",
    "- 「クラス変数(定数)」はインスタンスをまたいで共有されるクラスレベルの変数(定数)で、クラス直下に定義する\n",
    "- クラス内で「クラス名.クラス変数名」で参照や代⼊をおこなう"
   ]
  },
  {
   "cell_type": "code",
   "execution_count": 1,
   "metadata": {},
   "outputs": [
    {
     "name": "stdout",
     "output_type": "stream",
     "text": [
      "abc\n",
      "abc\n",
      "hello python\n",
      "hello python\n"
     ]
    }
   ],
   "source": [
    "class MyClass:\n",
    "    abc = 'abc'\n",
    "    DEF_GHI ='def ghi'\n",
    "    def print_abc(self):\n",
    "        print(MyClass.abc)\n",
    "    def set_abc(self, abc):\n",
    "        MyClass.abc = abc\n",
    "a = MyClass()\n",
    "b = MyClass()\n",
    "# クラス変数の変更前\n",
    "a.print_abc()\n",
    "b.print_abc()\n",
    "# クラス変数の変更後\n",
    "a.set_abc('hello python')\n",
    "a.print_abc()\n",
    "b.print_abc()"
   ]
  },
  {
   "cell_type": "markdown",
   "metadata": {},
   "source": [
    "## クラスメソッド\n",
    "- 「クラスメソッド」はクラス外から直接「クラス名.メソッド名()」として呼び出せる特別なメソッド\n",
    "- メソッド前に「@classmethod」と「アノテーション」を加える\n",
    "- クラスメソッド内でインスタンス変数や通常のメソッドは使えない\n",
    "- メソッド呼び出し可否のまとめ\n",
    "  - インスタンスでクラスメソッド: 呼び出せる\n",
    "  - インスタンスで通常メソッド: 呼び出せる\n",
    "  - クラス名でクラスメソッド: 呼び出せる\n",
    "  - クラス名で通常メソッド: 呼び出せない(下記エラー)\n",
    "- クラスメソッドに似た「スタティックメソッド」もある(割愛)"
   ]
  },
  {
   "cell_type": "code",
   "execution_count": 5,
   "metadata": {},
   "outputs": [
    {
     "name": "stdout",
     "output_type": "stream",
     "text": [
      "class method\n",
      "instance method\n",
      "class method\n"
     ]
    },
    {
     "ename": "TypeError",
     "evalue": "method2() missing 1 required positional argument: 'self'",
     "output_type": "error",
     "traceback": [
      "\u001b[1;31m---------------------------------------------------------------------------\u001b[0m",
      "\u001b[1;31mTypeError\u001b[0m                                 Traceback (most recent call last)",
      "\u001b[1;32m<ipython-input-5-1ede291e26ab>\u001b[0m in \u001b[0;36m<module>\u001b[1;34m\u001b[0m\n\u001b[0;32m     17\u001b[0m \u001b[1;31m# インスタンス化せずにメソッドを呼び出す\u001b[0m\u001b[1;33m\u001b[0m\u001b[1;33m\u001b[0m\u001b[1;33m\u001b[0m\u001b[0m\n\u001b[0;32m     18\u001b[0m \u001b[0mMyClass\u001b[0m\u001b[1;33m.\u001b[0m\u001b[0mmethod1\u001b[0m\u001b[1;33m(\u001b[0m\u001b[1;33m)\u001b[0m\u001b[1;33m\u001b[0m\u001b[1;33m\u001b[0m\u001b[0m\n\u001b[1;32m---> 19\u001b[1;33m \u001b[0mMyClass\u001b[0m\u001b[1;33m.\u001b[0m\u001b[0mmethod2\u001b[0m\u001b[1;33m(\u001b[0m\u001b[1;33m)\u001b[0m\u001b[1;33m\u001b[0m\u001b[1;33m\u001b[0m\u001b[0m\n\u001b[0m",
      "\u001b[1;31mTypeError\u001b[0m: method2() missing 1 required positional argument: 'self'"
     ]
    }
   ],
   "source": [
    "class MyClass:\n",
    "    def __init__(self):\n",
    "        self.a = 'aaa'\n",
    "\n",
    "    @classmethod\n",
    "    def method1(cls):\n",
    "        print('class method')\n",
    "\n",
    "    def method2(self):\n",
    "        print('instance method')\n",
    "\n",
    "# インスタンス化してからメソッドを呼び出す\n",
    "mc = MyClass()\n",
    "mc.method1()\n",
    "mc.method2()\n",
    "\n",
    "# インスタンス化せずにメソッドを呼び出す\n",
    "MyClass.method1()\n",
    "MyClass.method2()"
   ]
  },
  {
   "cell_type": "markdown",
   "metadata": {},
   "source": [
    "## クラスの継承\n",
    "- 「継承」はクラスAの特徴をクラスBに引き継がせる機能\n",
    "- 承元を「親クラス」、親を継承する側を「⼦クラス」と呼ぶ\n",
    "- 本機能を持つ親クラスを⼦クラスが継承して拡張する使い⽅\n",
    "- クラスのクラス名の後のカッコに親クラス名を書く"
   ]
  },
  {
   "cell_type": "code",
   "execution_count": 7,
   "metadata": {},
   "outputs": [
    {
     "name": "stdout",
     "output_type": "stream",
     "text": [
      "child method\n",
      "parent method\n"
     ]
    }
   ],
   "source": [
    "class ParentClass:\n",
    "    def method1(self):\n",
    "        print('parent method')\n",
    "        \n",
    "class ChildClass(ParentClass):\n",
    "    def method2(self):\n",
    "        print('child method')\n",
    "        \n",
    "cc = ChildClass()\n",
    "cc.method2()\n",
    "cc.method1()\n"
   ]
  },
  {
   "cell_type": "markdown",
   "metadata": {},
   "source": [
    "## コラム: 初⼼者はあまり継承を使わない?\n",
    "- クラスAにクラスBの機能を取り込む際に何も考えずに継承を使うのは間違った使い⽅。継承は「Reader -> TextReader,ImageReader」といったように親を⼦がより詳細化する際に使う\n",
    "- 単純に機能だけを使いたければクラスA内でクラスBを使えばよい\n",
    "- 別クラスの機能を取り込むことを「委譲(デリゲーション)」という"
   ]
  },
  {
   "cell_type": "code",
   "execution_count": 8,
   "metadata": {},
   "outputs": [
    {
     "name": "stdout",
     "output_type": "stream",
     "text": [
      "hello\n"
     ]
    }
   ],
   "source": [
    "class ClassA:\n",
    "    def __init__(self):\n",
    "        self.class_b = ClassB()\n",
    "    def use_class_b(self):\n",
    "        self.class_b.print_hello()\n",
    "class ClassB:\n",
    "    def print_hello(self):\n",
    "        print('hello')\n",
    "class_a = ClassA()\n",
    "class_a.use_class_b()"
   ]
  },
  {
   "cell_type": "markdown",
   "metadata": {},
   "source": [
    "## 演習\n",
    "- 継承とデリゲーションの使い所について説明してください\n",
    "- Pythonのアノテーションがなにか、他にどのようなものがあるか調べてみてください"
   ]
  },
  {
   "cell_type": "code",
   "execution_count": null,
   "metadata": {},
   "outputs": [],
   "source": []
  }
 ],
 "metadata": {
  "kernelspec": {
   "display_name": "Python 3",
   "language": "python",
   "name": "python3"
  },
  "language_info": {
   "codemirror_mode": {
    "name": "ipython",
    "version": 3
   },
   "file_extension": ".py",
   "mimetype": "text/x-python",
   "name": "python",
   "nbconvert_exporter": "python",
   "pygments_lexer": "ipython3",
   "version": "3.7.4"
  }
 },
 "nbformat": 4,
 "nbformat_minor": 4
}
