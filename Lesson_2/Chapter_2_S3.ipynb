{
 "cells": [
  {
   "cell_type": "markdown",
   "metadata": {},
   "source": [
    "# SECTION 03 ループ処理で繰り返しを記述する\n",
    "- このセクションで学ぶこと\n",
    "    - リストのデータを準備する\n",
    "    - リストのデータを取り出す\n",
    "    - リストのデータを上書きする\n",
    "    - リスト⻑を取得する\n",
    "    - リストのデータをまとめて処理するforループ\n",
    "    - Breakによるループ打ち切り\n",
    "    - Continueによるループの周回スキップ\n",
    "    - Continueの便利な利⽤法\n",
    "    - 条件が満たされる間はループを繰り返すwhile⽂"
   ]
  },
  {
   "cell_type": "markdown",
   "metadata": {},
   "source": [
    "## リストのデータを準備する\n",
    "- Pythonのループでは「リスト型」の値をよくつかう\n",
    "- リスト型は⼀覧(リスト)となっているデータを扱うための型\n",
    "- 「要素」はリストの中⾝のデータ(数値や⽂字列など)のこと\n",
    "- リストの要素には順序がある"
   ]
  },
  {
   "cell_type": "code",
   "execution_count": 1,
   "metadata": {},
   "outputs": [
    {
     "data": {
      "text/plain": [
       "['taro', 'jiro', 'saburo']"
      ]
     },
     "execution_count": 1,
     "metadata": {},
     "output_type": "execute_result"
    }
   ],
   "source": [
    "['taro', 'jiro', 'saburo']"
   ]
  },
  {
   "cell_type": "code",
   "execution_count": 2,
   "metadata": {},
   "outputs": [
    {
     "data": {
      "text/plain": [
       "[]"
      ]
     },
     "execution_count": 2,
     "metadata": {},
     "output_type": "execute_result"
    }
   ],
   "source": [
    "[]"
   ]
  },
  {
   "cell_type": "code",
   "execution_count": 4,
   "metadata": {},
   "outputs": [
    {
     "name": "stdout",
     "output_type": "stream",
     "text": [
      "['taro', 'jiro', 'saburo']\n"
     ]
    }
   ],
   "source": [
    "a = ['taro', 'jiro', 'saburo']\n",
    "# リスト内の要素の順序は保たれる\n",
    "print(a)"
   ]
  },
  {
   "cell_type": "markdown",
   "metadata": {},
   "source": [
    "## リストのデータを取り出す\n",
    "- リスト内のデータは前⽅から0,1,2と数える。1からではなく0から数え始めるので注意\n",
    "- 要素の順番のことを「インデックス番号」と呼ぶ\n",
    "- 「リスト[インデックス番号]」とすると、指定したインデックス番号の要素が取り出される。取り出されてもなくならない"
   ]
  },
  {
   "cell_type": "code",
   "execution_count": 5,
   "metadata": {},
   "outputs": [
    {
     "data": {
      "text/plain": [
       "'taro'"
      ]
     },
     "execution_count": 5,
     "metadata": {},
     "output_type": "execute_result"
    }
   ],
   "source": [
    "a = ['taro', 'jiro', 'saburo', 10] \n",
    "a[0]"
   ]
  },
  {
   "cell_type": "code",
   "execution_count": 6,
   "metadata": {},
   "outputs": [
    {
     "data": {
      "text/plain": [
       "'saburo'"
      ]
     },
     "execution_count": 6,
     "metadata": {},
     "output_type": "execute_result"
    }
   ],
   "source": [
    "a[2]"
   ]
  },
  {
   "cell_type": "markdown",
   "metadata": {},
   "source": [
    "## リストのデータを上書きする\n",
    "- 「リスト[インデックス番号] = 代⼊する値」という形式でインデックス番号を指定して要素に代⼊することもできる\n",
    "- リストの⻑さを超えたインデックスの参照は取得でも代⼊でもエラーとなる"
   ]
  },
  {
   "cell_type": "code",
   "execution_count": 7,
   "metadata": {},
   "outputs": [
    {
     "name": "stdout",
     "output_type": "stream",
     "text": [
      "['taro', 'hanako', 'saburo', 'adam']\n"
     ]
    }
   ],
   "source": [
    "a = ['taro', 'jiro', 'saburo', 10]\n",
    "a[1] = 'hanako'\n",
    "a[3] = 'adam'\n",
    "print(a)"
   ]
  },
  {
   "cell_type": "code",
   "execution_count": 8,
   "metadata": {},
   "outputs": [
    {
     "ename": "IndexError",
     "evalue": "list index out of range",
     "output_type": "error",
     "traceback": [
      "\u001b[1;31m---------------------------------------------------------------------------\u001b[0m",
      "\u001b[1;31mIndexError\u001b[0m                                Traceback (most recent call last)",
      "\u001b[1;32m<ipython-input-8-cb1f9d28e505>\u001b[0m in \u001b[0;36m<module>\u001b[1;34m\u001b[0m\n\u001b[0;32m      1\u001b[0m \u001b[0ma\u001b[0m \u001b[1;33m=\u001b[0m \u001b[1;33m[\u001b[0m\u001b[1;34m'taro'\u001b[0m\u001b[1;33m,\u001b[0m \u001b[1;34m'jiro'\u001b[0m\u001b[1;33m,\u001b[0m \u001b[1;34m'saburo'\u001b[0m\u001b[1;33m,\u001b[0m \u001b[1;36m10\u001b[0m\u001b[1;33m]\u001b[0m\u001b[1;33m\u001b[0m\u001b[1;33m\u001b[0m\u001b[0m\n\u001b[1;32m----> 2\u001b[1;33m \u001b[0ma\u001b[0m\u001b[1;33m[\u001b[0m\u001b[1;36m4\u001b[0m\u001b[1;33m]\u001b[0m\u001b[1;33m\u001b[0m\u001b[1;33m\u001b[0m\u001b[0m\n\u001b[0m",
      "\u001b[1;31mIndexError\u001b[0m: list index out of range"
     ]
    }
   ],
   "source": [
    "a = ['taro', 'jiro', 'saburo', 10]\n",
    "a[4]"
   ]
  },
  {
   "cell_type": "code",
   "execution_count": 9,
   "metadata": {},
   "outputs": [
    {
     "ename": "IndexError",
     "evalue": "list assignment index out of range",
     "output_type": "error",
     "traceback": [
      "\u001b[1;31m---------------------------------------------------------------------------\u001b[0m",
      "\u001b[1;31mIndexError\u001b[0m                                Traceback (most recent call last)",
      "\u001b[1;32m<ipython-input-9-392458d91297>\u001b[0m in \u001b[0;36m<module>\u001b[1;34m\u001b[0m\n\u001b[1;32m----> 1\u001b[1;33m \u001b[0ma\u001b[0m\u001b[1;33m[\u001b[0m\u001b[1;36m4\u001b[0m\u001b[1;33m]\u001b[0m \u001b[1;33m=\u001b[0m \u001b[1;36m100\u001b[0m\u001b[1;33m\u001b[0m\u001b[1;33m\u001b[0m\u001b[0m\n\u001b[0m",
      "\u001b[1;31mIndexError\u001b[0m: list assignment index out of range"
     ]
    }
   ],
   "source": [
    "a[4] = 100"
   ]
  },
  {
   "cell_type": "markdown",
   "metadata": {},
   "source": [
    "## リスト⻑を取得する\n",
    "- リスト⻑: リストの要素の数のこと\n",
    "- 「len関数」でリスト⻑を取得できる\n",
    "- 「len関数の取得値-1までインデックスでアクセスができる」と覚えておく"
   ]
  },
  {
   "cell_type": "code",
   "execution_count": 10,
   "metadata": {},
   "outputs": [
    {
     "data": {
      "text/plain": [
       "4"
      ]
     },
     "execution_count": 10,
     "metadata": {},
     "output_type": "execute_result"
    }
   ],
   "source": [
    "a = ['taro', 'jiro', 'saburo', 10]\n",
    "len(a)"
   ]
  },
  {
   "cell_type": "code",
   "execution_count": 11,
   "metadata": {},
   "outputs": [
    {
     "data": {
      "text/plain": [
       "10"
      ]
     },
     "execution_count": 11,
     "metadata": {},
     "output_type": "execute_result"
    }
   ],
   "source": [
    "a[3]"
   ]
  },
  {
   "cell_type": "code",
   "execution_count": 12,
   "metadata": {},
   "outputs": [
    {
     "ename": "IndexError",
     "evalue": "list index out of range",
     "output_type": "error",
     "traceback": [
      "\u001b[1;31m---------------------------------------------------------------------------\u001b[0m",
      "\u001b[1;31mIndexError\u001b[0m                                Traceback (most recent call last)",
      "\u001b[1;32m<ipython-input-12-ed40d1f49c42>\u001b[0m in \u001b[0;36m<module>\u001b[1;34m\u001b[0m\n\u001b[1;32m----> 1\u001b[1;33m \u001b[0ma\u001b[0m\u001b[1;33m[\u001b[0m\u001b[1;36m4\u001b[0m\u001b[1;33m]\u001b[0m\u001b[1;33m\u001b[0m\u001b[1;33m\u001b[0m\u001b[0m\n\u001b[0m",
      "\u001b[1;31mIndexError\u001b[0m: list index out of range"
     ]
    }
   ],
   "source": [
    "a[4]"
   ]
  },
  {
   "cell_type": "markdown",
   "metadata": {},
   "source": [
    "## リストのデータをまとめて処理するforループ\n",
    "- リストに代表される「シーケンス(連なりのあるデータ)」構造\n",
    "- 「for」ループでシーケンスを前から後ろに順番に処理できる\n",
    "```\n",
    "for 変数 in シーケンス:\n",
    "    処理\n",
    "```"
   ]
  },
  {
   "cell_type": "code",
   "execution_count": 13,
   "metadata": {},
   "outputs": [
    {
     "name": "stdout",
     "output_type": "stream",
     "text": [
      "taro\n",
      "jiro\n",
      "saburo\n",
      "shiro\n",
      "goro\n"
     ]
    }
   ],
   "source": [
    "name_list = ['taro', 'jiro', 'saburo', 'shiro', 'goro']\n",
    "for name in name_list:\n",
    "    print(name)"
   ]
  },
  {
   "cell_type": "markdown",
   "metadata": {},
   "source": [
    "## breakによるループ打ち切り\n",
    "- 「break」命令でループ処理を打ち切る\n",
    "- ループを継続する理由がなくなった場合に利⽤される\n",
    "- 例: 整数のリスト中に偶数があるかをチェック。(偶数を⾒つけたら残りのリストの要素はチェック不要なのでbreak)"
   ]
  },
  {
   "cell_type": "code",
   "execution_count": 14,
   "metadata": {},
   "outputs": [
    {
     "name": "stdout",
     "output_type": "stream",
     "text": [
      "checking: 5\n",
      "checking: 9\n",
      "checking: 11\n",
      "checking: 3\n",
      "checking: 6\n",
      "has even: True\n"
     ]
    }
   ],
   "source": [
    "a = [5, 9, 11, 3, 6, 5, 11, 4, 9]\n",
    "has_even = False\n",
    "for i in a:\n",
    "    print('checking: ' + str(i))\n",
    "    if i % 2 == 0:\n",
    "        has_even = True\n",
    "        break\n",
    "print('has even: ' + str(has_even))"
   ]
  },
  {
   "cell_type": "markdown",
   "metadata": {},
   "source": [
    "## continueによるループの周回スキップ\n",
    "- 「continue」命令で ループのそのその回だけを抜ける\n",
    "- ループ⾃体は継続するのでシーケンスの次の要素は処理する\n",
    "- 要素が「特定条件を満たす場合のみだけ処理する」際にcontinueを使うとよい"
   ]
  },
  {
   "cell_type": "code",
   "execution_count": 15,
   "metadata": {},
   "outputs": [
    {
     "name": "stdout",
     "output_type": "stream",
     "text": [
      "Even: 6\n",
      "Even: 4\n"
     ]
    }
   ],
   "source": [
    "a = [5, 9, 11, 3, 6, 5, 11, 4, 9]\n",
    "for i in a:\n",
    "    if i % 2 == 1:\n",
    "        continue\n",
    "    print('Even: ' + str(i))"
   ]
  },
  {
   "cell_type": "markdown",
   "metadata": {},
   "source": [
    "## continueの便利な利⽤版\n",
    "- breakの利⽤難易度は低いが、continueは使い慣れない⼈が多い\n",
    "- ループでの条件分岐のインデント階層を減らすのに便利\n",
    "```\n",
    "# Continueなし\n",
    "for i in a:\n",
    "    if 条件1:\n",
    "        if 条件2:\n",
    "            if 条件3:\n",
    "                処理\n",
    "```\n",
    "\n",
    "```\n",
    "# Continuあり\n",
    "for i in a:\n",
    "    if 条件1:\n",
    "continue\n",
    "    if 条件2:\n",
    "continue\n",
    "    if 条件3:\n",
    "continue\n",
    "    処理\n",
    "```"
   ]
  },
  {
   "cell_type": "markdown",
   "metadata": {},
   "source": [
    "## 条件が満たされる間はループを繰り返すwhile⽂\n",
    "- 「while」ループで条件式が満たされる限り繰り返す\n",
    "- 他のプログラミング⾔語ではwhileは多⽤されるが、Pythonではforループを可能な限り使うこと。forが使えない場合にwhile⽂を検討する\n",
    "```\n",
    "while 条件式:\n",
    "    処理\n",
    "```"
   ]
  },
  {
   "cell_type": "code",
   "execution_count": 16,
   "metadata": {},
   "outputs": [
    {
     "name": "stdout",
     "output_type": "stream",
     "text": [
      "index 0 : 5\n",
      "index 1 : 9\n",
      "index 2 : 11\n",
      "index 3 : 3\n"
     ]
    }
   ],
   "source": [
    "a = [5, 9, 11, 3]\n",
    "length = len(a)\n",
    "i = 0\n",
    "while i < length:\n",
    "    print('index ' + str(i) + ' : ' + str(a[i]))\n",
    "    i += 1"
   ]
  },
  {
   "cell_type": "markdown",
   "metadata": {},
   "source": [
    "## 演習\n",
    "- Forループで以下の⾝⻑の平均値、最⼤値、最⼩値を求めてください。ヒント: 合計値と最⼤値と最⼩値のそれぞれの変数をループ前に定義して、ループを回るたびにその値を更新する\n",
    "    - 180cm\n",
    "    - 170cm\n",
    "    - 160cm\n",
    "    - 165cm\n",
    "    - 175cm\n",
    "- 余裕がある⼈は10進数を2進数(⽂字列)に変換するプログラムをwhileループで作成してください。検索するとアルゴリズムがでてくるはずです。2進数は⽂字列の複合代⼊演算⼦(結合)で作成してください。"
   ]
  },
  {
   "cell_type": "code",
   "execution_count": 29,
   "metadata": {},
   "outputs": [
    {
     "name": "stdout",
     "output_type": "stream",
     "text": [
      "170.0\n",
      "180\n",
      "160\n"
     ]
    }
   ],
   "source": [
    "height = [180, 170, 160, 165, 175]\n",
    "sum = 0\n",
    "max = height[0]\n",
    "min = height[0]\n",
    "for h in height:\n",
    "    sum = h + sum\n",
    "    min = h if min > h else min \n",
    "    max = h if max < h else max\n",
    "\n",
    "# 平均値\n",
    "print(sum/len(height))\n",
    "# 最大値\n",
    "print(max)\n",
    "# 最小値\n",
    "print(min)"
   ]
  },
  {
   "cell_type": "code",
   "execution_count": 48,
   "metadata": {},
   "outputs": [
    {
     "name": "stdout",
     "output_type": "stream",
     "text": [
      "11010\n"
     ]
    }
   ],
   "source": [
    "arr = []\n",
    "n = 26\n",
    "while n != 0:\n",
    "  arr.append(n % 2)\n",
    "  n = n // 2\n",
    "\n",
    "print(''.join([str(n) for n in arr[::-1]]))"
   ]
  },
  {
   "cell_type": "code",
   "execution_count": null,
   "metadata": {},
   "outputs": [],
   "source": []
  }
 ],
 "metadata": {
  "kernelspec": {
   "display_name": "Python 3",
   "language": "python",
   "name": "python3"
  },
  "language_info": {
   "codemirror_mode": {
    "name": "ipython",
    "version": 3
   },
   "file_extension": ".py",
   "mimetype": "text/x-python",
   "name": "python",
   "nbconvert_exporter": "python",
   "pygments_lexer": "ipython3",
   "version": "3.7.4"
  }
 },
 "nbformat": 4,
 "nbformat_minor": 4
}
