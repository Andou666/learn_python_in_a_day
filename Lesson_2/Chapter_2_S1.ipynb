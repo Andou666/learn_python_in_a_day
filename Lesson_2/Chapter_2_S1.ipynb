{
 "cells": [
  {
   "cell_type": "markdown",
   "metadata": {},
   "source": [
    "# SECTION 01プログラムファイルを作って実⾏する\n",
    "- このセクションで学ぶこと\n",
    "    - IDLE(標準の統合開発環境)の起動⽅法\n",
    "    - 新規ファイルの作成と保存⽅法\n",
    "    - IDLEでのプログラムの実⾏⽅法\n",
    "    - わざとエラーを発⽣させてエラー内容を読む\n",
    "    - コメント\n",
    "    - コンソールからプログラムを実⾏\n",
    "    - コラム: 複数⾏にわたる⽂字列"
   ]
  },
  {
   "cell_type": "markdown",
   "metadata": {},
   "source": [
    "## IDLE(統合開発環境)の起動\n",
    "- Pythonをインストールするとには「IDLE」という統合開発環\n",
    "境も同時にインストールされている\n",
    "- Windows: スタートメニューから選択(以下の図)して起動\n",
    "- Mac: アプリケーションのディレクトリから起動"
   ]
  },
  {
   "cell_type": "markdown",
   "metadata": {},
   "source": [
    "## IDLEで新規ファイルを開く\n",
    "- IDLEのメニューは英語表記だが操作は単純\n",
    "- プログラムを開発するために図の⼿順で新規ファイルを開く\n",
    "- 新規ファイルを開くとエディタの画⾯が現れる\n",
    "- 既存のファイルを開くこともできる。以下の図の「Open..」"
   ]
  },
  {
   "cell_type": "markdown",
   "metadata": {},
   "source": [
    "## IDLEでファイルを保存する\n",
    "- エディタに以下のプログラム(スライド5PめのURLより以後の\n",
    "プログラム全てをダウンロード可能)を記述する\n",
    "- メニューバーから保存操作(図を参照)する\n",
    "- 保存する場所は「デスクトップ上のpythonフォルダ」とし、そ\n",
    "こに「test_01.py」という名前で保存"
   ]
  },
  {
   "cell_type": "code",
   "execution_count": 1,
   "metadata": {},
   "outputs": [
    {
     "name": "stdout",
     "output_type": "stream",
     "text": [
      "1\n",
      "2\n",
      "3\n"
     ]
    }
   ],
   "source": [
    "# test_01.py\n",
    "print(1)\n",
    "print('2')\n",
    "a = 1 + 2\n",
    "print(a)"
   ]
  },
  {
   "cell_type": "markdown",
   "metadata": {},
   "source": [
    "## IDLEでプログラムを実⾏\n",
    "- IDLEのプログラムのエディタを選択(クリックして前⾯に)\n",
    "- 以下のいずれかの⽅法で実⾏\n",
    "- メニューバーの「<Run> -> <Run Module>」\n",
    "- F5ボタン(MacだとFnボタンを押しながら)を押す\n",
    "- インタラクティブシェルと異なりprint関数などで意図的に出⼒\n",
    "させないとどのような動きをしているか⾒えない"
   ]
  },
  {
   "cell_type": "markdown",
   "metadata": {},
   "source": [
    "## エラーを発⽣させて確認する\n",
    "- プログラムを開発していると、勘違いや⼊⼒ミスで必ずエラー\n",
    "は発⽣する\n",
    "- エラーを特定して問題箇所の修正を繰り返すことでプログラム\n",
    "はきちんと動作するようになる\n",
    "- わざとエラーを発⽣させてエラーの読み⽅を確認してみる"
   ]
  },
  {
   "cell_type": "code",
   "execution_count": 3,
   "metadata": {},
   "outputs": [
    {
     "name": "stdout",
     "output_type": "stream",
     "text": [
      "1\n",
      "2\n"
     ]
    },
    {
     "ename": "NameError",
     "evalue": "name 'b' is not defined",
     "output_type": "error",
     "traceback": [
      "\u001b[1;31m---------------------------------------------------------------------------\u001b[0m",
      "\u001b[1;31mNameError\u001b[0m                                 Traceback (most recent call last)",
      "\u001b[1;32m<ipython-input-3-eb5ec8b11cb7>\u001b[0m in \u001b[0;36m<module>\u001b[1;34m\u001b[0m\n\u001b[0;32m      3\u001b[0m \u001b[0mprint\u001b[0m\u001b[1;33m(\u001b[0m\u001b[1;34m'2'\u001b[0m\u001b[1;33m)\u001b[0m\u001b[1;33m\u001b[0m\u001b[1;33m\u001b[0m\u001b[0m\n\u001b[0;32m      4\u001b[0m \u001b[0ma\u001b[0m \u001b[1;33m=\u001b[0m \u001b[1;36m1\u001b[0m \u001b[1;33m+\u001b[0m \u001b[1;36m2\u001b[0m\u001b[1;33m\u001b[0m\u001b[1;33m\u001b[0m\u001b[0m\n\u001b[1;32m----> 5\u001b[1;33m \u001b[0mprint\u001b[0m\u001b[1;33m(\u001b[0m\u001b[0mb\u001b[0m\u001b[1;33m)\u001b[0m\u001b[1;33m\u001b[0m\u001b[1;33m\u001b[0m\u001b[0m\n\u001b[0m",
      "\u001b[1;31mNameError\u001b[0m: name 'b' is not defined"
     ]
    }
   ],
   "source": [
    "# test_02.py\n",
    "print(1)\n",
    "print('2')\n",
    "a = 1 + 2\n",
    "print(b)"
   ]
  },
  {
   "cell_type": "markdown",
   "metadata": {},
   "source": [
    "## コメント\n",
    "- 「コメント」: プログラム中の実⾏されない特別なテキスト\n",
    "- プログラムの説明(なにをしているか注釈)に利⽤したり、実⾏\n",
    "してほしくない箇所をコメント化する使い⽅が⼀般的\n",
    "- コメントの⽅法\n",
    "    - 「#(シャープではなくハッシュと読む)」の後ろ(1⾏)\n",
    "    - 「'''」もしくは「\"\"\"」で囲まれた複数⾏のテキスト"
   ]
  },
  {
   "cell_type": "code",
   "execution_count": 6,
   "metadata": {},
   "outputs": [
    {
     "name": "stdout",
     "output_type": "stream",
     "text": [
      "2\n"
     ]
    },
    {
     "data": {
      "text/plain": [
       "'\\na = 1 + 2\\nprint(b)\\n'"
      ]
     },
     "execution_count": 6,
     "metadata": {},
     "output_type": "execute_result"
    }
   ],
   "source": [
    "# test_03.py\n",
    "#print(1)\n",
    "print('2')\n",
    "'''\n",
    "a = 1 + 2\n",
    "print(b)\n",
    "'''"
   ]
  },
  {
   "cell_type": "markdown",
   "metadata": {},
   "source": [
    "## コンソールからプログラムを実⾏\n",
    "- Pythonのプログラムはコンソール(Powershellやターミナル)から実⾏できる。\n",
    "- プログラムファイルを指定してpythonコマンドで呼び出す\n",
    "- 本格的な開発ではプログラミング⽤エディタ(VSCodeなど)で開発してコンソール実⾏するか、IDLEより⾼度なIDE(PyCharmなど)の利⽤が⼀般的"
   ]
  },
  {
   "cell_type": "markdown",
   "metadata": {},
   "source": [
    "## コラム: 複数⾏にわたる⽂字列\n",
    "- 「トリプルクオテーション(''')」を使った複数⾏のコメントアウトは厳密には「囲んだ箇所を⽂字列化」している\n",
    "- 純粋な複数⾏のコメントアウトの⽂法はない\n",
    "- ⽂字列化でのコメントアウトに問題がある場合はすべての⾏に「#」をつけてコメントアウトする"
   ]
  },
  {
   "cell_type": "code",
   "execution_count": 7,
   "metadata": {},
   "outputs": [
    {
     "name": "stdout",
     "output_type": "stream",
     "text": [
      "hello world\n",
      "python\n"
     ]
    }
   ],
   "source": [
    "text = '''hello world\n",
    "python'''\n",
    "print(text)"
   ]
  },
  {
   "cell_type": "markdown",
   "metadata": {},
   "source": [
    "## コラム: エスケープシーケンス\n",
    "- 改⾏やタブといった特殊⽂字を使う場合は「エスケープシーケンス」を使う\n",
    "- エスケープシーケンスは半⾓バックスラッシュ「\\」(⽇本語キーボードだと半⾓「\\」記号)に続けて特定の1⽂字を書く\n",
    "    - よく使うエスケープシーケンス\n",
    "    - 改⾏: \\n\n",
    "    - タブ: \\t\n",
    "    - シングルクオテーション: \\\\'\n",
    "    - ダブルクオテーション: \\\\\""
   ]
  },
  {
   "cell_type": "code",
   "execution_count": 8,
   "metadata": {},
   "outputs": [
    {
     "name": "stdout",
     "output_type": "stream",
     "text": [
      "hello\n",
      "world\n"
     ]
    }
   ],
   "source": [
    "# エスケープシーケンス「\\n」で改⾏されている\n",
    "print('hello\\nworld')"
   ]
  },
  {
   "cell_type": "markdown",
   "metadata": {},
   "source": [
    "## 演習\n",
    "- IDLEを起動して以下のプログラム(1)を新規作成して実⾏\n",
    "- プログラミング⽤エディタ(好みがなければVSCodeをインストール)で以下のプログラム(1)を作成して、コンソールで実⾏\n",
    "- インタプリタで以下の出⼒(2)をする\n",
    "- コメントの利⽤⽤途を2つ以上説明する"
   ]
  },
  {
   "cell_type": "code",
   "execution_count": 9,
   "metadata": {},
   "outputs": [
    {
     "name": "stdout",
     "output_type": "stream",
     "text": [
      "I love Python\n"
     ]
    }
   ],
   "source": [
    "print('I love Python')"
   ]
  },
  {
   "cell_type": "code",
   "execution_count": 12,
   "metadata": {},
   "outputs": [
    {
     "name": "stdout",
     "output_type": "stream",
     "text": [
      "I\n",
      "will\n",
      "complete\n",
      "this\n",
      "training\n"
     ]
    }
   ],
   "source": [
    "text = '''I\n",
    "will\n",
    "complete\n",
    "this\n",
    "training'''\n",
    "print(text)"
   ]
  },
  {
   "cell_type": "code",
   "execution_count": null,
   "metadata": {},
   "outputs": [],
   "source": []
  }
 ],
 "metadata": {
  "kernelspec": {
   "display_name": "Python 3",
   "language": "python",
   "name": "python3"
  },
  "language_info": {
   "codemirror_mode": {
    "name": "ipython",
    "version": 3
   },
   "file_extension": ".py",
   "mimetype": "text/x-python",
   "name": "python",
   "nbconvert_exporter": "python",
   "pygments_lexer": "ipython3",
   "version": "3.7.4"
  }
 },
 "nbformat": 4,
 "nbformat_minor": 4
}
