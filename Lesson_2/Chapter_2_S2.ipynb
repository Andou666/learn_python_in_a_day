{
 "cells": [
  {
   "cell_type": "markdown",
   "metadata": {},
   "source": [
    "# SECTION 02 条件分岐の仕組みを理解する\n",
    "- このセクションで学ぶこと\n",
    "    - 絶対値を求めるabs関数\n",
    "    - abs関数の条件分岐\n",
    "    - if⽂を使った条件分岐\n",
    "    - インデントによるコードブロック\n",
    "    - Bool型\n",
    "    - ⽐較演算⼦\n",
    "    - Bool値を扱う演算⼦\n",
    "    - 複雑なif⽂"
   ]
  },
  {
   "cell_type": "markdown",
   "metadata": {},
   "source": [
    "## 絶対値を求めるabs関数\n",
    "- 絶対値はある数値(マイナスも含む)の0からの距離\n",
    "- 「変化の⼤きさ」を表現するのに使われる\n",
    "- Pythonでは「abs関数」を使うことで絶対値を求められる"
   ]
  },
  {
   "cell_type": "code",
   "execution_count": 1,
   "metadata": {},
   "outputs": [
    {
     "data": {
      "text/plain": [
       "5"
      ]
     },
     "execution_count": 1,
     "metadata": {},
     "output_type": "execute_result"
    }
   ],
   "source": [
    "abs(5)"
   ]
  },
  {
   "cell_type": "code",
   "execution_count": 2,
   "metadata": {},
   "outputs": [
    {
     "data": {
      "text/plain": [
       "10"
      ]
     },
     "execution_count": 2,
     "metadata": {},
     "output_type": "execute_result"
    }
   ],
   "source": [
    "abs(-10)"
   ]
  },
  {
   "cell_type": "code",
   "execution_count": 3,
   "metadata": {},
   "outputs": [
    {
     "data": {
      "text/plain": [
       "0"
      ]
     },
     "execution_count": 3,
     "metadata": {},
     "output_type": "execute_result"
    }
   ],
   "source": [
    "abs(0)"
   ]
  },
  {
   "cell_type": "markdown",
   "metadata": {},
   "source": [
    "## abs関数の条件分岐\n",
    "- 「条件分岐」は「ある特定の条件を満たす場合のみ、何かの処理をする」という仕組み\n",
    "- 絶対値を得る条件分岐は 「値(変数aとする)が0より⼤きいという条件」を満たす場合のみ「値に-1をかけてプラスにする」という処理をする"
   ]
  },
  {
   "cell_type": "markdown",
   "metadata": {},
   "source": [
    "## if⽂を使った条件分岐\n",
    "- Pythonで条件分岐を使うには「if」を使う\n",
    "- ifに続けて「条件式(TrueかFalseが得られる式)」を書く\n",
    "- 次の⾏以降でインデント(字下げ)して処理を書く\n",
    "- 注意: 他のプログラミング⾔語のようにifのあとに()で条件式を囲んでも問題ないが、Pythonでは囲まないのが⼀般的\n",
    "\n",
    "```\n",
    "if 条件式:\n",
    "    条件式を満たす場合の処理\n",
    "```"
   ]
  },
  {
   "cell_type": "code",
   "execution_count": 7,
   "metadata": {},
   "outputs": [
    {
     "name": "stdout",
     "output_type": "stream",
     "text": [
      "5\n"
     ]
    }
   ],
   "source": [
    "a = -5\n",
    "\n",
    "if a < 0:\n",
    "    a = a * -1\n",
    "\n",
    "print(a)"
   ]
  },
  {
   "cell_type": "markdown",
   "metadata": {},
   "source": [
    "## インデントによるコードブロック\n",
    "- 「コードブロック」はプログラムの制御処理の対象範囲のこと\n",
    "- 何⾏⽬から何⾏⽬までをコードブロックとするかはインデントによる字下げで表現する\n",
    "- Pythonでは半⾓4つが標準的なインデントでタブは⾮推奨(1つのプログラム中で空⽩とタブの字下げを混在させるとエラー)\n",
    "- プログラミング⽤エディタはタブを半⾓に⾃動変換するものもある"
   ]
  },
  {
   "cell_type": "code",
   "execution_count": 8,
   "metadata": {},
   "outputs": [
    {
     "name": "stdout",
     "output_type": "stream",
     "text": [
      "1\n",
      "2\n",
      "3\n",
      "5\n"
     ]
    }
   ],
   "source": [
    "a = -5\n",
    "if a < 0:\n",
    "    print(1)\n",
    "    print(2)\n",
    "    a = a * -1\n",
    "    print(3)\n",
    "print(a)"
   ]
  },
  {
   "cell_type": "markdown",
   "metadata": {},
   "source": [
    "## Bool型\n",
    "- 条件を満たす/満たさないを表現する型。条件分岐などに使う\n",
    "- 「True」と「False」の2値しかない\n",
    "- 「条件を満たす」は「条件式がTrueを返す」こと\n",
    "- 「条件を満たさない」は「条件式がFalseを返す」こと"
   ]
  },
  {
   "cell_type": "code",
   "execution_count": 9,
   "metadata": {},
   "outputs": [
    {
     "data": {
      "text/plain": [
       "True"
      ]
     },
     "execution_count": 9,
     "metadata": {},
     "output_type": "execute_result"
    }
   ],
   "source": [
    "5 > 3"
   ]
  },
  {
   "cell_type": "code",
   "execution_count": 10,
   "metadata": {},
   "outputs": [
    {
     "data": {
      "text/plain": [
       "False"
      ]
     },
     "execution_count": 10,
     "metadata": {},
     "output_type": "execute_result"
    }
   ],
   "source": [
    "5 < 3"
   ]
  },
  {
   "cell_type": "code",
   "execution_count": 11,
   "metadata": {},
   "outputs": [
    {
     "name": "stdout",
     "output_type": "stream",
     "text": [
      "5\n"
     ]
    }
   ],
   "source": [
    "a = -5\n",
    "if a < 0:\n",
    "    a = a * -1\n",
    "print(a)"
   ]
  },
  {
   "cell_type": "markdown",
   "metadata": {},
   "source": [
    "## ⽐較演算⼦\n",
    "- True/Falseを得るための演算⼦\n",
    "- 制御構⽂の条件式などでよく利⽤される\n",
    "- 数字以外でも⽂字列などでも使える\n",
    "\n",
    "|演算⼦| 意味| 使⽤例(Trueの場合)|\n",
    "|---|---|---|\n",
    "|==| 左辺と右辺が等しいときにTrueを返す| 20 == 20|\n",
    "|!=| 左辺と右辺が等しくないときにTrueを返す| 20 != 30|\n",
    "|>| 左辺が右辺より⼤きいときにTrueを返す| 30 > 20|\n",
    "|>=| 左辺が右辺以上のときにTrueを返す| 30 >= 20, 30 >= 30|\n",
    "|<| 左辺が右辺より⼩さいときにTrueを返す| 20 < 30|\n",
    "|<=| 左辺が右辺以下のときにTrueを返す| 20 <= 30, 20 <= 20|\n",
    "\n",
    "- 異なる型での⽐較などもできる\n",
    "- ⽂字列の⽐較などはCやJavaと挙動が異なるので注意(Pythonはポインタではなく値で⽐較するので分かりやすい)"
   ]
  },
  {
   "cell_type": "code",
   "execution_count": 12,
   "metadata": {},
   "outputs": [
    {
     "data": {
      "text/plain": [
       "True"
      ]
     },
     "execution_count": 12,
     "metadata": {},
     "output_type": "execute_result"
    }
   ],
   "source": [
    "4 == 4.0"
   ]
  },
  {
   "cell_type": "code",
   "execution_count": 13,
   "metadata": {},
   "outputs": [
    {
     "data": {
      "text/plain": [
       "False"
      ]
     },
     "execution_count": 13,
     "metadata": {},
     "output_type": "execute_result"
    }
   ],
   "source": [
    "4 == '4'"
   ]
  },
  {
   "cell_type": "code",
   "execution_count": 15,
   "metadata": {},
   "outputs": [
    {
     "data": {
      "text/plain": [
       "False"
      ]
     },
     "execution_count": 15,
     "metadata": {},
     "output_type": "execute_result"
    }
   ],
   "source": [
    "'abc' > 'def'"
   ]
  },
  {
   "cell_type": "code",
   "execution_count": 16,
   "metadata": {},
   "outputs": [
    {
     "data": {
      "text/plain": [
       "True"
      ]
     },
     "execution_count": 16,
     "metadata": {},
     "output_type": "execute_result"
    }
   ],
   "source": [
    "'hello' == 'hello'"
   ]
  },
  {
   "cell_type": "code",
   "execution_count": 17,
   "metadata": {},
   "outputs": [
    {
     "data": {
      "text/plain": [
       "True"
      ]
     },
     "execution_count": 17,
     "metadata": {},
     "output_type": "execute_result"
    }
   ],
   "source": [
    "'hello' == ('hel' + 'lo')"
   ]
  },
  {
   "cell_type": "markdown",
   "metadata": {},
   "source": [
    "## Bool値を扱う演算⼦\n",
    "- 条件式ではBool値の反転や「かつ」「または」などもよく使う\n",
    "- 「and」演算⼦: 左辺と右辺の値がともにTrueの時にTrueを返す\n",
    "- 「or」演算⼦: 左辺と右辺の値のどちらかがTrueの時にTrueを返す\n",
    "- 「not」演算⼦: True/Falseを逆転させる"
   ]
  },
  {
   "cell_type": "code",
   "execution_count": 18,
   "metadata": {},
   "outputs": [
    {
     "data": {
      "text/plain": [
       "True"
      ]
     },
     "execution_count": 18,
     "metadata": {},
     "output_type": "execute_result"
    }
   ],
   "source": [
    "True and True"
   ]
  },
  {
   "cell_type": "code",
   "execution_count": 19,
   "metadata": {},
   "outputs": [
    {
     "data": {
      "text/plain": [
       "False"
      ]
     },
     "execution_count": 19,
     "metadata": {},
     "output_type": "execute_result"
    }
   ],
   "source": [
    "True and False"
   ]
  },
  {
   "cell_type": "code",
   "execution_count": 20,
   "metadata": {},
   "outputs": [
    {
     "data": {
      "text/plain": [
       "True"
      ]
     },
     "execution_count": 20,
     "metadata": {},
     "output_type": "execute_result"
    }
   ],
   "source": [
    "True or True"
   ]
  },
  {
   "cell_type": "code",
   "execution_count": 21,
   "metadata": {},
   "outputs": [
    {
     "data": {
      "text/plain": [
       "True"
      ]
     },
     "execution_count": 21,
     "metadata": {},
     "output_type": "execute_result"
    }
   ],
   "source": [
    "True or False"
   ]
  },
  {
   "cell_type": "code",
   "execution_count": 22,
   "metadata": {},
   "outputs": [
    {
     "data": {
      "text/plain": [
       "False"
      ]
     },
     "execution_count": 22,
     "metadata": {},
     "output_type": "execute_result"
    }
   ],
   "source": [
    "not True"
   ]
  },
  {
   "cell_type": "code",
   "execution_count": 23,
   "metadata": {},
   "outputs": [
    {
     "data": {
      "text/plain": [
       "True"
      ]
     },
     "execution_count": 23,
     "metadata": {},
     "output_type": "execute_result"
    }
   ],
   "source": [
    "not False"
   ]
  },
  {
   "cell_type": "markdown",
   "metadata": {},
   "source": [
    "## 複雑なif⽂\n",
    "- 「elif」は 前⽅のifかelifに合致しなかったときに条件チェックされる分岐。好きなだけ繰り返せる\n",
    "- 「else」は前⽅のifとelifの全てに合致しなかったときに呼び出される処理を書く"
   ]
  },
  {
   "cell_type": "code",
   "execution_count": 25,
   "metadata": {},
   "outputs": [
    {
     "name": "stdout",
     "output_type": "stream",
     "text": [
      "3\n"
     ]
    }
   ],
   "source": [
    "a = 15\n",
    "if a % 2 == 0:\n",
    "    print('2')\n",
    "elif a % 3 == 0:\n",
    "    print('3')\n",
    "elif a % 5 == 0:\n",
    "    print('5')\n",
    "else:\n",
    "    print('nothing')"
   ]
  },
  {
   "cell_type": "markdown",
   "metadata": {},
   "source": [
    "## 演習\n",
    "- 有名なFizzBuzz問題のプログラムを作成する\n",
    "    - 変数 a に整数を任意の数を与える\n",
    "    - 変数 a が3で割り切れれば「Fizz」と出⼒\n",
    "    - 変数 a が5で割り切れれば「Buzz」と出⼒\n",
    "    - 変数 a が3でも5でも割り切れれば「FizzBuzz」と出⼒\n",
    "    - ヒント: 「1章で学んだ剰余で余りが0になること」が「割り切れる」ということ\n",
    "    - 変数aを様々な値に変更して挙動を確認してください"
   ]
  },
  {
   "cell_type": "code",
   "execution_count": 33,
   "metadata": {},
   "outputs": [
    {
     "name": "stdout",
     "output_type": "stream",
     "text": [
      "\n"
     ]
    }
   ],
   "source": [
    "a = 23\n",
    "output = ''\n",
    "if a % 3 == 0:\n",
    "    output += 'Fizz'\n",
    "if a % 5 == 0:\n",
    "    output += 'Buzz'\n",
    "print(output)"
   ]
  },
  {
   "cell_type": "code",
   "execution_count": null,
   "metadata": {},
   "outputs": [],
   "source": []
  }
 ],
 "metadata": {
  "kernelspec": {
   "display_name": "Python 3",
   "language": "python",
   "name": "python3"
  },
  "language_info": {
   "codemirror_mode": {
    "name": "ipython",
    "version": 3
   },
   "file_extension": ".py",
   "mimetype": "text/x-python",
   "name": "python",
   "nbconvert_exporter": "python",
   "pygments_lexer": "ipython3",
   "version": "3.7.4"
  }
 },
 "nbformat": 4,
 "nbformat_minor": 4
}
