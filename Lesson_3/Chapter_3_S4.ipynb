{
 "cells": [
  {
   "cell_type": "markdown",
   "metadata": {},
   "source": [
    "# SECTION 04 名前空間と関数型について知る\n",
    "- このセクションで学ぶこと\n",
    "  - 関数の中にある変数の扱い\n",
    "  - global宣⾔\n",
    "  - 名前空間\n",
    "  - 関数型\n",
    "  - 関数を受け取る関数"
   ]
  },
  {
   "cell_type": "markdown",
   "metadata": {},
   "source": [
    "## 関数の中にある変数の扱い \n",
    "- 関数の外では関数内で定義された変数を使えない(アクセスできない)\n",
    "- アクセスできない変数を参照しようとするとエラーが発⽣"
   ]
  },
  {
   "cell_type": "code",
   "execution_count": 2,
   "metadata": {},
   "outputs": [
    {
     "name": "stdout",
     "output_type": "stream",
     "text": [
      "6\n"
     ]
    },
    {
     "ename": "NameError",
     "evalue": "name 'y' is not defined",
     "output_type": "error",
     "traceback": [
      "\u001b[1;31m---------------------------------------------------------------------------\u001b[0m",
      "\u001b[1;31mNameError\u001b[0m                                 Traceback (most recent call last)",
      "\u001b[1;32m<ipython-input-2-961e587bfe63>\u001b[0m in \u001b[0;36m<module>\u001b[1;34m\u001b[0m\n\u001b[0;32m      3\u001b[0m     \u001b[1;32mreturn\u001b[0m \u001b[0my\u001b[0m\u001b[1;33m\u001b[0m\u001b[1;33m\u001b[0m\u001b[0m\n\u001b[0;32m      4\u001b[0m \u001b[0mprint\u001b[0m\u001b[1;33m(\u001b[0m\u001b[0mtest\u001b[0m\u001b[1;33m(\u001b[0m\u001b[1;36m5\u001b[0m\u001b[1;33m)\u001b[0m\u001b[1;33m)\u001b[0m\u001b[1;33m\u001b[0m\u001b[1;33m\u001b[0m\u001b[0m\n\u001b[1;32m----> 5\u001b[1;33m \u001b[0mprint\u001b[0m\u001b[1;33m(\u001b[0m\u001b[0my\u001b[0m\u001b[1;33m)\u001b[0m\u001b[1;33m\u001b[0m\u001b[1;33m\u001b[0m\u001b[0m\n\u001b[0m",
      "\u001b[1;31mNameError\u001b[0m: name 'y' is not defined"
     ]
    }
   ],
   "source": [
    "def test(x):\n",
    "    y = x + 1\n",
    "    return y\n",
    "print(test(5))\n",
    "print(y)"
   ]
  },
  {
   "cell_type": "markdown",
   "metadata": {},
   "source": [
    "## 関数の中にある変数の扱い\n",
    "- 関数の外で定義された変数は、関数内でも参照できる\n",
    "- 関数内で関数外の変数を上書きしても、関数外の変数の値は変わらない(厳密には関数内部に同じ名前の変数が定義され、それに代⼊されているという動きをしている)"
   ]
  },
  {
   "cell_type": "code",
   "execution_count": 3,
   "metadata": {},
   "outputs": [
    {
     "name": "stdout",
     "output_type": "stream",
     "text": [
      "1\n"
     ]
    }
   ],
   "source": [
    "a = 1\n",
    "def test():\n",
    "    print(a)\n",
    "test()"
   ]
  },
  {
   "cell_type": "code",
   "execution_count": 4,
   "metadata": {},
   "outputs": [
    {
     "name": "stdout",
     "output_type": "stream",
     "text": [
      "1\n"
     ]
    }
   ],
   "source": [
    "a = 1\n",
    "def test():\n",
    "    a = 10\n",
    "test()\n",
    "print(a)"
   ]
  },
  {
   "cell_type": "markdown",
   "metadata": {},
   "source": [
    "## global宣⾔\n",
    "- 「グローバル宣⾔(global)」を変数にすることで、関数外の変数を関数内で上書きできるようになる\n",
    "- グローバル宣⾔の利⽤は⾮推奨。関数外の変数を上書きしたいのであれば、関数の返り値を変数に再代⼊するのが⼀般的"
   ]
  },
  {
   "cell_type": "code",
   "execution_count": 5,
   "metadata": {},
   "outputs": [
    {
     "name": "stdout",
     "output_type": "stream",
     "text": [
      "10\n"
     ]
    }
   ],
   "source": [
    "a = 1\n",
    "def test():\n",
    "    global a\n",
    "    a = 10\n",
    "test()\n",
    "print(a)"
   ]
  },
  {
   "cell_type": "markdown",
   "metadata": {},
   "source": [
    "## 名前空間\n",
    "- 変数を参照できるスコープ(エリア)を「名前空間」と呼ぶ\n",
    "- 基本的には「中から外の変数は参照できる」「中で外の変数に代⼊しない」「外から中の変数は参照できない」と覚えておく\n",
    "- 名前空間を使う鉄則(中級者向けトピック)\n",
    "  - どこからでも参照できる変数は「どこでどういった操作が⾏われるか」管理しにくく、バグになりやすい\n",
    "  - あえて変数が利⽤できる範囲を狭めることで、その変数の使いみちを分かりやすくし、変な状態にならないようにする\n",
    "  - 「グローバル変数(どのブロックにも属さない⼀番上のレベルの変数)」は可能な限り利⽤しないようにして、関数内の変数やクラスで定義された変数(5章)を使うこと"
   ]
  },
  {
   "cell_type": "markdown",
   "metadata": {},
   "source": [
    "## 関数型\n",
    "- Pythonの関数も「関数型(概念)」の値(具体的なデータ)\n",
    "- print関数は関数型の値の1つであり、len関数も同様\n",
    "- type関数に関数を与えることで関数型である確認ができる\n",
    "- 関数型の値は変数に代⼊でき、変数経由で関数を呼び出せる。上級者向けのプログラミングテクニックでよく使う"
   ]
  },
  {
   "cell_type": "code",
   "execution_count": 7,
   "metadata": {},
   "outputs": [
    {
     "data": {
      "text/plain": [
       "builtin_function_or_method"
      ]
     },
     "execution_count": 7,
     "metadata": {},
     "output_type": "execute_result"
    }
   ],
   "source": [
    "type(abs)"
   ]
  },
  {
   "cell_type": "code",
   "execution_count": 8,
   "metadata": {},
   "outputs": [
    {
     "data": {
      "text/plain": [
       "function"
      ]
     },
     "execution_count": 8,
     "metadata": {},
     "output_type": "execute_result"
    }
   ],
   "source": [
    "def my_abs(x):\n",
    "    if x < 0:\n",
    "        x *= -1\n",
    "    return x\n",
    "type(my_abs)"
   ]
  },
  {
   "cell_type": "code",
   "execution_count": 9,
   "metadata": {},
   "outputs": [
    {
     "data": {
      "text/plain": [
       "5"
      ]
     },
     "execution_count": 9,
     "metadata": {},
     "output_type": "execute_result"
    }
   ],
   "source": [
    "fun = abs\n",
    "fun(-5)"
   ]
  },
  {
   "cell_type": "markdown",
   "metadata": {},
   "source": [
    "## 関数を受け取る関数\n",
    "- 関数Aの引数として関数Bを渡す場合がある。関数Aの挙動を関数Bで調整する。関数を受け取る関数を「⾼階関数」と呼ぶ。\n",
    "- たとえばソートの基準を関数として定義し、その基準通りにソートを実施するなど"
   ]
  },
  {
   "cell_type": "code",
   "execution_count": 10,
   "metadata": {},
   "outputs": [
    {
     "name": "stdout",
     "output_type": "stream",
     "text": [
      "[-7, -3, 0, 5, 9]\n"
     ]
    }
   ],
   "source": [
    "a = [5, -7, 0, 9, -3]\n",
    "print(sorted(a))"
   ]
  },
  {
   "cell_type": "code",
   "execution_count": 11,
   "metadata": {},
   "outputs": [
    {
     "name": "stdout",
     "output_type": "stream",
     "text": [
      "[0, -3, 5, -7, 9]\n"
     ]
    }
   ],
   "source": [
    "a = [5, -7, 0, 9, -3]\n",
    "def my_abs(x):\n",
    "    if x < 0:\n",
    "        x *= -1\n",
    "    return x\n",
    "print(sorted(a, key=my_abs))\n"
   ]
  },
  {
   "cell_type": "markdown",
   "metadata": {},
   "source": [
    "## コラム: 制御構⽂の名前空間\n",
    "- Pythonではifやforなどの制御⽂のブロックで宣⾔した変数は、そのブロック外でも参照できる\n",
    "- 他のプログラミング⾔語では参照できないものが多いので注意"
   ]
  },
  {
   "cell_type": "code",
   "execution_count": 12,
   "metadata": {},
   "outputs": [
    {
     "name": "stdout",
     "output_type": "stream",
     "text": [
      "5\n"
     ]
    }
   ],
   "source": [
    "def fun(x):\n",
    "    if x == 1:\n",
    "        y = 5\n",
    "    else:\n",
    "        y = 10\n",
    "    print(y)\n",
    "fun(1)"
   ]
  },
  {
   "cell_type": "markdown",
   "metadata": {},
   "source": [
    "## 演習\n",
    "- Pythonの名前空間の動きを説明してください\n",
    "  - 関数内から関数外の変数のアクセス\n",
    "  - 関数外から関数内の変数のアクセス\n",
    "  - global宣⾔の効果\n",
    "  - なぜglobal宣⾔が推奨されないか\n",
    "  - 関数で関数外の変数を更新したいときはどのような関数とするのが望ましいか\n",
    "  - sorted関数に⾃作関数を渡して降順ソート(⼤きいものから⼩さいものへ)を実現してください"
   ]
  },
  {
   "cell_type": "code",
   "execution_count": null,
   "metadata": {},
   "outputs": [],
   "source": []
  }
 ],
 "metadata": {
  "kernelspec": {
   "display_name": "Python 3",
   "language": "python",
   "name": "python3"
  },
  "language_info": {
   "codemirror_mode": {
    "name": "ipython",
    "version": 3
   },
   "file_extension": ".py",
   "mimetype": "text/x-python",
   "name": "python",
   "nbconvert_exporter": "python",
   "pygments_lexer": "ipython3",
   "version": "3.7.4"
  }
 },
 "nbformat": 4,
 "nbformat_minor": 4
}
