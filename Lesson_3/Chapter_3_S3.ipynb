{
 "cells": [
  {
   "cell_type": "markdown",
   "metadata": {},
   "source": [
    "# SECRION 03 関数の引数と返り値を⾃在に操る\n",
    "- このセクションで学ぶこと\n",
    " - 返り値の有無によるコードの違い\n",
    " - 複数のreturn⽂を記述する\n",
    " - 関数に複数の引数を定義する\n",
    " - キーワード引数を定義する\n",
    " - デフォルト引数\n",
    " - 可変⻑引数を利⽤する\n",
    " - コラム: help関数で関数の詳細を確認する"
   ]
  },
  {
   "cell_type": "markdown",
   "metadata": {},
   "source": [
    "## 返り値の有無によるコードの違い\n",
    "- returnが定義されていないと「None(何もないという値)」を返す\n",
    "- returnに変数や値が与えられていないときもNoneを返す\n",
    "- 「Noneを返す」ということは「関数の返り値がない」と同じ意味"
   ]
  },
  {
   "cell_type": "code",
   "execution_count": 1,
   "metadata": {},
   "outputs": [
    {
     "name": "stdout",
     "output_type": "stream",
     "text": [
      "my print1: 5\n",
      "None\n",
      "my print2: 5\n",
      "None\n"
     ]
    }
   ],
   "source": [
    "def my_print1(x):\n",
    "    print('my print1: ' + str(x))\n",
    "\n",
    "def my_print2(x):\n",
    "    print('my print2: ' + str(x))\n",
    "    return\n",
    "\n",
    "a = my_print1(5)\n",
    "print(a)\n",
    "b = my_print2(5)\n",
    "print(b)"
   ]
  },
  {
   "cell_type": "markdown",
   "metadata": {},
   "source": [
    "## 複数のreturn⽂を記述する\n",
    "- 関数にreturnを複数定義することができる\n",
    "- returnが呼び出されたら関数の処理はそこで終わる。後ろに処理が残っていようとループ中であろうと残る処理はスキップされる"
   ]
  },
  {
   "cell_type": "code",
   "execution_count": 2,
   "metadata": {},
   "outputs": [
    {
     "name": "stdout",
     "output_type": "stream",
     "text": [
      "5\n",
      "less than 0\n",
      "5\n"
     ]
    }
   ],
   "source": [
    "def my_abs(x):\n",
    "    if x > 0:\n",
    "        return x\n",
    "    print('less than 0')\n",
    "    return x * -1\n",
    "print(my_abs(5))\n",
    "print(my_abs(-5))"
   ]
  },
  {
   "cell_type": "markdown",
   "metadata": {},
   "source": [
    "## 関数に複数の引数を定義する\n",
    "- 関数の引数は好きな数だけ使うことができる\n",
    "- 引数を受け取らない関数は引数を定義しない\n",
    "- 「定義した引数の数」と「呼び出し時の引数の数」が異なるとエラーが発⽣"
   ]
  },
  {
   "cell_type": "code",
   "execution_count": 3,
   "metadata": {},
   "outputs": [
    {
     "name": "stdout",
     "output_type": "stream",
     "text": [
      "fun0\n",
      "fun1\n",
      "fun5: arg1 is a\n"
     ]
    }
   ],
   "source": [
    "def fun0():\n",
    "    print('fun0')\n",
    "\n",
    "def fun1(arg1):\n",
    "    print('fun1')\n",
    "\n",
    "def fun5(arg1, arg2, arg3, arg4, arg5):\n",
    "    print('fun5: arg1 is ' + arg1)\n",
    "\n",
    "fun0()\n",
    "fun1(1)\n",
    "fun5('a', 'b', 'c', 'd', 'e')"
   ]
  },
  {
   "cell_type": "markdown",
   "metadata": {},
   "source": [
    "## キーワード引数を定義する\n",
    "- 今まで利⽤してきた引数は正式には「位置引数」と呼ばれる。定義された引数の「順序」通りに引数を与える使い⽅\n",
    "- 「キーワード引数」は 定義された引数名を指定して引数を与える\n",
    "- 引数の数が多い場合はキーワード引数だと順番間違いがない"
   ]
  },
  {
   "cell_type": "code",
   "execution_count": 4,
   "metadata": {},
   "outputs": [
    {
     "name": "stdout",
     "output_type": "stream",
     "text": [
      "123\n",
      "bac\n"
     ]
    }
   ],
   "source": [
    "def test(arg1, arg2, arg3):\n",
    "    print(str(arg1) + str(arg2) + str(arg3))\n",
    "\n",
    "# 位置引数\n",
    "test(1, 2, 3)\n",
    "\n",
    "# キーワード引数\n",
    "test(arg2='a', arg1='b', arg3='c')"
   ]
  },
  {
   "cell_type": "markdown",
   "metadata": {},
   "source": [
    "## デフォルト引数\n",
    "- 「デフォルト引数」で引数にデフォルト値を定義できる\n",
    "- キーワード引数とともに利⽤されることが多く、関数呼び出し時に対象となる引数を与えないとデフォルト値が使われる\n",
    "- デフォルト引数の後ろにデフォルト引数を持たない引数は定義できない。⽂法エラーが発⽣する"
   ]
  },
  {
   "cell_type": "code",
   "execution_count": 5,
   "metadata": {},
   "outputs": [
    {
     "name": "stdout",
     "output_type": "stream",
     "text": [
      "1BC\n",
      "123\n",
      "12C\n"
     ]
    }
   ],
   "source": [
    "def test(arg1, arg2=2, arg3=3):\n",
    "    print(str(arg1) + str(arg2) + str(arg3))\n",
    "\n",
    "test(1, 'B', 'C')\n",
    "test(1)\n",
    "test(1, arg3='C')"
   ]
  },
  {
   "cell_type": "markdown",
   "metadata": {},
   "source": [
    "## 可変⻑引数を利⽤する\n",
    "- 与える引数が固定でない関数の引数を「可変⻑引数」と呼ぶ\n",
    "- 可変⻑引数を⾃分で定義するのは初⼼者向けではないが、既存関数で使う場⾯は多いので使いかたは知っておくこと\n",
    "- 「スプラット演算⼦(*)」を使うとリストを可変⻑引数に使える"
   ]
  },
  {
   "cell_type": "code",
   "execution_count": 6,
   "metadata": {},
   "outputs": [
    {
     "name": "stdout",
     "output_type": "stream",
     "text": [
      "hello\n",
      "hello python\n",
      "1 2 3 4 5 6 7 8 9\n"
     ]
    }
   ],
   "source": [
    "print('hello')\n",
    "print('hello', 'python')\n",
    "print(1, 2, 3, 4, 5, 6, 7, 8, 9)"
   ]
  },
  {
   "cell_type": "code",
   "execution_count": 7,
   "metadata": {},
   "outputs": [
    {
     "name": "stdout",
     "output_type": "stream",
     "text": [
      "[1, 2, 3, 4, 5, 6, 7, 8, 9]\n",
      "1 2 3 4 5 6 7 8 9\n"
     ]
    }
   ],
   "source": [
    "print([1, 2, 3, 4, 5, 6, 7, 8, 9])\n",
    "print(*[1, 2, 3, 4, 5, 6, 7, 8, 9])"
   ]
  },
  {
   "cell_type": "markdown",
   "metadata": {},
   "source": [
    "## コラム: help関数で関数の詳細を確認する\n",
    "- 「help関数」の引数に関数名をあたえることで、その関数の詳細を確認することができる\n",
    "- 引数などを忘れた場合にインタプリタですぐに確認できる"
   ]
  },
  {
   "cell_type": "code",
   "execution_count": 8,
   "metadata": {},
   "outputs": [
    {
     "name": "stdout",
     "output_type": "stream",
     "text": [
      "Help on built-in function print in module builtins:\n",
      "\n",
      "print(...)\n",
      "    print(value, ..., sep=' ', end='\\n', file=sys.stdout, flush=False)\n",
      "    \n",
      "    Prints the values to a stream, or to sys.stdout by default.\n",
      "    Optional keyword arguments:\n",
      "    file:  a file-like object (stream); defaults to the current sys.stdout.\n",
      "    sep:   string inserted between values, default a space.\n",
      "    end:   string appended after the last value, default a newline.\n",
      "    flush: whether to forcibly flush the stream.\n",
      "\n"
     ]
    }
   ],
   "source": [
    "# help関数を使ったprint関数の詳細確認\n",
    "help(print)"
   ]
  },
  {
   "cell_type": "markdown",
   "metadata": {},
   "source": [
    "## 演習\n",
    "- None型の値と型名をtype関数で調べてください\n",
    "- 先に作成したmyabs関数を「ifブロック内でマイナスをプラスに戻した値をreturnで返す」ように変更してください\n",
    "- 2つの引数を受け取り、⼤きい側の引数を返すmymax関数を作成してください\n",
    "- mymax関数をキーワード引数で呼び出してください\n",
    "- help関数で今まで学んだPython標準の関数のなにかを調べてください"
   ]
  },
  {
   "cell_type": "code",
   "execution_count": 9,
   "metadata": {},
   "outputs": [
    {
     "name": "stdout",
     "output_type": "stream",
     "text": [
      "5\n"
     ]
    }
   ],
   "source": [
    "def my_abs(x):\n",
    "    if x < 0:\n",
    "        return x * -1\n",
    "    return x\n",
    "print(my_abs(-5))"
   ]
  },
  {
   "cell_type": "code",
   "execution_count": 13,
   "metadata": {},
   "outputs": [
    {
     "name": "stdout",
     "output_type": "stream",
     "text": [
      "50\n"
     ]
    }
   ],
   "source": [
    "def my_max(a, b):\n",
    "    return a if a > b else b\n",
    "print(my_max(30, 50))"
   ]
  },
  {
   "cell_type": "code",
   "execution_count": null,
   "metadata": {},
   "outputs": [],
   "source": []
  }
 ],
 "metadata": {
  "kernelspec": {
   "display_name": "Python 3",
   "language": "python",
   "name": "python3"
  },
  "language_info": {
   "codemirror_mode": {
    "name": "ipython",
    "version": 3
   },
   "file_extension": ".py",
   "mimetype": "text/x-python",
   "name": "python",
   "nbconvert_exporter": "python",
   "pygments_lexer": "ipython3",
   "version": "3.7.4"
  }
 },
 "nbformat": 4,
 "nbformat_minor": 4
}
