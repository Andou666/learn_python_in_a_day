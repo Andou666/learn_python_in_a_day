{
 "cells": [
  {
   "cell_type": "markdown",
   "metadata": {},
   "source": [
    "# SECTION 02 オリジナルの関数を定義する\n",
    "- このセクションで学ぶこと\n",
    "    - 関数の概念の復習\n",
    "    - 関数を定義する\n",
    "    - ⾃分で定義した関数を利⽤する\n",
    "    - 関数の命名ルール\n",
    "    - 定義と参照の順序"
   ]
  },
  {
   "cell_type": "markdown",
   "metadata": {},
   "source": [
    "## 関数の概念の復習\n",
    "- 関数の仕事\n",
    "  1. 「引数」でデータを受け取る\n",
    "  2. 受け取ったデータで処理を⾏う\n",
    "  3. 結果を「返り値」として呼び出し元に返す\n",
    "- 絶対値を求めるabs関数の例\n",
    "  1. 引数で数値を受け取る\n",
    "  2. 受け取った数値を絶対値にする(マイナスであればプラスに変換する)\n",
    "  3. 絶対値を呼び出し元に返す"
   ]
  },
  {
   "cell_type": "markdown",
   "metadata": {},
   "source": [
    "## 関数を定義する\n",
    "- 関数を定義する⽂法ルールがある\n",
    "- 引数は関数内で変数として利⽤される。再代⼊も可能\n",
    "```\n",
    "def 関数名(引数1, 引数2, ...):\n",
    "    処理1\n",
    "    処理2\n",
    "    return 返り値\n",
    "```"
   ]
  },
  {
   "cell_type": "code",
   "execution_count": 5,
   "metadata": {},
   "outputs": [],
   "source": [
    "# 絶対値を求める関数の定義例\n",
    "# • 関数名: my_abs\n",
    "# • 引数: x\n",
    "# • 処理: if⽂でxを絶対値にする\n",
    "# • 返り値: 処理されたx\n",
    "def my_abs(x):\n",
    "    if x < 0:\n",
    "        x *= -1\n",
    "    return x"
   ]
  },
  {
   "cell_type": "markdown",
   "metadata": {},
   "source": [
    "## ⾃分で定義した関数を利⽤する\n",
    "- ⾃作関数の利⽤法はPythonが提供する関数(printなど)と同じ\n",
    "- 関数名に()をつけ、引数として渡す値や変数を()内に並べる\n",
    "- 関数の定義より前で関数を呼び出すとエラーになる"
   ]
  },
  {
   "cell_type": "code",
   "execution_count": 6,
   "metadata": {},
   "outputs": [
    {
     "name": "stdout",
     "output_type": "stream",
     "text": [
      "3\n",
      "5\n"
     ]
    }
   ],
   "source": [
    "def my_abs(x):\n",
    "    if x < 0:\n",
    "        x *= -1\n",
    "    return x\n",
    "a = my_abs(3)\n",
    "print(a)\n",
    "print(my_abs(-5))"
   ]
  },
  {
   "cell_type": "code",
   "execution_count": 8,
   "metadata": {},
   "outputs": [
    {
     "name": "stdout",
     "output_type": "stream",
     "text": [
      "None\n"
     ]
    }
   ],
   "source": [
    "print(my_abs(-5))\n",
    "def my_abs(x):\n",
    "    if x < 0:\n",
    "        x *= -1\n",
    "    return x"
   ]
  },
  {
   "cell_type": "markdown",
   "metadata": {},
   "source": [
    "## 関数の命名ルール\n",
    "- 関数名の⽂法的なルールは変数名と同じ\n",
    "    - アルファベットの⼩⽂字と数字をアンダーバーで区切る\n",
    "    - ⼤⽂字の利⽤も可能だがPythonらしくない名前\n",
    "- 「関数名は動詞から始める」というのが⼀般的なルール\n",
    "\n",
    "```\n",
    "# よい変数名の例\n",
    "def add_something(x):\n",
    "...\n",
    "def get_something(x):\n",
    "...\n",
    "```\n",
    "\n",
    "```\n",
    "# Pythonらしくない変数名の例\n",
    "def addSomething(x):\n",
    "...\n",
    "def getSomething(x):\n",
    "...\n",
    "```\n",
    "\n",
    "```\n",
    "# Pythonらしくない変数名の例\n",
    "def something_adder(x):\n",
    "...\n",
    "def something_getter(x):\n",
    "...\n",
    "```"
   ]
  },
  {
   "cell_type": "markdown",
   "metadata": {},
   "source": [
    "## コラム: 変数の定義と参照の順序\n",
    "- 関数と同様に変数も「定義前に参照するとエラー」となる\n",
    "- プログラムがどのような流れで読み込まれて処理されるかを意識すればトラブルを避けやすい"
   ]
  },
  {
   "cell_type": "code",
   "execution_count": 9,
   "metadata": {},
   "outputs": [
    {
     "name": "stdout",
     "output_type": "stream",
     "text": [
      "3\n"
     ]
    }
   ],
   "source": [
    "print(a)\n",
    "a = 5"
   ]
  },
  {
   "cell_type": "markdown",
   "metadata": {},
   "source": [
    "## 演習\n",
    "- FizzBuzz問題を関数化してください\n",
    "  - FizzBuzz⾃体の説明は2章の演習を参照してください\n",
    "  - 引数は1つで整数を受け取ります\n",
    "  - 返り値は「 \" Fizz \" 」「 \" Buzz \" 」「 \" FizzBuzz \" 」「 \"\" 」のいずれかの⽂字列とします\n",
    "  - forループで「0から20までリストの各要素」にたいしてFizzBuzzの関数を使い、結果を1つずつprintしてください\n",
    "- 数値を受け取り、その数値が偶数であればTrue, 奇数であればFalseを返す is_even 関数を作成してください。ヒント: 偶数と奇数の判定は2で割り切れるかを剰余計算(%記号)で求める"
   ]
  },
  {
   "cell_type": "code",
   "execution_count": 16,
   "metadata": {},
   "outputs": [
    {
     "name": "stdout",
     "output_type": "stream",
     "text": [
      "True\n"
     ]
    }
   ],
   "source": [
    "def is_even(n):\n",
    "    return n % 2 == 0\n",
    "print(is_even(2))"
   ]
  },
  {
   "cell_type": "code",
   "execution_count": null,
   "metadata": {},
   "outputs": [],
   "source": []
  }
 ],
 "metadata": {
  "kernelspec": {
   "display_name": "Python 3",
   "language": "python",
   "name": "python3"
  },
  "language_info": {
   "codemirror_mode": {
    "name": "ipython",
    "version": 3
   },
   "file_extension": ".py",
   "mimetype": "text/x-python",
   "name": "python",
   "nbconvert_exporter": "python",
   "pygments_lexer": "ipython3",
   "version": "3.7.4"
  }
 },
 "nbformat": 4,
 "nbformat_minor": 4
}
