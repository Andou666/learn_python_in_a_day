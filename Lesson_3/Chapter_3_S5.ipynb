{
 "cells": [
  {
   "cell_type": "markdown",
   "metadata": {},
   "source": [
    "# SECTION 05 組み込み関数を活⽤する\n",
    "- このセクションで学ぶこと\n",
    "  - for⽂で便利なrange関数\n",
    "  - リストを扱うのに便利な関数\n",
    "  - filter関数でリストの要素を絞り込む\n",
    "  - map関数でリストをまとめて処理する"
   ]
  },
  {
   "cell_type": "markdown",
   "metadata": {},
   "source": [
    "## for⽂で便利なrange関数\n",
    "- 「range関数」で数字の連番(0,1,2...など)を作れる\n",
    "- 利⽤法1: 引数を1つ与えて0からその値-1までの連番を作る\n",
    "- 利⽤法2: 引数を1つ与えて「1つめの引数の値」から「2つめの引数の値 - 1」までの連番を作る\n",
    "- 「N回ループする」ときにfor⽂と利⽤法1の組み合わせが便利"
   ]
  },
  {
   "cell_type": "code",
   "execution_count": 1,
   "metadata": {},
   "outputs": [
    {
     "name": "stdout",
     "output_type": "stream",
     "text": [
      "range(0, 5)\n",
      "[0, 1, 2, 3, 4]\n"
     ]
    }
   ],
   "source": [
    "a = range(5)\n",
    "print(a)\n",
    "print(list(a))"
   ]
  },
  {
   "cell_type": "code",
   "execution_count": 2,
   "metadata": {},
   "outputs": [
    {
     "name": "stdout",
     "output_type": "stream",
     "text": [
      "2\n",
      "3\n",
      "4\n"
     ]
    }
   ],
   "source": [
    "for i in range(2,5):\n",
    "    print(i)"
   ]
  },
  {
   "cell_type": "markdown",
   "metadata": {},
   "source": [
    "## リストを扱うのに便利な関数\n",
    "- len関数: リスト⻑さの取得\n",
    "- max関数: 引数の最⼤値を取得。引数はリストか可変⻑引数\n",
    "- min関数: 引数の最⼩値を取得。引数はリストか可変⻑引数"
   ]
  },
  {
   "cell_type": "code",
   "execution_count": 3,
   "metadata": {},
   "outputs": [
    {
     "name": "stdout",
     "output_type": "stream",
     "text": [
      "6\n",
      "9\n",
      "1\n"
     ]
    }
   ],
   "source": [
    "list1 = [4, 2, 5, 8, 9, 1]\n",
    "print(len(list1))\n",
    "print(max(list1))\n",
    "print(min(list1))"
   ]
  },
  {
   "cell_type": "markdown",
   "metadata": {},
   "source": [
    "## filter関数でリストの要素を絞り込む\n",
    "- リストから特定条件を満たす要素を取り出す処理は多⽤する\n",
    "- 「filter関数」にリストと条件判定の関数を与えて実現可能\n",
    "- 返り値はループで直接使えるが、リスト型ではないので注意が必要。リストが必要な場合は「list関数」でキャストする"
   ]
  },
  {
   "cell_type": "code",
   "execution_count": 4,
   "metadata": {},
   "outputs": [
    {
     "name": "stdout",
     "output_type": "stream",
     "text": [
      "[4, 2, 8]\n"
     ]
    }
   ],
   "source": [
    "def is_even(x):\n",
    "    return x % 2 == 0\n",
    "\n",
    "list1 = [4, 2, 5, 8, 9, 1]\n",
    "filter_object = filter(is_even, list1)\n",
    "\n",
    "list2 = list(filter_object)\n",
    "print(list2)"
   ]
  },
  {
   "cell_type": "markdown",
   "metadata": {},
   "source": [
    "## map関数でリストをまとめて処理する\n",
    "- リストの要素全てに特定の処理を施す場⾯は多い\n",
    "- 「map関数」にリストと関数を与えると、リストの全要素に関数の処理を実施した結果を返す"
   ]
  },
  {
   "cell_type": "code",
   "execution_count": 5,
   "metadata": {},
   "outputs": [
    {
     "name": "stdout",
     "output_type": "stream",
     "text": [
      "9\n",
      "7\n",
      "10\n",
      "13\n",
      "14\n",
      "6\n"
     ]
    }
   ],
   "source": [
    "def add5(x):\n",
    "    return x + 5\n",
    "\n",
    "list1 = [4, 2, 5, 8, 9, 1]\n",
    "map_object = map(add5, list1)\n",
    "\n",
    "for i in map_object:\n",
    "    print(i)"
   ]
  },
  {
   "cell_type": "markdown",
   "metadata": {},
   "source": [
    "## 演習\n",
    "- range関数とforループを使って指定された数だけ「hello」と出⼒する関数を作成してください\n",
    "- 正と負の整数を持つリストをfilter関数と⾃作関数を使って正の整数のみを抽出したリストにしてください。たとえば[5, -3, 8, -1, 4]を与えると[5, 8, 4]が得られます\n",
    "- map関数を使って数値を含むリストを⽂字列を含むリストに変換してください。たとえば[5, -3, 8, -1, 4]を与えると['5', '-3', '8', '-1', '4']が得られます"
   ]
  },
  {
   "cell_type": "code",
   "execution_count": 6,
   "metadata": {},
   "outputs": [
    {
     "name": "stdout",
     "output_type": "stream",
     "text": [
      "hello\n",
      "hello\n",
      "hello\n",
      "hello\n",
      "hello\n"
     ]
    }
   ],
   "source": [
    "def say_hello(n):\n",
    "    for i in range(n):\n",
    "        print('hello')\n",
    "say_hello(5)"
   ]
  },
  {
   "cell_type": "code",
   "execution_count": 8,
   "metadata": {},
   "outputs": [
    {
     "name": "stdout",
     "output_type": "stream",
     "text": [
      "[5, 8, 4]\n"
     ]
    }
   ],
   "source": [
    "my_list = [5, -3, 8, -1, 4]\n",
    "my_list = filter(lambda n: n > 0, my_list)\n",
    "print(list(my_list))"
   ]
  },
  {
   "cell_type": "code",
   "execution_count": 9,
   "metadata": {},
   "outputs": [
    {
     "name": "stdout",
     "output_type": "stream",
     "text": [
      "['5', '-3', '8', '-1', '4']\n"
     ]
    }
   ],
   "source": [
    "my_list = [5, -3, 8, -1, 4]\n",
    "my_list = map(lambda n: str(n), my_list)\n",
    "print(list(my_list))"
   ]
  },
  {
   "cell_type": "code",
   "execution_count": null,
   "metadata": {},
   "outputs": [],
   "source": []
  }
 ],
 "metadata": {
  "kernelspec": {
   "display_name": "Python 3",
   "language": "python",
   "name": "python3"
  },
  "language_info": {
   "codemirror_mode": {
    "name": "ipython",
    "version": 3
   },
   "file_extension": ".py",
   "mimetype": "text/x-python",
   "name": "python",
   "nbconvert_exporter": "python",
   "pygments_lexer": "ipython3",
   "version": "3.7.4"
  }
 },
 "nbformat": 4,
 "nbformat_minor": 4
}
