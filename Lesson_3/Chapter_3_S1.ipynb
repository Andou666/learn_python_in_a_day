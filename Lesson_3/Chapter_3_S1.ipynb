{
 "cells": [
  {
   "cell_type": "markdown",
   "metadata": {},
   "source": [
    "# SECTION 01 なぜ関数が必要なのか?\n",
    "- このセクションで学ぶこと\n",
    "   - 関数にしかできない処理を提供する\n",
    "   - 複雑な処理を簡単に実現する\n",
    "   - コードの重複の排除"
   ]
  },
  {
   "cell_type": "markdown",
   "metadata": {},
   "source": [
    "## 役割(1) - 関数にしかできない処理を提供する\n",
    "- OSやハードウェアの機能(画⾯出⼒やネットワークなど)の利⽤は関数しかできない\n",
    "- 関数の内部ではシステムコールなどにより低いレイヤのプログラム(C⾔語)が呼び出されている"
   ]
  },
  {
   "cell_type": "markdown",
   "metadata": {},
   "source": [
    "## 役割(2) - 複雑な処理を簡単に実現する(1/3)\n",
    "- アルゴリズムを⾃分で書けば複雑な処理も実現できる\n",
    "- ⼀般的な処理はPythonが関数などを提供しているので、それを使うほうが「簡単」「バグが少ない」「速い」\n",
    "- 現時点の知識でのソートアルゴリズムの実装(難しい)\n",
    "- 変数の値の交換処理には⼀時変数が必要"
   ]
  },
  {
   "cell_type": "code",
   "execution_count": 2,
   "metadata": {},
   "outputs": [
    {
     "name": "stdout",
     "output_type": "stream",
     "text": [
      "0: [1, 9, 4, 5, 8]\n",
      "1: [1, 4, 9, 5, 8]\n",
      "2: [1, 4, 5, 9, 8]\n",
      "3: [1, 4, 5, 8, 9]\n",
      "4: [1, 4, 5, 8, 9]\n",
      "sorted: [1, 4, 5, 8, 9]\n"
     ]
    }
   ],
   "source": [
    "a = [5,9,4,1,8]\n",
    "length = len(a)\n",
    "i = 0\n",
    "while(i < length):\n",
    "    # i番⽬以降の最⼩の要素を探す\n",
    "    minimum_index = i\n",
    "    j = i + 1\n",
    "    while j < length:\n",
    "        if a[j] < a[minimum_index]:\n",
    "            minimum_index = j\n",
    "        j += 1\n",
    "    # i番⽬と最⼩の要素をスワップする\n",
    "    if minimum_index != i:\n",
    "        tmp = a[i]\n",
    "        a[i] = a[minimum_index]\n",
    "        a[minimum_index] = tmp\n",
    "    # i番⽬のループが終わった際のリスト\n",
    "    print(str(i) + ': ' + str(a))\n",
    "    i += 1\n",
    "print('sorted: ' + str(a))"
   ]
  },
  {
   "cell_type": "markdown",
   "metadata": {},
   "source": [
    "## 役割(2) - 複雑な処理を簡単に実現する(3/3)\n",
    "- sorted関数で昇順ソート(⼩さいものから⼤きいものへ)が提供されている\n",
    "- ⾃作のソート処理より以下の点で優れる\n",
    "    - プログラムの⾒た⽬がシンプル\n",
    "    - ⾼速(選択ソートより賢いアルゴリズムがC⾔語で実装される)\n",
    "    - バグが発⽣する可能性が低い"
   ]
  },
  {
   "cell_type": "code",
   "execution_count": 3,
   "metadata": {},
   "outputs": [
    {
     "name": "stdout",
     "output_type": "stream",
     "text": [
      "[1, 4, 5, 8, 9]\n"
     ]
    }
   ],
   "source": [
    "a = [5,9,4,1,8]\n",
    "b = sorted(a)\n",
    "print(b)"
   ]
  },
  {
   "cell_type": "markdown",
   "metadata": {},
   "source": [
    "## 役割(3) - コードの重複の排除\n",
    "- 同⼀の処理をコピーペーストで何度も書くのはよくない\n",
    "- ソースコードが無駄に⻑くなって読みにくくなる\n",
    "- バグやコードの修正が発⽣すると⾯倒だしトラブルのもと\n",
    "- 関数化されていれば「⾒やすい」し「変更(修正)しやすい」"
   ]
  },
  {
   "cell_type": "code",
   "execution_count": 4,
   "metadata": {},
   "outputs": [
    {
     "name": "stdout",
     "output_type": "stream",
     "text": [
      "5\n",
      "3\n"
     ]
    }
   ],
   "source": [
    "a = 5\n",
    "if a < 0:\n",
    "    a *= -1\n",
    "\n",
    "# 何か関係ない処理\n",
    "b = -3\n",
    "if b < 0:\n",
    "    b *= -1\n",
    "print(a) # 5\n",
    "print(b) # 3"
   ]
  },
  {
   "cell_type": "code",
   "execution_count": 5,
   "metadata": {},
   "outputs": [
    {
     "name": "stdout",
     "output_type": "stream",
     "text": [
      "5\n",
      "3\n"
     ]
    }
   ],
   "source": [
    "a = 5\n",
    "a = abs(a)\n",
    "# 何か関係ない処理\n",
    "b = -3\n",
    "b = abs(b)\n",
    "print(a) # 5\n",
    "print(b) # 3"
   ]
  },
  {
   "cell_type": "markdown",
   "metadata": {},
   "source": [
    "## 演習\n",
    "- 関数が必要な理由を3つ説明してください\n",
    "- 発展課題: ソートアルゴリズムについて調査し、バブルソートを実装してください"
   ]
  },
  {
   "cell_type": "code",
   "execution_count": 9,
   "metadata": {},
   "outputs": [
    {
     "name": "stdout",
     "output_type": "stream",
     "text": [
      "[1, 4, 6, 10]\n"
     ]
    }
   ],
   "source": [
    "# バブルソート\n",
    "num = [10, 1, 4, 6]\n",
    "for i in range(len(num)):\n",
    "    for j in range(len(num)-1, i, -1):\n",
    "        if num[j] < num[j-1]:\n",
    "            num[j], num[j-1] = num[j-1], num[j]\n",
    "print(num)"
   ]
  },
  {
   "cell_type": "code",
   "execution_count": null,
   "metadata": {},
   "outputs": [],
   "source": []
  }
 ],
 "metadata": {
  "kernelspec": {
   "display_name": "Python 3",
   "language": "python",
   "name": "python3"
  },
  "language_info": {
   "codemirror_mode": {
    "name": "ipython",
    "version": 3
   },
   "file_extension": ".py",
   "mimetype": "text/x-python",
   "name": "python",
   "nbconvert_exporter": "python",
   "pygments_lexer": "ipython3",
   "version": "3.7.4"
  }
 },
 "nbformat": 4,
 "nbformat_minor": 4
}
