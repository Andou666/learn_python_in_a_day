{
 "cells": [
  {
   "cell_type": "markdown",
   "metadata": {},
   "source": [
    "# SECTION 01 アプリケーション開発の流れを知る\n",
    "- このセクションで学ぶこと\n",
    "- プログラム開発の計画を作る\n",
    "- ⽬的を実現するためになにが必要かまとめる\n",
    "- プログラム全体の流れを考える\n",
    "- コラム: 設計とフレームワーク"
   ]
  },
  {
   "cell_type": "markdown",
   "metadata": {},
   "source": [
    "## プログラム開発の計画を作る\n",
    "- 題材:インターネットから複数の画像を集めるプログラムを作成\n",
    "- アプリケーション開発には計画が必要\n",
    "- 本章では以下のステップで開発を進めていく\n",
    "  - ⽬的を実現するためには何が必要かまとめる\n",
    "  - プログラム全体の流れを考える\n",
    "  - プログラムの中の重要な箇所を試験的に作ってみる\n",
    "  - プログラムの⼤枠を作る\n",
    "  - コードに機能を追加していき設計や品質を向上させる"
   ]
  },
  {
   "cell_type": "markdown",
   "metadata": {},
   "source": [
    "## ⽬的を実現するためになにが必要かまとめる\n",
    "- ⽬的: インターネットから画像を取得する\n",
    "- 必要なこと\n",
    "  - 画像のURLを取得してダウンロード\n",
    "  - 画像のURLはウェブサイトのHTMLに埋め込まれている\n",
    "  - 埋め込まれているURLを「正規表現(後述)」で抽出する"
   ]
  },
  {
   "cell_type": "markdown",
   "metadata": {},
   "source": [
    "## プログラム全体の流れを考える\n",
    "- 画像ファイルのURLを取得するウェブページのURLが必要\n",
    "- ウェブページ1でウェブページと画像URLを集めたら、そこにあるウェブページ2で取得。次にウェブページ3と繰り返せる\n",
    "- 終了条件や同じURLの再取得を防ぐ⽅法を検討"
   ]
  },
  {
   "cell_type": "markdown",
   "metadata": {},
   "source": [
    "## コラム: 設計とフレームワーク\n",
    "- ⼊⾨書は読んで理解できたが、実際にサンプル以上のプログラムを書けないという⼈が多い\n",
    "- フレームワークは「⼤枠のなかの処理を⾃分で実装する」という⽅式でシステムを作成するので、ライブラリを使って⾃分が全てを設計するよりも「設計が簡単」\n",
    "- ⾃分で設計をするのは慣れが必要なので、HTML/CSSを学んで簡易ウェブフレームワークで簡単な動的なウェブサイトを作ってみるとよいかも"
   ]
  },
  {
   "cell_type": "code",
   "execution_count": null,
   "metadata": {},
   "outputs": [],
   "source": []
  }
 ],
 "metadata": {
  "kernelspec": {
   "display_name": "Python 3",
   "language": "python",
   "name": "python3"
  },
  "language_info": {
   "codemirror_mode": {
    "name": "ipython",
    "version": 3
   },
   "file_extension": ".py",
   "mimetype": "text/x-python",
   "name": "python",
   "nbconvert_exporter": "python",
   "pygments_lexer": "ipython3",
   "version": "3.7.4"
  }
 },
 "nbformat": 4,
 "nbformat_minor": 4
}
