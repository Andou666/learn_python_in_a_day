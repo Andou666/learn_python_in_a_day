{
 "cells": [
  {
   "cell_type": "markdown",
   "metadata": {},
   "source": [
    "# SECTION 03 本番のプログラムを作る\n",
    "- このセクションで学ぶこと\n",
    "  - クラスを設計する流れ\n",
    "  - コンストラクタの実装\n",
    "  - メソッドの役割を決める\n",
    "  - メインメソッドの実装\n",
    "  - 指定ページから絶対URL⼀覧を得るメソッドの実装\n",
    "  - 絶対URLを画像とHTMLに振り分けるメソッドの実装\n",
    "  - 画像データを保存するメソッドの実装\n",
    "  - メインプログラムの実⾏\n",
    "  - コラム: プログラムのテスト"
   ]
  },
  {
   "cell_type": "markdown",
   "metadata": {},
   "source": [
    "## クラスを設計する流れ\n",
    "- 複雑なプログラムでは「関数(メソッド含む)が別の関数を呼び出す」を繰り返すことで実現する\n",
    "- 関数間で全てのデータを引数で受け渡しするとカオスになるので、クラスを使って共有データはインスタンス変数として定義する(詳細な理由は5章を参照)\n",
    "- クラス設計\n",
    "  - プログラムが必要とする情報はコンストラクタで受け取る\n",
    "  - メソッド間で共有されるデータはコンストラクタでインスタンス変数として定義する\n",
    "  - 処理に応じてメソッドを分けて、中⼼となるメソッドが各機能を担当するメソッドを呼び出すシンプルな処理の流れを作る"
   ]
  },
  {
   "cell_type": "markdown",
   "metadata": {},
   "source": [
    "## このアプリケーションの設計概要"
   ]
  },
  {
   "cell_type": "markdown",
   "metadata": {},
   "source": [
    "## コンストラクタの実装\n",
    "- 引数\n",
    "  - save_dirpath: 画像保存場所\n",
    "  - start_page: 最初にアクセスするURL\n",
    "  - maximum_download: 集める画像の枚数\n",
    "    \n",
    "- インスタンス変数\n",
    "  - self.save_dirpath: 引数より\n",
    "  - self.crawl_url_list: 次にアクセスするURLのリスト\n",
    "  - self.stocked_url: すでにアクセスしたURLのセット\n",
    "  - self.maximum_download: 引数より\n",
    "  - self.download_counter: 何枚保存したか数える"
   ]
  },
  {
   "cell_type": "code",
   "execution_count": 1,
   "metadata": {},
   "outputs": [],
   "source": [
    "import os\n",
    "import re\n",
    "import urllib\n",
    "import requests\n",
    "class ImageCrawller:\n",
    "    def __init__(self, save_dirpath, start_page, maximum_download):\n",
    "        self.save_dirpath = save_dirpath\n",
    "        self.crawl_url_list = [start_page]\n",
    "        self.stocked_url = set()\n",
    "        self.maximum_download = maximum_download\n",
    "        self.download_counter = 0"
   ]
  },
  {
   "cell_type": "markdown",
   "metadata": {},
   "source": [
    "## メソッドの役割を決める\n",
    "- メソッドの分割について\n",
    "  - ⼤きい: 処理が多すぎてメソッドの⾒通しが悪くなる\n",
    "  - ⼩さい: メソッド間の呼び出しが多すぎて分かりにくい\n",
    "  - 適切な粒度(分割する⼤きさ)が必要\n",
    "- 本章で作成するメソッド\n",
    "  - コンストラクタ(作成済み)\n",
    "  - 下記3つを束ねる中⼼となるメソッド(メインメソッド)\n",
    "  - あるURLのHTMLに含まれる絶対URLをリストで返すメソッド\n",
    "  - URLをHTMLと画像に振り分けるメソッド\n",
    "  - イメージを保存するメソッド"
   ]
  },
  {
   "cell_type": "markdown",
   "metadata": {},
   "source": [
    "## メインメソッドの実装\n",
    "- 荒削りでよいので、全体の処理の流れをコメント付きで書く\n",
    "- 細部を実装してからメインメソッドも微修正される\n",
    "- 実験的に主要な機能をテストしていないと設計しづらく、あとにプログラムの⼤きな修正が発⽣する可能性が⾼まる\n",
    "- プログラム(次ページ)の設計\n",
    "  1. 終了条件に合致していないか確認。合致していれば終了\n",
    "  2. URL回収⽤のウェブページURLをリストから取得\n",
    "  3. そのURLにアクセスして絶対URLのリストを取得\n",
    "  4. 絶対URLのリストを「画像」「ウェブページ」に分類\n",
    "  5. 画像のURLリストの画像を全て取得\n",
    "  6. 1に戻る(whileによる無限ループ)"
   ]
  },
  {
   "cell_type": "code",
   "execution_count": null,
   "metadata": {},
   "outputs": [],
   "source": [
    "def run(self):\n",
    "    while True:\n",
    "        # 処理1: 探索するURLがなければ終了。規定数以上を集めていても終了\n",
    "        if len(self.crawl_url_list) == 0:\n",
    "            break\n",
    "        if self.download_counter >= self.maximum_download:\n",
    "            break\n",
    "        # 処理2: 次に調べるHTMLのURLを取得\n",
    "        crawl_url = self.crawl_url_list.pop(0)\n",
    "        # 処理3: HTMLページから絶対URLを抽出する\n",
    "        urls = self.get_abs_urls(crawl_url)\n",
    "        # 処理4: 絶対URLをHTMLかイメージかに分類する。イメージのリストを返す\n",
    "        image_url_list = self.get_image_url_list(urls)\n",
    "        # 処理5: リストに格納されたイメージを全て保存する\n",
    "        self.save_images(image_url_list)\n",
    "    print('Finished')"
   ]
  },
  {
   "cell_type": "markdown",
   "metadata": {},
   "source": [
    "## 指定ページから絶対URL⼀覧を得るメソッドの実装"
   ]
  },
  {
   "cell_type": "code",
   "execution_count": null,
   "metadata": {},
   "outputs": [],
   "source": [
    "def get_abs_urls(self, url):\n",
    "    try:\n",
    "        # URLから⽂字列のHTMLを取得\n",
    "        response = requests.get(url)\n",
    "        html = response.text\n",
    "        # HTMLからURLを抜き出してリストに格納\n",
    "        relative_url_list = re.findall('<a href=\"?\\'?([^\"\\'>]*)', html)\n",
    "        # 相対URLを絶対URLに変換。HTTP/HTTPS以外のURLは除外\n",
    "        abs_url_list = []\n",
    "        for relative_url in relative_url_list:\n",
    "            abs_url = urllib.parse.urljoin(url, relative_url)\n",
    "            if abs_url.startswith('http://') or abs_url.startswith('https://'):\n",
    "                abs_url_list.append(abs_url)\n",
    "        return abs_url_list\n",
    "    except Exception as e:\n",
    "        print('Error: {}'.format(e))\n",
    "        return []"
   ]
  },
  {
   "cell_type": "markdown",
   "metadata": {},
   "source": [
    "## 絶対URLを画像とHTMLに振り分けるメソッドの実装"
   ]
  },
  {
   "cell_type": "code",
   "execution_count": null,
   "metadata": {},
   "outputs": [],
   "source": [
    "def get_image_url_list(self, url_list):\n",
    "    try:\n",
    "        image_url_list = []\n",
    "        for url in url_list:\n",
    "            if url in self.stocked_url: # すでに登録されたURLなので無視\n",
    "                continue\n",
    "            if '.jpg' in url:\n",
    "                image_url_list.append(url)\n",
    "            elif '.png' in url:\n",
    "                image_url_list.append(url)\n",
    "            elif '.gif' in url:\n",
    "                image_url_list.append(url)\n",
    "            else:\n",
    "                self.crawl_url_list.append(url) # 画像ファイルではないのでURL取得に使う\n",
    "        self.stocked_url.add(url) # URLを登録。同じものは再登録しない\n",
    "        return image_url_list\n",
    "    except Exception as e:\n",
    "        print('Error: {}'.format(e))\n",
    "        return []"
   ]
  },
  {
   "cell_type": "markdown",
   "metadata": {},
   "source": [
    "## 画像データを保存するメソッドの実装"
   ]
  },
  {
   "cell_type": "code",
   "execution_count": null,
   "metadata": {},
   "outputs": [],
   "source": [
    "def save_images(self, image_url_list):\n",
    "    for image_url in image_url_list:\n",
    "        try:\n",
    "            # 決められた回数以上のダウンロードをした場合は終了\n",
    "            if self.download_counter >= self.maximum_download:\n",
    "                return\n",
    "            # イメージを取得\n",
    "            response = requests.get(image_url, stream=True)\n",
    "            image = response.content\n",
    "            # イメージをファイルに保存\n",
    "            file_name = image_url.split('/').pop()\n",
    "            save_path = os.path.join(self.save_dirpath, file_name)\n",
    "            fout = open(save_path, 'wb')\n",
    "            fout.write(image)\n",
    "            fout.close()\n",
    "            self.download_counter += 1\n",
    "            print('saved image: {}/{}'\n",
    "            .format(self.download_counter, self.maximum_download))\n",
    "        except Exception as e:\n",
    "            print('Error: {}'.format(e))"
   ]
  },
  {
   "cell_type": "markdown",
   "metadata": {},
   "source": [
    "## メインのプログラムの実⾏\n",
    "- プログラム最後に「if __name__ == ' __main__ ' :」を定義"
   ]
  },
  {
   "cell_type": "code",
   "execution_count": null,
   "metadata": {},
   "outputs": [],
   "source": [
    "if __name__ == '__main__':\n",
    "    save_dirpath = 'test'\n",
    "    start_page = 'https://gihyo.jp/book/list'\n",
    "    maximum_download = 10\n",
    "    crawller = ImageCrawller(save_dirpath, start_page, maximum_download)\n",
    "    crawller.run()"
   ]
  },
  {
   "cell_type": "markdown",
   "metadata": {},
   "source": [
    "## コラム: プログラムのテスト\n",
    "- 数⼗⾏以上のコードがミスなく書けていると思わないこと\n",
    "- 「ビッグバンテスト」と呼ばれる全てを書き終わってから動かしてテストをすることは避けること\n",
    "- テストを使ってきちんと動くプログラムを書くコツ\n",
    "  - モジュールの設計で役割ごとにプログラムファイルを分離\n",
    "  - 確実に動く⼩さなプログラムを開発してモジュールに組み込む\n",
    "  - モジュール間の依存関係を減らしてモジュールレベルでテストを実施できるようにする\n",
    "  - 変更を繰り返した汚いコードは綺麗に書き直す\n",
    "  - ユニットテストでテストを⾒える化する(中級者)\n",
    "  - ⾃動化などでテストを勝⼿に⾛らせるようにする(上級者)"
   ]
  },
  {
   "cell_type": "markdown",
   "metadata": {},
   "source": [
    "## 演習\n",
    "- 最初にアクセスするページを変更してアプリケーションを⾃分で起動してみる(ウェブサイトに過負荷を与えるのを避けるため⼩規模のサイトは使わないでください)\n",
    "- 画像ではなくHTMLを集めて保存するプログラムを作成してください\n",
    "- 発展課題: HTMLがすでに保存されているファイル名であれば名前に連番を付けるなどしてください"
   ]
  },
  {
   "cell_type": "code",
   "execution_count": null,
   "metadata": {},
   "outputs": [],
   "source": []
  }
 ],
 "metadata": {
  "kernelspec": {
   "display_name": "Python 3",
   "language": "python",
   "name": "python3"
  },
  "language_info": {
   "codemirror_mode": {
    "name": "ipython",
    "version": 3
   },
   "file_extension": ".py",
   "mimetype": "text/x-python",
   "name": "python",
   "nbconvert_exporter": "python",
   "pygments_lexer": "ipython3",
   "version": "3.7.4"
  }
 },
 "nbformat": 4,
 "nbformat_minor": 4
}
