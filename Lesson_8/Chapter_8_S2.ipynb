{
 "cells": [
  {
   "cell_type": "markdown",
   "metadata": {},
   "source": [
    "# SECTION 02 重要箇所をテスト実装する\n",
    "- このセクションで学ぶこと\n",
    "  - なぜテスト実装が必要なのか\n",
    "  - URLを指定してHTMLを取得\n",
    "  - 正規表現でHTMLからURLを取得\n",
    "  - 相対URLを絶対URLに変換\n",
    "  - URLが画像ファイルか否かを判定\n",
    "  - 画像ファイルを保存"
   ]
  },
  {
   "cell_type": "markdown",
   "metadata": {},
   "source": [
    "## なぜテスト実装が必要なのか\n",
    "- 開発スピードを向上させるため\n",
    "  - ⼤きなサービスのなかで⼩さな1つの機能を0から開発するのは「起動」「準備(テスト値の⽤意など)」に時間がかかる\n",
    "  - ⼩さなコードでエラーを繰り返しながら機能を実現させ、そのあとで組み込めばトラブルが少ない\n",
    "- 当初の想定と異なる場合があるため\n",
    "  - 利⽤を想定していたライブラリが⽬的の機能を果たせない場合などがある\n",
    "  - 他を作り込んだうえで発覚すると修正が⼤変なので⼤枠を固める前に可能な限りパーツを作っておく\n",
    "- すでに重要箇所が動いているとメンタル的に安⼼して開発できる"
   ]
  },
  {
   "cell_type": "markdown",
   "metadata": {},
   "source": [
    "## URLを指定してHTMLを取得\n",
    "- 本番プログラムは⼤きくて複雑なので、「本番でも使いやすいテスト⽤のコード(たとえば関数)」を作成するのがよい\n",
    "- HTMLの取得には6章のrequestsモジュールを利⽤"
   ]
  },
  {
   "cell_type": "code",
   "execution_count": 1,
   "metadata": {},
   "outputs": [],
   "source": [
    "import requests\n",
    "def download_html(url):\n",
    "    response = requests.get(url)\n",
    "    html = response.text\n",
    "    return html\n",
    "\n",
    "html = download_html('https://gihyo.jp/book/list')\n",
    "fout = open('sample.html', 'w', encoding='utf8')\n",
    "fout.write(html)\n",
    "fout.close()"
   ]
  },
  {
   "cell_type": "markdown",
   "metadata": {},
   "source": [
    "## 正規表現でHTMLからURLを取得\n",
    "- 先に取得したHTML内にはURLが多数ある\n",
    "- ウェブサイトや画像のURLを抜き出す処理に正規表現を使う\n",
    "- 「正規表現」は 特定のパターンの⽂字列が含まれるかのチェックや抜き出し処理をする⼿法。他のプログラミング⾔語にもある\n",
    "- 複雑な正規表現のパターンは検索するのが⼿っ取り早い。たとえば「Python 正規表現 URL」や「Python regex URL」など"
   ]
  },
  {
   "cell_type": "code",
   "execution_count": 3,
   "metadata": {},
   "outputs": [
    {
     "name": "stdout",
     "output_type": "stream",
     "text": [
      "['http://example.com', 'http://example2.com']\n"
     ]
    }
   ],
   "source": [
    "import re\n",
    "text = '<p>Hello World</p><a href=\"http://example.com\">More Examples</a><a href=\"http://example2.com\">Even More Examples</a>\"'\n",
    "links = re.findall('<a href=\"?\\'?([^\"\\'>]*)', text)\n",
    "print(links)"
   ]
  },
  {
   "cell_type": "code",
   "execution_count": 6,
   "metadata": {},
   "outputs": [],
   "source": [
    "import requests\n",
    "import re\n",
    "def get_urls(url):\n",
    "    response = requests.get(url)\n",
    "    html = response.text\n",
    "    urls = re.findall('<a href=\"?\\'?([^\"\\'>]*)', html)\n",
    "    return urls\n",
    "urls = get_urls('https://gihyo.jp/book/list')\n",
    "#print(urls)"
   ]
  },
  {
   "cell_type": "markdown",
   "metadata": {},
   "source": [
    "## 相対URLを絶対URLに変換\n",
    "- 絶対URL: https://gihyo.jp/news/info/2020/03/1301\n",
    "- 相対URL(ドメインが省略): /news/info/2020/03/1301\n",
    "- 相対URLは現在のURLを基準とした表記なので、プログラムで使う場合は現在地に依存がない絶対URLへの変換が望ましい"
   ]
  },
  {
   "cell_type": "code",
   "execution_count": 7,
   "metadata": {},
   "outputs": [
    {
     "name": "stdout",
     "output_type": "stream",
     "text": [
      "http://gihyo.jp/site/inquiry\n",
      "https://gihyo.jp/book/2017/978-4-7741-8751-8\n",
      "https://gihyo.jp/book/2017/978-4-7741-8751-8\n"
     ]
    }
   ],
   "source": [
    "import urllib.parse\n",
    "def get_abs_url(current_url, url):\n",
    "    abs_url = urllib.parse.urljoin(current_url, url)\n",
    "    return abs_url\n",
    "print(get_abs_url('https://gihyo.jp/book/list', 'http://gihyo.jp/site/inquiry'))\n",
    "print(get_abs_url('https://gihyo.jp/book/list', '/book/2017/978-4-7741-8751-8'))\n",
    "print(get_abs_url('https://gihyo.jp/book/list', '2017/978-4-7741-8751-8'))"
   ]
  },
  {
   "cell_type": "markdown",
   "metadata": {},
   "source": [
    "## URLが画像ファイルか否かを判定\n",
    "- URLを以下の2種類のいずれか拡張⼦で判定する\n",
    "  - 画像ファイル: 拡張⼦が「.jpg」「.png」「.gif」\n",
    "  - HTMLファイル: 画像ファイルでない場合全て\n",
    "- (厳密にはHTTPレスポンスのMIMEで判断することが望ましい)"
   ]
  },
  {
   "cell_type": "code",
   "execution_count": 8,
   "metadata": {},
   "outputs": [],
   "source": [
    "def check_url_type(url):\n",
    "    if '.jpg' in url:\n",
    "        print('jpg')\n",
    "    elif '.png' in url:\n",
    "        print('png')\n",
    "    elif '.gif' in url:\n",
    "        print('gif')\n",
    "    else:\n",
    "        print('html')"
   ]
  },
  {
   "cell_type": "markdown",
   "metadata": {},
   "source": [
    "## 画像ファイルを保存\n",
    "- requestsで取得したレスポンスからデータを取得\n",
    "- データをバイナリ書き込みモードでファイルに保存"
   ]
  },
  {
   "cell_type": "code",
   "execution_count": 9,
   "metadata": {},
   "outputs": [],
   "source": [
    "import requests\n",
    "import os\n",
    "def save_image(url, filepath):\n",
    "    # 画像データを取得\n",
    "    response = requests.get(url, stream=True)\n",
    "    image_data = response.content\n",
    "    fout = open(fpath, 'wb')\n",
    "    fout.write(image_data)\n",
    "    fout.close()"
   ]
  },
  {
   "cell_type": "markdown",
   "metadata": {},
   "source": [
    "## 演習\n",
    "- このセクションで作成したプログラムを全て実⾏してみる\n",
    "- 関数定義のみで実⾏コードが書かれていないプログラムは、⾃分で実⾏コードを作成してください"
   ]
  },
  {
   "cell_type": "code",
   "execution_count": null,
   "metadata": {},
   "outputs": [],
   "source": []
  }
 ],
 "metadata": {
  "kernelspec": {
   "display_name": "Python 3",
   "language": "python",
   "name": "python3"
  },
  "language_info": {
   "codemirror_mode": {
    "name": "ipython",
    "version": 3
   },
   "file_extension": ".py",
   "mimetype": "text/x-python",
   "name": "python",
   "nbconvert_exporter": "python",
   "pygments_lexer": "ipython3",
   "version": "3.7.4"
  }
 },
 "nbformat": 4,
 "nbformat_minor": 4
}
