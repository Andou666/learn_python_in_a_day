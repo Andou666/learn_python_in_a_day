{
 "cells": [
  {
   "cell_type": "markdown",
   "metadata": {},
   "source": [
    "# SECTION 03 標準ライブラリを利⽤する\n",
    "- このセクションで学ぶこと\n",
    "  - 時間関連の処理をおこなうtimeモジュール\n",
    "  - 時間関連の処理をおこなうdatetimeモジュール\n",
    "  - 乱数を⽣成するrandomモジュール"
   ]
  },
  {
   "cell_type": "markdown",
   "metadata": {},
   "source": [
    "## 時間関連の処理を⾏うtimeモジュール\n",
    "- 時間を扱う基本的な処理\n",
    "- time.sleep(x): x秒のスリープ\n",
    "- time.time(): 現在のUNIX時間(世界標準時の1970年1⽉1⽇から何秒経過したか)を取得する\n",
    "- ある作業の前後で時間を取得し差分から実⾏時間を測定できる"
   ]
  },
  {
   "cell_type": "code",
   "execution_count": 1,
   "metadata": {},
   "outputs": [
    {
     "name": "stdout",
     "output_type": "stream",
     "text": [
      "1590728296.8679464\n",
      "1590728306.8693037\n",
      "10.001357316970825\n"
     ]
    }
   ],
   "source": [
    "import time\n",
    "start = time.time()\n",
    "print(start)\n",
    "time.sleep(10)\n",
    "end = time.time()\n",
    "print(end)\n",
    "print(end - start)"
   ]
  },
  {
   "cell_type": "markdown",
   "metadata": {},
   "source": [
    "## 時間関連の処理を⾏うdatetimeモジュール\n",
    "- 時刻を扱うモジュール。⼈間の時間(2020年4⽉17⽇ 16:00など)はtimeではなくdatetimeが使いやすい\n",
    "- datetime.datetime.today(): 現在時刻の取得し、datetimeインスタンスを返す\n",
    "- datetimeインスタンスには様々なメソッドと変数がある"
   ]
  },
  {
   "cell_type": "code",
   "execution_count": null,
   "metadata": {},
   "outputs": [],
   "source": [
    "import datetime\n",
    "now = datetime.datetime.today()\n",
    "print(now)\n",
    "print('{}/{}/{} {}:{}:{}'.format(now.year, now.month, now.day, now.hour, now.minute, now.second))"
   ]
  },
  {
   "cell_type": "markdown",
   "metadata": {},
   "source": [
    "## 乱数を⽣成するrandomモジュール\n",
    "- 乱数(ランダムな値)を⽣成するモジュール\n",
    "- random.random(): 0から1のあいだのランダムな⼩数を得る\n",
    "- random.randint(x, y): 引数のあいだにあるランダムな整数を得る\n",
    "- random.shuffle(): 引数のリスト要素をランダムに並び替える"
   ]
  },
  {
   "cell_type": "code",
   "execution_count": 2,
   "metadata": {},
   "outputs": [
    {
     "name": "stdout",
     "output_type": "stream",
     "text": [
      "0.9349235600100314\n",
      "15\n"
     ]
    }
   ],
   "source": [
    "import random\n",
    "print(random.random())\n",
    "print(random.randint(0, 100))"
   ]
  },
  {
   "cell_type": "code",
   "execution_count": 3,
   "metadata": {},
   "outputs": [
    {
     "name": "stdout",
     "output_type": "stream",
     "text": [
      "[0, 1, 2, 3, 4, 5, 6, 7, 8, 9]\n",
      "[3, 8, 4, 2, 0, 7, 9, 5, 6, 1]\n"
     ]
    }
   ],
   "source": [
    "import random\n",
    "numbers = list(range(10))\n",
    "print(numbers)\n",
    "random.shuffle(numbers)\n",
    "print(numbers)"
   ]
  },
  {
   "cell_type": "markdown",
   "metadata": {},
   "source": [
    "## 演習\n",
    "- 3章の⾃作のソート関数を⾃作モジュールのmysortに定義して、簡単なリストがきちんとソートされるか確認してください\n",
    "- randomモジュールを使って「0から100万」まででランダムに⽣成した数値を1000個持つリスト⽣成してください\n",
    "- ⾃作の関数とPythonが提供するsorted関数で昇順ソートしてください\n",
    "- Timeモジュールを使って⾃作のsort関数とPythonが提供するsort関数の処理時間を⽐較計測してください"
   ]
  },
  {
   "cell_type": "code",
   "execution_count": null,
   "metadata": {},
   "outputs": [],
   "source": []
  }
 ],
 "metadata": {
  "kernelspec": {
   "display_name": "Python 3",
   "language": "python",
   "name": "python3"
  },
  "language_info": {
   "codemirror_mode": {
    "name": "ipython",
    "version": 3
   },
   "file_extension": ".py",
   "mimetype": "text/x-python",
   "name": "python",
   "nbconvert_exporter": "python",
   "pygments_lexer": "ipython3",
   "version": "3.7.4"
  }
 },
 "nbformat": 4,
 "nbformat_minor": 4
}
