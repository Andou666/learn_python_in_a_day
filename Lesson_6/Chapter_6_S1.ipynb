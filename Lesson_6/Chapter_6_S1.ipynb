{
 "cells": [
  {
   "cell_type": "markdown",
   "metadata": {},
   "source": [
    "# SECTION 01 モジュールを利⽤する\n",
    "- このセクションで学ぶこと\n",
    "  - モジュールによるプログラムの整理\n",
    "  - 組み込みモジュール\n",
    "  - 標準ライブラリ\n",
    "  - 外部パッケージ\n",
    "  - ⾃作のモジュール\n",
    "  - モジュールとクラスの違い\n",
    "  - モジュールを使ってみよう\n",
    "  - モジュール内のクラスの利⽤\n",
    "  - 複数のモジュールを組み込む\n",
    "  - モジュール名を付けずに関数やクラスを呼び出す\n",
    "  - コラム: from⽂の問題点"
   ]
  },
  {
   "cell_type": "markdown",
   "metadata": {},
   "source": [
    "## モジュールによるプログラムの整理\n",
    "- 「モジュール」はプログラムが書かれたファイルのこと\n",
    "- 巨⼤な1つのファイルに全てを書くのではなく、分類に沿ってプログラムを複数ファイルに分けることで全体を整理できる\n",
    "- 「パッケージ」は複数のモジュールをおさめるディレクトリ\n",
    "- モジュールは以下の以下図の4つに分類できる"
   ]
  },
  {
   "cell_type": "markdown",
   "metadata": {},
   "source": [
    "## 組み込みモジュール\n",
    "- 「組み込みモジュール」はPythonがデフォルトで読み込む\n",
    "- print関数などの特に宣⾔なく利⽤できる機能が格納されている"
   ]
  },
  {
   "cell_type": "markdown",
   "metadata": {},
   "source": [
    "## 標準ライブラリ\n",
    "- 「標準ライブラリ」はPythonをインストールすると⾃動で付属してくるモジュール群\n",
    "- プログラム内で利⽤する宣⾔をすると、その内部で定義されている関数やクラスが利⽤できるようになる"
   ]
  },
  {
   "cell_type": "markdown",
   "metadata": {},
   "source": [
    "## 外部パッケージ\n",
    "- 「外部パッケージ」はPythonに標準で付属しないモジュール\n",
    "- 「pipコマンド」でインターネット上のリポジトリからインストールをすることで使えるようになる\n",
    "- インストール後は標準ライブラリと同じように利⽤可能となる"
   ]
  },
  {
   "cell_type": "markdown",
   "metadata": {},
   "source": [
    "## ⾃作のモジュール\n",
    "- 1つのファイルに収まりきらないコードを分割して作成する\n",
    "- Pythonでは可能な限り⾃分では難しい処理を書かずに標準ライブラリや外部パッケージを繋ぐ書き⽅が⼀般的"
   ]
  },
  {
   "cell_type": "markdown",
   "metadata": {},
   "source": [
    "## モジュールとクラスの違い\n",
    "- モジュールもクラスもプログラムを整理する仕組み\n",
    "- モジュールはクラスよりも⼤きい単位でのコードの分割\n",
    "- 1つのモジュール内に複数のクラスを含めることができる"
   ]
  },
  {
   "cell_type": "markdown",
   "metadata": {},
   "source": [
    "## モジュールを使ってみよう\n",
    "- 数学関係のモジュール「math」(標準ライブラリ)を利⽤する\n",
    "- モジュール利⽤の宣⾔: import モジュール名\n",
    "- モジュールの関数などの利⽤: モジュール名.関数()\n",
    "- 宣⾔はプログラムファイルの先頭周辺で⾏なうのが⼀般的"
   ]
  },
  {
   "cell_type": "code",
   "execution_count": 2,
   "metadata": {},
   "outputs": [
    {
     "name": "stdout",
     "output_type": "stream",
     "text": [
      "6\n",
      "5\n"
     ]
    }
   ],
   "source": [
    "# mathモジュールの読み込み\n",
    "import math\n",
    "# mathモジュールのceil関数の利⽤\n",
    "a = math.ceil(5.4)\n",
    "print(a)\n",
    "# mathモジュールのfloor関数の利⽤\n",
    "print(math.floor(5.4))"
   ]
  },
  {
   "cell_type": "markdown",
   "metadata": {},
   "source": [
    "## モジュール内のクラスの利⽤\n",
    "- ⽇時を扱うdatatimeモジュールを使う\n",
    "- モジュールのクラスの利⽤: モジュール名.クラス名"
   ]
  },
  {
   "cell_type": "code",
   "execution_count": null,
   "metadata": {},
   "outputs": [],
   "source": [
    "import datetime\n",
    "now = datetime.datetime.now()\n",
    "print(now)"
   ]
  },
  {
   "cell_type": "markdown",
   "metadata": {},
   "source": [
    "## 複数のモジュールを読み込む\n",
    "- 必要なモジュールを1⾏ごと宣⾔するのが⼀般的\n",
    "- 1⾏にまとめて宣⾔することもできる\n",
    "- 利⽤しないモジュールは宣⾔しないこと"
   ]
  },
  {
   "cell_type": "code",
   "execution_count": 8,
   "metadata": {},
   "outputs": [
    {
     "name": "stdout",
     "output_type": "stream",
     "text": [
      "39\n",
      "42\n"
     ]
    }
   ],
   "source": [
    "import math\n",
    "import time, datetime\n",
    "print(datetime.datetime.now().strftime(\"%S\"))\n",
    "time.sleep(3)\n",
    "print(datetime.datetime.now().strftime(\"%S\"))"
   ]
  },
  {
   "cell_type": "markdown",
   "metadata": {},
   "source": [
    "## モジュール名を付けずに関数やクラスを呼び出す\n",
    "- fromで宣⾔するとモジュール名を省略して利⽤できる\n",
    "- from モジュール名 import クラス名や関数名\n",
    "- from モジュール名 import *(全て)"
   ]
  },
  {
   "cell_type": "code",
   "execution_count": 9,
   "metadata": {},
   "outputs": [
    {
     "name": "stdout",
     "output_type": "stream",
     "text": [
      "6\n"
     ]
    },
    {
     "ename": "NameError",
     "evalue": "name 'floor' is not defined",
     "output_type": "error",
     "traceback": [
      "\u001b[1;31m---------------------------------------------------------------------------\u001b[0m",
      "\u001b[1;31mNameError\u001b[0m                                 Traceback (most recent call last)",
      "\u001b[1;32m<ipython-input-9-07bfbc5b625a>\u001b[0m in \u001b[0;36m<module>\u001b[1;34m\u001b[0m\n\u001b[0;32m      3\u001b[0m \u001b[0mprint\u001b[0m\u001b[1;33m(\u001b[0m\u001b[0mceil\u001b[0m\u001b[1;33m(\u001b[0m\u001b[1;36m5.4\u001b[0m\u001b[1;33m)\u001b[0m\u001b[1;33m)\u001b[0m\u001b[1;33m\u001b[0m\u001b[1;33m\u001b[0m\u001b[0m\n\u001b[0;32m      4\u001b[0m \u001b[0msleep\u001b[0m\u001b[1;33m(\u001b[0m\u001b[1;36m1\u001b[0m\u001b[1;33m)\u001b[0m\u001b[1;33m\u001b[0m\u001b[1;33m\u001b[0m\u001b[0m\n\u001b[1;32m----> 5\u001b[1;33m \u001b[0mprint\u001b[0m\u001b[1;33m(\u001b[0m\u001b[0mfloor\u001b[0m\u001b[1;33m(\u001b[0m\u001b[1;36m5.3\u001b[0m\u001b[1;33m)\u001b[0m\u001b[1;33m)\u001b[0m\u001b[1;33m\u001b[0m\u001b[1;33m\u001b[0m\u001b[0m\n\u001b[0m",
      "\u001b[1;31mNameError\u001b[0m: name 'floor' is not defined"
     ]
    }
   ],
   "source": [
    "from math import ceil\n",
    "from time import *\n",
    "print(ceil(5.4))\n",
    "sleep(1)\n",
    "print(floor(5.3))"
   ]
  },
  {
   "cell_type": "markdown",
   "metadata": {},
   "source": [
    "## コラム: from⽂の問題点\n",
    "- fromで*(ワイルドカード)指定するのは⼿間がかからなくて簡単\n",
    "- クラスや関数を多いと「関数やクラスがどのモジュールに属しているかが分かりにくくなる」という問題がある\n",
    "- from⽂の使い所\n",
    "  - 短いスクリプトなどで保守されない場合は使って問題ない\n",
    "  - メンテされる⼤きめのプログラムではきちんとimport⽂を使って宣⾔する"
   ]
  },
  {
   "cell_type": "markdown",
   "metadata": {},
   "source": [
    "## 演習\n",
    "- 「組み込みモジュール」「標準ライブラリ」「外部パッケージ」の違いについて説明してください\n",
    "- 標準ライブラリの利⽤演習\n",
    "  - jsonモジュールをimportしてください\n",
    "  - 以下のdictを作成してください。{'apple':'red', 'banana':'yellow'}\n",
    "  - json.dumps(dictオブジェクト)で辞書データを⽂字列型のJSONに変換してください\n",
    "  - json.loads(⽂字列型のJSON)で辞書データを得てください\n",
    "  - JSONはPythonに限らずマシン間やサービス間でのやりとりに多⽤されるデータ構造なので調べてみてください。"
   ]
  },
  {
   "cell_type": "code",
   "execution_count": 14,
   "metadata": {},
   "outputs": [
    {
     "data": {
      "text/plain": [
       "{'apple': 'red', 'banana': 'yellow'}"
      ]
     },
     "execution_count": 14,
     "metadata": {},
     "output_type": "execute_result"
    }
   ],
   "source": [
    "import json\n",
    "dict = {'apple':'red', 'banana':'yellow'}\n",
    "str = json.dumps(dict)\n",
    "json.loads(str)"
   ]
  },
  {
   "cell_type": "code",
   "execution_count": null,
   "metadata": {},
   "outputs": [],
   "source": []
  }
 ],
 "metadata": {
  "kernelspec": {
   "display_name": "Python 3",
   "language": "python",
   "name": "python3"
  },
  "language_info": {
   "codemirror_mode": {
    "name": "ipython",
    "version": 3
   },
   "file_extension": ".py",
   "mimetype": "text/x-python",
   "name": "python",
   "nbconvert_exporter": "python",
   "pygments_lexer": "ipython3",
   "version": "3.7.4"
  }
 },
 "nbformat": 4,
 "nbformat_minor": 4
}
