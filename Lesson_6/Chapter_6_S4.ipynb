{
 "cells": [
  {
   "cell_type": "markdown",
   "metadata": {},
   "source": [
    "# SECTION 04 外部パッケージを利⽤する\n",
    "- このセクションで学ぶこと\n",
    "  - 外部パッケージでPythonに機能を追加する\n",
    "  - パッケージをインストールする\n",
    "  - パッケージを利⽤する\n",
    "  - コラム: ライブラリの使い⽅と探し⽅"
   ]
  },
  {
   "cell_type": "markdown",
   "metadata": {},
   "source": [
    "## 外部パッケージでPythonに機能を追加する\n",
    "- 標準ライブラリにない処理であっても⼀般的な処理(たとえば後述するHTTPの操作)は外部パッケージに多く存在する\n",
    "- Python Package Indexにパッケージが集積されている\n",
    "- 有名なライブラリは信頼性が⾼いが無名なものは利⽤に注意"
   ]
  },
  {
   "cell_type": "markdown",
   "metadata": {},
   "source": [
    "## パッケージをインストールする\n",
    "- Pythonインストール時に付属する「pipコマンド」を使う(Linuxのyumやaptに相当する)\n",
    "- Windows: pip install <パッケージ名>\n",
    "- Mac: pip3 install <パッケージ名>"
   ]
  },
  {
   "cell_type": "markdown",
   "metadata": {},
   "source": [
    "## パッケージを利⽤する\n",
    "- pipでインストールしたパッケージは標準ライブラリと同じくimport⽂もしくはfrom⽂で使える\n",
    "- インストールしていないパッケージをimportするとエラー"
   ]
  },
  {
   "cell_type": "code",
   "execution_count": 2,
   "metadata": {},
   "outputs": [],
   "source": [
    "import requests\n",
    "response = requests.get('http://www.yahoo.co.jp/')\n",
    "#print(response.text)"
   ]
  },
  {
   "cell_type": "markdown",
   "metadata": {},
   "source": [
    "## コラム: ライブラリの使い⽅と探し⽅\n",
    "- ⾃分で特定の機能を実装する前に有名なパッケージがないか調べてみるのがよい。低レイアの実装は可能な限り避けること\n",
    "- Googleで「python ライブラリ <やりたいこと>」と調べるとパッケージの利⽤法ページやQAページがヒットすることが多い\n",
    "- 標準ライブラリの利⽤法はPythonの公式ドキュメントにある"
   ]
  },
  {
   "cell_type": "markdown",
   "metadata": {},
   "source": [
    "## 演習\n",
    "- pip(pip3)でcowsayパッケージをインストールしてください\n",
    "- インタプリタでcowsay.関数名(⽂字列)を実⾏してください\n",
    "- 関数⼀覧[ʻbeavisʼ, ʻcheeseʼ, ʻdaemonʼ, ʻcowʼ, ʻdragonʼ, ʻghostbustersʼ, ʻkittyʼ, ʻmeowʼ, ʻmilkʼ, ʻstegosaurusʼ, ʻstimpyʼ, ʻturkeyʼ, ʻturtleʼ, ʻtuxʼ]"
   ]
  },
  {
   "cell_type": "code",
   "execution_count": 7,
   "metadata": {},
   "outputs": [
    {
     "name": "stdout",
     "output_type": "stream",
     "text": [
      "Collecting cowsay\n",
      "  Downloading https://files.pythonhosted.org/packages/d4/68/af23fbf90493044fc2ea83cd62923b9952c2d38eeeab83e0c016706bfbc8/cowsay-2.0.3-py2.py3-none-any.whl\n",
      "Installing collected packages: cowsay\n",
      "Successfully installed cowsay-2.0.3\n"
     ]
    }
   ],
   "source": [
    "!pip install cowsay"
   ]
  },
  {
   "cell_type": "code",
   "execution_count": 8,
   "metadata": {},
   "outputs": [
    {
     "name": "stdout",
     "output_type": "stream",
     "text": [
      "  ____________\n",
      "< hello python >\n",
      "  ============\n",
      "                 \\\n",
      "                  \\\n",
      "                    ^__^                             \n",
      "                    (oo)\\_______                   \n",
      "                    (__)\\       )\\/\\             \n",
      "                        ||----w |           \n",
      "                        ||     ||  \n",
      "                        \n",
      "                        \n"
     ]
    }
   ],
   "source": [
    "import cowsay\n",
    "cowsay.cow('hello python')"
   ]
  },
  {
   "cell_type": "code",
   "execution_count": null,
   "metadata": {},
   "outputs": [],
   "source": []
  }
 ],
 "metadata": {
  "kernelspec": {
   "display_name": "Python 3",
   "language": "python",
   "name": "python3"
  },
  "language_info": {
   "codemirror_mode": {
    "name": "ipython",
    "version": 3
   },
   "file_extension": ".py",
   "mimetype": "text/x-python",
   "name": "python",
   "nbconvert_exporter": "python",
   "pygments_lexer": "ipython3",
   "version": "3.7.4"
  }
 },
 "nbformat": 4,
 "nbformat_minor": 4
}
