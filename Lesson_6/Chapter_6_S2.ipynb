{
 "cells": [
  {
   "cell_type": "markdown",
   "metadata": {},
   "source": [
    "# SECTION 02 ⾃分でモジュールを作成する\n",
    "- このセクションで学ぶこと\n",
    "  - モジュールは2つの種類に分けて書く\n",
    "  - モジュールを作成する\n",
    "  - モジュールが組み込まれる流れ\n",
    "  - モジュールの中⾝と開始条件\n",
    "  - 定義と実⾏コードの分離"
   ]
  },
  {
   "cell_type": "markdown",
   "metadata": {},
   "source": [
    "## モジュールは2つの種類に分けて書く\n",
    "- タイプ1: システム特有の汎⽤的な処理をまとめたモジュール。⾃作ライブラリに近く、他のプロジェクトでも再利⽤可能\n",
    "- タイプ2: タイプ1のモジュールを使ってシステムを形作るモジュール。汎⽤処理はタイプ1に押し込むこと。"
   ]
  },
  {
   "cell_type": "markdown",
   "metadata": {},
   "source": [
    "## モジュールを作成する\n",
    "- モジュールA(main.py)がモジュールB(myutil.py)を使う\n",
    "- 2つのファイルは同じフォルダに格納する\n",
    "- ファイルがあるフォルダに移動してからプログラムを呼び出し"
   ]
  },
  {
   "cell_type": "markdown",
   "metadata": {},
   "source": [
    "## モジュールが読み込まれる流れ\n",
    "- 起動したファイルの⽂頭から読まれる\n",
    "- 途中でimportやfrom⽂があると指定されたモジュールから先に読み込み処理をおこなう"
   ]
  },
  {
   "cell_type": "markdown",
   "metadata": {},
   "source": [
    "## モジュールの中⾝と開始条件\n",
    "- 複数のモジュールから構成されるプログラムで最初に呼び出されるモジュールを「エントリポイント」と呼ぶ\n",
    "- エントリポイント以外では実⾏処理は書かないことが期待される。つまり定数や関数、クラスの宣⾔のみをおこなう"
   ]
  },
  {
   "cell_type": "markdown",
   "metadata": {},
   "source": [
    "## 定義と実⾏コードの分離\n",
    "- エントリポイント以外では定義のみ⾏い処理は実⾏させない\n",
    "- 「if __name__ == ' __main__ ':」という条件式を使う\n",
    "- 特殊属性 __name__ にはエントリポイントの場合は「'__main__'」が、それ以外はモジュール名が⼊る\n",
    "- __name__ が'__main__'の場合にのみ処理を実⾏させる"
   ]
  },
  {
   "cell_type": "markdown",
   "metadata": {},
   "source": [
    "## 演習\n",
    "- モジュール mymath.py を作成して⼩数点を受け取る「切り下げ: floor」と「切り上げ: ceil」を関数として作成してください。\n",
    "- ヒント: 切り下げはint型への変換、切り上げは「もとの値と切 り下げ値が同⼀なら切り下げ値、そうでなければ切り下げ+1」で実装できます。⾯倒ならmathモジュールを使ってください\n",
    "  - 5.1 -> 切り下げ:5, 切り上げ6\n",
    "  - 5.0 -> 切り下げ:5, 切り上げ5\n",
    "  - 等号演算⼦(==)で5.0と5を⽐較するとTrueになる\n",
    "- main.py モジュールで上記のmymathをimportし、切り上げと 切り下げの計算を確認してください\n",
    "- main.pyではエントリポイントとして起動された時だけ上記処理を実施するために「if __name__ == '__main__': 」を使ってください"
   ]
  },
  {
   "cell_type": "code",
   "execution_count": null,
   "metadata": {},
   "outputs": [],
   "source": []
  }
 ],
 "metadata": {
  "kernelspec": {
   "display_name": "Python 3",
   "language": "python",
   "name": "python3"
  },
  "language_info": {
   "codemirror_mode": {
    "name": "ipython",
    "version": 3
   },
   "file_extension": ".py",
   "mimetype": "text/x-python",
   "name": "python",
   "nbconvert_exporter": "python",
   "pygments_lexer": "ipython3",
   "version": "3.7.4"
  }
 },
 "nbformat": 4,
 "nbformat_minor": 4
}
