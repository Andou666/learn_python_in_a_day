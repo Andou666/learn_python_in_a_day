{
 "cells": [
  {
   "cell_type": "markdown",
   "metadata": {},
   "source": [
    "# SECTION 04 その他のデータ型を理解する\n",
    "- このセクションで学ぶこと\n",
    "  - タプルの概要\n",
    "  - タプルの利⽤⽅法と利⽤例\n",
    "  - タプルからタプルへの代⼊(アンパック代⼊)\n",
    "  - タプルやリストを扱う関数\n",
    "  - セットの概要\n",
    "  - セット型の操作\n",
    "  - 辞書型の概要\n",
    "  - 辞書型の操作\n",
    "  - 辞書型のメソッド\n",
    "  - コラム: 基本的な型と制御がプログラミングの中⼼"
   ]
  },
  {
   "cell_type": "markdown",
   "metadata": {},
   "source": [
    "## タプルの概要\n",
    "- 複数の異なるデータをまとめて管理するための型。リストに似ているが「不変オブジェクト」。データ構造を作る\n",
    "- 出席簿を例としたリストとの使い分け\n",
    "  - タプル: 各⽣徒のデータ(名前、⾝⻑、体重)\n",
    "  - リスト: ⽣徒1, ⽣徒2, ⽣徒3, ..."
   ]
  },
  {
   "cell_type": "markdown",
   "metadata": {},
   "source": [
    "## タプルの利⽤⽅法\n",
    "- 少カッコ()内に各要素をコンマ区切りで並べる。リストと同じ\n",
    "- 要素へのアクセスはインデックス番号を使う\n",
    "- 要素は上書きできない\n",
    "- 要素数は変更できない"
   ]
  },
  {
   "cell_type": "code",
   "execution_count": 2,
   "metadata": {},
   "outputs": [
    {
     "name": "stdout",
     "output_type": "stream",
     "text": [
      "<class 'tuple'>\n",
      "180\n"
     ]
    }
   ],
   "source": [
    "taro = ('taro', 180, 80)\n",
    "print(type(taro))\n",
    "print(taro[1])"
   ]
  },
  {
   "cell_type": "code",
   "execution_count": 3,
   "metadata": {},
   "outputs": [
    {
     "ename": "TypeError",
     "evalue": "'tuple' object does not support item assignment",
     "output_type": "error",
     "traceback": [
      "\u001b[1;31m---------------------------------------------------------------------------\u001b[0m",
      "\u001b[1;31mTypeError\u001b[0m                                 Traceback (most recent call last)",
      "\u001b[1;32m<ipython-input-3-0f2866ade741>\u001b[0m in \u001b[0;36m<module>\u001b[1;34m\u001b[0m\n\u001b[0;32m      1\u001b[0m \u001b[0mtaro\u001b[0m \u001b[1;33m=\u001b[0m \u001b[1;33m(\u001b[0m\u001b[1;34m'taro'\u001b[0m\u001b[1;33m,\u001b[0m \u001b[1;36m180\u001b[0m\u001b[1;33m,\u001b[0m \u001b[1;36m80\u001b[0m\u001b[1;33m)\u001b[0m\u001b[1;33m\u001b[0m\u001b[1;33m\u001b[0m\u001b[0m\n\u001b[1;32m----> 2\u001b[1;33m \u001b[0mtaro\u001b[0m\u001b[1;33m[\u001b[0m\u001b[1;36m0\u001b[0m\u001b[1;33m]\u001b[0m \u001b[1;33m=\u001b[0m \u001b[1;34m'jiro'\u001b[0m\u001b[1;33m\u001b[0m\u001b[1;33m\u001b[0m\u001b[0m\n\u001b[0m",
      "\u001b[1;31mTypeError\u001b[0m: 'tuple' object does not support item assignment"
     ]
    }
   ],
   "source": [
    "taro = ('taro', 180, 80)\n",
    "taro[0] = 'jiro'"
   ]
  },
  {
   "cell_type": "code",
   "execution_count": 4,
   "metadata": {},
   "outputs": [
    {
     "ename": "TypeError",
     "evalue": "'tuple' object doesn't support item deletion",
     "output_type": "error",
     "traceback": [
      "\u001b[1;31m---------------------------------------------------------------------------\u001b[0m",
      "\u001b[1;31mTypeError\u001b[0m                                 Traceback (most recent call last)",
      "\u001b[1;32m<ipython-input-4-444aa6e8bc19>\u001b[0m in \u001b[0;36m<module>\u001b[1;34m\u001b[0m\n\u001b[1;32m----> 1\u001b[1;33m \u001b[1;32mdel\u001b[0m \u001b[0mtaro\u001b[0m\u001b[1;33m[\u001b[0m\u001b[1;36m1\u001b[0m\u001b[1;33m]\u001b[0m\u001b[1;33m\u001b[0m\u001b[1;33m\u001b[0m\u001b[0m\n\u001b[0m",
      "\u001b[1;31mTypeError\u001b[0m: 'tuple' object doesn't support item deletion"
     ]
    }
   ],
   "source": [
    "del taro[1]"
   ]
  },
  {
   "cell_type": "markdown",
   "metadata": {},
   "source": [
    "## タプルの利⽤例\n",
    "- 表の列(構成が決まっている)をタプルとする\n",
    "- 表の⾏(⻑さが変わる)をリストとする"
   ]
  },
  {
   "cell_type": "code",
   "execution_count": 6,
   "metadata": {},
   "outputs": [
    {
     "name": "stdout",
     "output_type": "stream",
     "text": [
      "170.0\n"
     ]
    }
   ],
   "source": [
    "taro = ('taro', 180, 80)\n",
    "jiro = ('jiro', 170, 70)\n",
    "saburo = ('saburo', 160, 60)\n",
    "list1 = [taro, jiro, saburo]\n",
    "sum_height = 0\n",
    "for person in list1:\n",
    "    sum_height += person[1]\n",
    "print(sum_height/len(list1))"
   ]
  },
  {
   "cell_type": "markdown",
   "metadata": {},
   "source": [
    "## タプルからタプルへの代⼊\n",
    "- 「アンパック代⼊」を使うとタプルに含まれる変数群に右側のタプルの要素をまとめて代⼊できる\n",
    "- 左辺のカッコは省略できる。例「a, b, c = (1, 2, 3)」\n",
    "- for⽂の変数や関数の返り値にタプルを使うことが多い"
   ]
  },
  {
   "cell_type": "code",
   "execution_count": 7,
   "metadata": {},
   "outputs": [
    {
     "name": "stdout",
     "output_type": "stream",
     "text": [
      "180\n"
     ]
    }
   ],
   "source": [
    "(name, height, weight) = ('taro', 180, 80)\n",
    "print(height)"
   ]
  },
  {
   "cell_type": "code",
   "execution_count": 8,
   "metadata": {},
   "outputs": [
    {
     "name": "stdout",
     "output_type": "stream",
     "text": [
      "170.0\n"
     ]
    }
   ],
   "source": [
    "taro = ('taro', 180, 80)\n",
    "jiro = ('jiro', 170, 70)\n",
    "saburo = ('saburo', 160, 60)\n",
    "list1 = [taro, jiro, saburo]\n",
    "sum_height = 0\n",
    "for (name, height, weight) in list1:\n",
    "    sum_height += height\n",
    "print(sum_height/len(list1))"
   ]
  },
  {
   "cell_type": "markdown",
   "metadata": {},
   "source": [
    "## タプルやリストを扱う関数\n",
    "- 「enumerate関数」でリストの要素をタプル形式にしてインデックス番号を与える\n",
    "- 「zip関数」で複数のリストを束ねてタプル形式のリストにする"
   ]
  },
  {
   "cell_type": "code",
   "execution_count": 9,
   "metadata": {},
   "outputs": [
    {
     "name": "stdout",
     "output_type": "stream",
     "text": [
      "[(0, 'a'), (1, 'b'), (2, 'c'), (3, 'd'), (4, 'e')]\n"
     ]
    }
   ],
   "source": [
    "list1 = ['a', 'b', 'c', 'd', 'e']\n",
    "enum_object = enumerate(list1)\n",
    "print(list(enum_object))"
   ]
  },
  {
   "cell_type": "code",
   "execution_count": 11,
   "metadata": {},
   "outputs": [
    {
     "name": "stdout",
     "output_type": "stream",
     "text": [
      "0 : a\n",
      "1 : b\n",
      "2 : c\n"
     ]
    }
   ],
   "source": [
    "list1 = ['a', 'b', 'c']\n",
    "for (index, item) in enumerate(list1):\n",
    "    print('{} : {}'.format(index, item))"
   ]
  },
  {
   "cell_type": "markdown",
   "metadata": {},
   "source": [
    "## セットの概要\n",
    "- 順序と重複がない複数の要素を保持するデータ構造\n",
    "- 要素を追加、削除することができるが、Listと異なり同じ要素を2つ持つことはできず、要素の順序もない\n",
    "- set()で空のセットオブジェクトを作成する"
   ]
  },
  {
   "cell_type": "markdown",
   "metadata": {},
   "source": [
    "## セット型の操作\n",
    "- セットオブジェクトの作成⽅法\n",
    "  - set()\n",
    "  - {'elem1', 'elem2', 'elem3'}\n",
    "- 宣⾔⽅法が後述する辞書型とほぼ同じなので注意。特に「{}」はセット型ではなく辞書型のオブジェクトが⽣成されるのはよく間違えるポイント"
   ]
  },
  {
   "cell_type": "code",
   "execution_count": 12,
   "metadata": {},
   "outputs": [
    {
     "data": {
      "text/plain": [
       "set"
      ]
     },
     "execution_count": 12,
     "metadata": {},
     "output_type": "execute_result"
    }
   ],
   "source": [
    "set1 = set()\n",
    "type(set1)"
   ]
  },
  {
   "cell_type": "code",
   "execution_count": 13,
   "metadata": {},
   "outputs": [
    {
     "data": {
      "text/plain": [
       "set"
      ]
     },
     "execution_count": 13,
     "metadata": {},
     "output_type": "execute_result"
    }
   ],
   "source": [
    "set2 = {'elem1', 'elem2', 'elem3'}\n",
    "type(set2)"
   ]
  },
  {
   "cell_type": "markdown",
   "metadata": {},
   "source": [
    "## セット型の操作\n",
    "- addメソッド: 要素を追加\n",
    "- removeメソッド: 要素を削除\n",
    "- popメソッド: 要素をランダムに取り出し(取り出すとなくなる)\n",
    "- in演算⼦: 要素が存在するかチェック。リストより⾼速"
   ]
  },
  {
   "cell_type": "code",
   "execution_count": 14,
   "metadata": {},
   "outputs": [
    {
     "data": {
      "text/plain": [
       "True"
      ]
     },
     "execution_count": 14,
     "metadata": {},
     "output_type": "execute_result"
    }
   ],
   "source": [
    "set1 = {'A', 'B', 'C'}\n",
    "'A' in set1"
   ]
  },
  {
   "cell_type": "code",
   "execution_count": 15,
   "metadata": {},
   "outputs": [
    {
     "data": {
      "text/plain": [
       "False"
      ]
     },
     "execution_count": 15,
     "metadata": {},
     "output_type": "execute_result"
    }
   ],
   "source": [
    "'D' in set1"
   ]
  },
  {
   "cell_type": "code",
   "execution_count": 16,
   "metadata": {},
   "outputs": [
    {
     "data": {
      "text/plain": [
       "{'A', 'C'}"
      ]
     },
     "execution_count": 16,
     "metadata": {},
     "output_type": "execute_result"
    }
   ],
   "source": [
    "set1.remove('B')\n",
    "set1"
   ]
  },
  {
   "cell_type": "code",
   "execution_count": 17,
   "metadata": {},
   "outputs": [
    {
     "data": {
      "text/plain": [
       "'A'"
      ]
     },
     "execution_count": 17,
     "metadata": {},
     "output_type": "execute_result"
    }
   ],
   "source": [
    "a = set1.pop()\n",
    "a"
   ]
  },
  {
   "cell_type": "code",
   "execution_count": 18,
   "metadata": {},
   "outputs": [
    {
     "data": {
      "text/plain": [
       "{'C'}"
      ]
     },
     "execution_count": 18,
     "metadata": {},
     "output_type": "execute_result"
    }
   ],
   "source": [
    "set1"
   ]
  },
  {
   "cell_type": "markdown",
   "metadata": {},
   "source": [
    "## 辞書型の概要\n",
    "- セットと似ているが要素は「キー(key)」と「バリュー(value)」を持つ。キーは重複できないがバリューは重複できる\n",
    "- キーを指定してバリューを取得/更新する\n",
    "- 同じキーで要素を追加するとバリューが上書きされる"
   ]
  },
  {
   "cell_type": "code",
   "execution_count": 19,
   "metadata": {},
   "outputs": [
    {
     "data": {
      "text/plain": [
       "{'apple': 'red', 'banana': 'yellow'}"
      ]
     },
     "execution_count": 19,
     "metadata": {},
     "output_type": "execute_result"
    }
   ],
   "source": [
    "fruits_dict = dict()\n",
    "fruits_dict['apple'] = 'red'\n",
    "fruits_dict['banana'] = 'yellow'\n",
    "fruits_dict"
   ]
  },
  {
   "cell_type": "code",
   "execution_count": 20,
   "metadata": {},
   "outputs": [
    {
     "data": {
      "text/plain": [
       "'red'"
      ]
     },
     "execution_count": 20,
     "metadata": {},
     "output_type": "execute_result"
    }
   ],
   "source": [
    "fruits_dict['apple']"
   ]
  },
  {
   "cell_type": "markdown",
   "metadata": {},
   "source": [
    "## 辞書型の操作\n",
    "- 辞書オブジェクトの作成⽅法\n",
    "  - dict()\n",
    "  - {}\n",
    "  - {key1:value1, key2:value2, ...}\n",
    "- セット型と使う記号が同じ中括弧。違いは要素がキーとバリューのペアになっていることのみ\n",
    "- キーの型は⽂字列が⼀般的だが他の型(数値など)も使える"
   ]
  },
  {
   "cell_type": "code",
   "execution_count": 21,
   "metadata": {},
   "outputs": [
    {
     "data": {
      "text/plain": [
       "dict"
      ]
     },
     "execution_count": 21,
     "metadata": {},
     "output_type": "execute_result"
    }
   ],
   "source": [
    "fruits_dict = {'apple':'red', 'banana':'yellow'}\n",
    "type(fruits_dict)"
   ]
  },
  {
   "cell_type": "code",
   "execution_count": 22,
   "metadata": {},
   "outputs": [
    {
     "data": {
      "text/plain": [
       "dict"
      ]
     },
     "execution_count": 22,
     "metadata": {},
     "output_type": "execute_result"
    }
   ],
   "source": [
    "fruits_dict2 = {}\n",
    "type(fruits_dict)"
   ]
  },
  {
   "cell_type": "markdown",
   "metadata": {},
   "source": [
    "## 辞書型の操作 (2/3)\n",
    "- 辞書オブジェクトからのバリューの取得\n",
    "  - 書式: OBJECT[KEY]\n",
    "- 辞書オブジェクトへの要素の追加\n",
    "  - 存在しないキー: 新しいキーとバリューのペアが登録される\n",
    "  - 存在するキー: キーの対となるバリューが更新される\n",
    "  - 書式: OBJECT[KEY] = VALUE"
   ]
  },
  {
   "cell_type": "code",
   "execution_count": 23,
   "metadata": {},
   "outputs": [
    {
     "data": {
      "text/plain": [
       "'red'"
      ]
     },
     "execution_count": 23,
     "metadata": {},
     "output_type": "execute_result"
    }
   ],
   "source": [
    "fruits_dict = {'apple':'red', 'banana':'yellow'}\n",
    "fruits_dict['apple']"
   ]
  },
  {
   "cell_type": "code",
   "execution_count": 24,
   "metadata": {},
   "outputs": [
    {
     "data": {
      "text/plain": [
       "'green'"
      ]
     },
     "execution_count": 24,
     "metadata": {},
     "output_type": "execute_result"
    }
   ],
   "source": [
    "fruits_dict['apple'] = 'green'\n",
    "fruits_dict['apple']"
   ]
  },
  {
   "cell_type": "markdown",
   "metadata": {},
   "source": [
    "## 辞書型の操作\n",
    "- in演算⼦: キーの存在確認\n",
    "- 存在しないキーのバリューを取得しようとするとエラーになる\n",
    "- キーの存在が不明な場合は事前にin演算⼦か後述のgetメソッドを使うこと"
   ]
  },
  {
   "cell_type": "code",
   "execution_count": 25,
   "metadata": {},
   "outputs": [
    {
     "data": {
      "text/plain": [
       "True"
      ]
     },
     "execution_count": 25,
     "metadata": {},
     "output_type": "execute_result"
    }
   ],
   "source": [
    "fruits_dict = {'apple':'red', 'banana':'yellow'}\n",
    "'apple' in fruits_dict"
   ]
  },
  {
   "cell_type": "code",
   "execution_count": 26,
   "metadata": {},
   "outputs": [
    {
     "data": {
      "text/plain": [
       "False"
      ]
     },
     "execution_count": 26,
     "metadata": {},
     "output_type": "execute_result"
    }
   ],
   "source": [
    "'grape' in fruits_dict"
   ]
  },
  {
   "cell_type": "code",
   "execution_count": 27,
   "metadata": {},
   "outputs": [
    {
     "ename": "KeyError",
     "evalue": "'grape'",
     "output_type": "error",
     "traceback": [
      "\u001b[1;31m---------------------------------------------------------------------------\u001b[0m",
      "\u001b[1;31mKeyError\u001b[0m                                  Traceback (most recent call last)",
      "\u001b[1;32m<ipython-input-27-fe847bc469b0>\u001b[0m in \u001b[0;36m<module>\u001b[1;34m\u001b[0m\n\u001b[1;32m----> 1\u001b[1;33m \u001b[0mfruits_dict\u001b[0m\u001b[1;33m[\u001b[0m\u001b[1;34m'grape'\u001b[0m\u001b[1;33m]\u001b[0m\u001b[1;33m\u001b[0m\u001b[1;33m\u001b[0m\u001b[0m\n\u001b[0m",
      "\u001b[1;31mKeyError\u001b[0m: 'grape'"
     ]
    }
   ],
   "source": [
    "fruits_dict['grape']"
   ]
  },
  {
   "cell_type": "markdown",
   "metadata": {},
   "source": [
    "## 辞書型のメソッド\n",
    "- keys: キーの⼀覧をリスト形式で返す\n",
    "- values: バリューの⼀覧をリスト形式で返す\n",
    "- items: 「キーとバリューのタプル」をリスト形式で返す\n",
    "- itemsはforループでの利⽤に便利"
   ]
  },
  {
   "cell_type": "code",
   "execution_count": 28,
   "metadata": {},
   "outputs": [
    {
     "data": {
      "text/plain": [
       "dict_keys(['apple', 'banana'])"
      ]
     },
     "execution_count": 28,
     "metadata": {},
     "output_type": "execute_result"
    }
   ],
   "source": [
    "a = {'apple':'red', 'banana':'yellow'}\n",
    "a.keys()"
   ]
  },
  {
   "cell_type": "code",
   "execution_count": 29,
   "metadata": {},
   "outputs": [
    {
     "data": {
      "text/plain": [
       "dict_values(['red', 'yellow'])"
      ]
     },
     "execution_count": 29,
     "metadata": {},
     "output_type": "execute_result"
    }
   ],
   "source": [
    "a.values()"
   ]
  },
  {
   "cell_type": "code",
   "execution_count": 30,
   "metadata": {},
   "outputs": [
    {
     "data": {
      "text/plain": [
       "dict_items([('apple', 'red'), ('banana', 'yellow')])"
      ]
     },
     "execution_count": 30,
     "metadata": {},
     "output_type": "execute_result"
    }
   ],
   "source": [
    "a.items()"
   ]
  },
  {
   "cell_type": "markdown",
   "metadata": {},
   "source": [
    "## 辞書型のメソッド\n",
    "- 辞書型をforループで全て処理する操作\n",
    "  - for⽂のin演算⼦に辞書オブジェクトを与える: keyでループ\n",
    "  - for⽂のin演算⼦にitemsメソッドを与える: keyとvalueでループ"
   ]
  },
  {
   "cell_type": "code",
   "execution_count": 31,
   "metadata": {},
   "outputs": [
    {
     "name": "stdout",
     "output_type": "stream",
     "text": [
      "apple\n",
      "banana\n"
     ]
    }
   ],
   "source": [
    "fruits_dict = {'apple':'red', 'banana':'yellow'}\n",
    "for key in fruits_dict:\n",
    "    print(key)"
   ]
  },
  {
   "cell_type": "code",
   "execution_count": 32,
   "metadata": {},
   "outputs": [
    {
     "name": "stdout",
     "output_type": "stream",
     "text": [
      "apple : red\n",
      "banana : yellow\n"
     ]
    }
   ],
   "source": [
    "fruits_dict = {'apple':'red', 'banana':'yellow'}\n",
    "for (key, value) in fruits_dict.items():\n",
    "    print('{} : {}'.format(key, value))"
   ]
  },
  {
   "cell_type": "markdown",
   "metadata": {},
   "source": [
    "## 辞書型のメソッド\n",
    "- get: キーを指定してバリューを取得する。キーが存在しない場合はデフォルト値を取得\n",
    "- デフォルト値を指定しない場合はNoneがデフォルト値\n",
    "- デフォルト値を取得しても元の辞書オブジェクトに変化なし\n",
    "- 似た関数にsetdefaultがある(割愛)"
   ]
  },
  {
   "cell_type": "code",
   "execution_count": 33,
   "metadata": {},
   "outputs": [
    {
     "name": "stdout",
     "output_type": "stream",
     "text": [
      "0\n",
      "{}\n"
     ]
    }
   ],
   "source": [
    "page_counter = {}\n",
    "value = page_counter.get('/hello.html', 0)\n",
    "print(value)\n",
    "print(page_counter)"
   ]
  },
  {
   "cell_type": "markdown",
   "metadata": {},
   "source": [
    "## 辞書型のメソッド \n",
    "- getメソッドを使うことでカウンターのような実装を簡単に実現できる\n",
    "- 複雑な初期化処理が必要な場合はin演算⼦を使って以下のような実装をすることを推奨\n",
    "  - 存在しない場合: 初期化処理をして辞書オブジェクトに代⼊\n",
    "  - 存在する場合: 辞書オブジェクトから取得"
   ]
  },
  {
   "cell_type": "code",
   "execution_count": 34,
   "metadata": {},
   "outputs": [
    {
     "name": "stdout",
     "output_type": "stream",
     "text": [
      "{'/page_a.html': 2, '/page_b.html': 1}\n"
     ]
    }
   ],
   "source": [
    "page_counter = {}\n",
    "page_counter['/page_a.html'] = page_counter.get('/page_a.html', 0) + 1\n",
    "page_counter['/page_a.html'] = page_counter.get('/page_a.html', 0) + 1\n",
    "page_counter['/page_b.html'] = page_counter.get('/page_b.html', 0) + 1\n",
    "print(page_counter)"
   ]
  },
  {
   "cell_type": "markdown",
   "metadata": {},
   "source": [
    "## コラム: 基本的な型と制御がプログラミングの中⼼\n",
    "- Pythonプログラミングの基本は以下となる\n",
    "  - ライブラリにある処理はライブラリに任せる\n",
    "  - ライブラリを使うプログラムは⾃分で作る(貼り合わせ)\n",
    "- 後者はこの章までに学んだ基本的な型(数値、⽂字列、リスト、タプル、セット、辞書型)を基本的な制御(if, for, while)で操作するのが上級者でもおよそコードの8割以上と思われる\n",
    "- すでに学んだ関数や今後学ぶクラスや例外処理などは上記のベーシックなプログラムを整理するためのもの。⾼度なプログラミングテクニックを学ぶ前に基礎を抑えるのが⼤事\n",
    "- フルスクラッチで素材から開発するのではなく、ライブラリという「レゴの出来合いのパーツ」をスマートに⾃分のコードで張り合わせて作品を作るのがPython流のプログラミング"
   ]
  },
  {
   "cell_type": "markdown",
   "metadata": {},
   "source": [
    "## コラム: 著者の型の使い分け\n",
    "- タプル: 引数や返り値で値をまとめる\n",
    "- リスト: 可変⻑の複数の要素を管理するために使う。なにかをループ処理するときに使う第⼀候補。要素探索が遅いので注意\n",
    "- セット: 要素の存在チェックが必要な場合にリスト代替で使う\n",
    "- 辞書型: リストに似た使い⽅だが、要素をすばやく検索できる必要がある場合に使う。辞書型のキーは「データベースでいう主キーやインデックス」で、それを使って該当エントリを素早く抜き出すようなイメージ。Pythonプログラミングでは辞書型が⾮常に便利なので使いこなそう。\n",
    "- 余談：辞書型とListの特徴をあわせ持つ 「順序付き辞書(OrderedDict)」などの変種もある"
   ]
  },
  {
   "cell_type": "markdown",
   "metadata": {},
   "source": [
    "## 演習\n",
    "- 数値のリストを受け取り、そこから最⼩値と最⼤値を同時に返す関数 get_min_max を作成し、その関数の返り値の最⼩値と最⼤値をそれぞれ別の⾏でコンソールに出⼒してください。\n",
    "- リスト型での要素の探索に⽐べて、セット型での要素の探索が⾼速である理由をインターネットで調べてください。\n",
    "- 数値のリストを受け取り、各数値が何回出現したかをカウントする関数を辞書型を使って作成してください。返り値は{数値1:出現数1, 数値2:出現数2, ...}という形式とします。\n",
    "- 上記関数の出⼒をforループでキーとバリューのペアごとに「'{} : {}'.format(key, value)」というフォーマットでプリント出⼒してください。"
   ]
  }
 ],
 "metadata": {
  "kernelspec": {
   "display_name": "Python 3",
   "language": "python",
   "name": "python3"
  },
  "language_info": {
   "codemirror_mode": {
    "name": "ipython",
    "version": 3
   },
   "file_extension": ".py",
   "mimetype": "text/x-python",
   "name": "python",
   "nbconvert_exporter": "python",
   "pygments_lexer": "ipython3",
   "version": "3.7.4"
  }
 },
 "nbformat": 4,
 "nbformat_minor": 4
}
