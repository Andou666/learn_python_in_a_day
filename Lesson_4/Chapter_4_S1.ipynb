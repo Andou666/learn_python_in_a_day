{
 "cells": [
  {
   "cell_type": "markdown",
   "metadata": {},
   "source": [
    "# SECTIUON 01 オブジェクトとメソッドの関係を理解する\n",
    "- このセクションで学ぶこと\n",
    "  - オブジェクトとは\n",
    "  - メソッドでListインスタンスを操作する\n",
    "  - メソッドの副作⽤と返り値\n",
    "  - コラム: dir関数を使ったオブジェクトのメソッド確認"
   ]
  },
  {
   "cell_type": "markdown",
   "metadata": {},
   "source": [
    "## オブジェクトとは\n",
    "- ⽂字列型や整数型には概念と実データが存在する\n",
    "- 型の概念のことを「クラス」と呼ぶ\n",
    "- 型の実データ(値)を「インスタンス」や「オブジェクト」と呼ぶ"
   ]
  },
  {
   "cell_type": "markdown",
   "metadata": {},
   "source": [
    "## メソッドでListインスタンスを操作する\n",
    "- 「メソッド」はインスタンスを操作するための特別な関数\n",
    "- インスタンス(値そのものか変数)の後ろに「.(ドット)」を置き、続けてメソッド名とメソッドの引数を記述する\n",
    "- appendメソッド: 対象のインスタンスに要素を追加\n",
    "- reverseメソッド: 対象のインスタンスの要素の順序を反転"
   ]
  },
  {
   "cell_type": "code",
   "execution_count": 1,
   "metadata": {},
   "outputs": [
    {
     "name": "stdout",
     "output_type": "stream",
     "text": [
      "['ab', 'cd', 'ef']\n",
      "['ab', 'cd', 'ef', 'gh']\n"
     ]
    }
   ],
   "source": [
    "a = ['ab', 'cd', 'ef']\n",
    "print(a)\n",
    "# リストに値を追加\n",
    "a.append('gh')\n",
    "print(a)"
   ]
  },
  {
   "cell_type": "code",
   "execution_count": 2,
   "metadata": {},
   "outputs": [
    {
     "name": "stdout",
     "output_type": "stream",
     "text": [
      "['gh', 'ef', 'cd', 'ab']\n"
     ]
    }
   ],
   "source": [
    "a = ['ab', 'cd', 'ef', 'gh']\n",
    "a.reverse() # リストの要素を反転\n",
    "print(a)"
   ]
  },
  {
   "cell_type": "markdown",
   "metadata": {},
   "source": [
    "## メソッドでListインスタンスを操作する\n",
    "- メソッドの操作対象はインスタンス内のデータ\n",
    "- インスタンス内ではデータと処理が密接に結びついている\n",
    "- 利⽤できるメソッドはインスタンスの型に依存する。たとえばList型インスタンスと⽂字列型インスタンスが使えるメソッドは違う"
   ]
  },
  {
   "cell_type": "markdown",
   "metadata": {},
   "source": [
    "## メソッドの副作⽤と返り値\n",
    "- 「副作⽤」は操作によりオブジェクトの状態が変化すること\n",
    "- メソッドには以下のパターンが存在する\n",
    "    - 副作⽤はあるが、返り値はない(Listのappendメソッド)\n",
    "    - 副作⽤はなく、返り値がある(Listのcountメソッド)\n",
    "    - 副作⽤も返り値もある(Listのpopメソッド)\n",
    "    - ~副作⽤も返り値もない~(呼び出す意味がないので普通はない)"
   ]
  },
  {
   "cell_type": "code",
   "execution_count": 3,
   "metadata": {},
   "outputs": [
    {
     "name": "stdout",
     "output_type": "stream",
     "text": [
      "3\n",
      "[1, 3, 5, 3, 1, 3]\n"
     ]
    }
   ],
   "source": [
    "a = [1,3,5,3,1,3]\n",
    "b = a.count(3)\n",
    "print(b)\n",
    "print(a)"
   ]
  },
  {
   "cell_type": "code",
   "execution_count": 4,
   "metadata": {},
   "outputs": [
    {
     "name": "stdout",
     "output_type": "stream",
     "text": [
      "1\n",
      "[3, 5, 3, 1, 3]\n"
     ]
    }
   ],
   "source": [
    "a = [1,3,5,3,1,3]\n",
    "b = a.pop(0)\n",
    "print(b)\n",
    "print(a)"
   ]
  },
  {
   "cell_type": "markdown",
   "metadata": {},
   "source": [
    "## コラム: dir関数を使ったオブジェクトのメソッド確認\n",
    "- どの型がどういったインスタンスを使えるか記憶しきれない\n",
    "- dir関数を使うことでオブジェクトの属性(5章)を確認できる\n",
    "- メソッドも属性の⼀部なので確認可能"
   ]
  },
  {
   "cell_type": "code",
   "execution_count": 5,
   "metadata": {},
   "outputs": [
    {
     "data": {
      "text/plain": [
       "['__add__',\n",
       " '__class__',\n",
       " '__contains__',\n",
       " '__delattr__',\n",
       " '__delitem__',\n",
       " '__dir__',\n",
       " '__doc__',\n",
       " '__eq__',\n",
       " '__format__',\n",
       " '__ge__',\n",
       " '__getattribute__',\n",
       " '__getitem__',\n",
       " '__gt__',\n",
       " '__hash__',\n",
       " '__iadd__',\n",
       " '__imul__',\n",
       " '__init__',\n",
       " '__init_subclass__',\n",
       " '__iter__',\n",
       " '__le__',\n",
       " '__len__',\n",
       " '__lt__',\n",
       " '__mul__',\n",
       " '__ne__',\n",
       " '__new__',\n",
       " '__reduce__',\n",
       " '__reduce_ex__',\n",
       " '__repr__',\n",
       " '__reversed__',\n",
       " '__rmul__',\n",
       " '__setattr__',\n",
       " '__setitem__',\n",
       " '__sizeof__',\n",
       " '__str__',\n",
       " '__subclasshook__',\n",
       " 'append',\n",
       " 'clear',\n",
       " 'copy',\n",
       " 'count',\n",
       " 'extend',\n",
       " 'index',\n",
       " 'insert',\n",
       " 'pop',\n",
       " 'remove',\n",
       " 'reverse',\n",
       " 'sort']"
      ]
     },
     "execution_count": 5,
     "metadata": {},
     "output_type": "execute_result"
    }
   ],
   "source": [
    "dir([])"
   ]
  },
  {
   "cell_type": "markdown",
   "metadata": {},
   "source": [
    "## 演習\n",
    "- リストの「[1,2,3,4]」はクラスですか、インスタンスですか\n",
    "- 「クラス」と「インスタンス」の関係について説明してください\n",
    "- インスタンスのメソッドがなにかについて説明してください\n",
    "- 以下のリストのメソッドの副作⽤と返り値を説明してください\n",
    "  - append\n",
    "  - reverse\n",
    "  - count\n",
    "  - pop"
   ]
  },
  {
   "cell_type": "code",
   "execution_count": null,
   "metadata": {},
   "outputs": [],
   "source": []
  },
  {
   "cell_type": "code",
   "execution_count": null,
   "metadata": {},
   "outputs": [],
   "source": []
  }
 ],
 "metadata": {
  "kernelspec": {
   "display_name": "Python 3",
   "language": "python",
   "name": "python3"
  },
  "language_info": {
   "codemirror_mode": {
    "name": "ipython",
    "version": 3
   },
   "file_extension": ".py",
   "mimetype": "text/x-python",
   "name": "python",
   "nbconvert_exporter": "python",
   "pygments_lexer": "ipython3",
   "version": "3.7.4"
  }
 },
 "nbformat": 4,
 "nbformat_minor": 4
}
