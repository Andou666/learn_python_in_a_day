{
 "cells": [
  {
   "cell_type": "markdown",
   "metadata": {},
   "source": [
    "# SECTION 03 不変オブジェクトを操作する\n",
    "- このセクションで学ぶこと\n",
    "  - ⽂字列型のメソッドはオブジェクトを変化させない\n",
    "  - ⽂字列型のメソッド\n",
    "  - in演算⼦を使った⽂字列型の処理\n",
    "  - ⽂字列の⼀部を取り出す\n",
    "  - コラム: メソッドチェーン"
   ]
  },
  {
   "cell_type": "markdown",
   "metadata": {},
   "source": [
    "## ⽂字列型のメソッドはオブジェクトを変化させない\n",
    "- upper: ⽂字列を⼤⽂字にした「新しい⽂字列を返す」\n",
    "- replace: ⽂字列を置き換えた「新しい⽂字列を返す」\n",
    "- 上記2つのメソッドを呼び出してもインスタンスは変化しない"
   ]
  },
  {
   "cell_type": "code",
   "execution_count": 1,
   "metadata": {},
   "outputs": [
    {
     "name": "stdout",
     "output_type": "stream",
     "text": [
      "Original a : Hello Python\n",
      "Return val b : HELLO PYTHON\n"
     ]
    }
   ],
   "source": [
    "a = 'Hello Python'\n",
    "b = a.upper()\n",
    "print('Original a : ' + a)\n",
    "print('Return val b : ' + b)"
   ]
  },
  {
   "cell_type": "code",
   "execution_count": 2,
   "metadata": {},
   "outputs": [
    {
     "name": "stdout",
     "output_type": "stream",
     "text": [
      "Original a : Hello Python\n",
      "Return val c : Hell Python\n"
     ]
    }
   ],
   "source": [
    "a = 'Hello Python'\n",
    "c = a.replace('Hello', 'Hell')\n",
    "print('Original a : ' + a)\n",
    "print('Return val c : ' + c)"
   ]
  },
  {
   "cell_type": "markdown",
   "metadata": {},
   "source": [
    "## ⽂字列型のメソッドはオブジェクトを変化させない\n",
    "- 「不変オブジェクト」は⾃分⾃⾝を変化させないオブジェクト\n",
    "- ほとんどの型は不変オブジェクトではないが、原始的な型(整数型や⽂字列型)は不変オブジェクトであることが多い"
   ]
  },
  {
   "cell_type": "markdown",
   "metadata": {},
   "source": [
    "## ⽂字列型のメソッド\n",
    "- formatメソッド: ⽂字列に値を埋め込む。+演算⼦で⽂字列化して連結するよりも綺麗に書ける\n",
    "- ⽂字列中の{}に引数が埋め込まれた⽂字列を返す\n",
    "- 埋め込む値の整形やキーワードでの埋め込みもできる(割愛)"
   ]
  },
  {
   "cell_type": "code",
   "execution_count": 3,
   "metadata": {},
   "outputs": [
    {
     "name": "stdout",
     "output_type": "stream",
     "text": [
      "Hi, this is Tom. 25 years old.\n"
     ]
    }
   ],
   "source": [
    "name = 'Tom'\n",
    "age = 25\n",
    "text = 'Hi, this is {}. {} years old.'.format(name, age)\n",
    "print(text)"
   ]
  },
  {
   "cell_type": "markdown",
   "metadata": {},
   "source": [
    "## ⽂字列型のメソッド\n",
    "- startswithメソッド: 引数の⽂字列で開始されていればTrue\n",
    "- endswithメソッド: 引数の⽂字列で終了していればTrue"
   ]
  },
  {
   "cell_type": "code",
   "execution_count": 4,
   "metadata": {},
   "outputs": [
    {
     "name": "stdout",
     "output_type": "stream",
     "text": [
      "False\n",
      "True\n"
     ]
    }
   ],
   "source": [
    "print('Hello Python'.startswith('thon'))\n",
    "print('Hello Python'.startswith('Hello'))"
   ]
  },
  {
   "cell_type": "code",
   "execution_count": 5,
   "metadata": {},
   "outputs": [
    {
     "name": "stdout",
     "output_type": "stream",
     "text": [
      "True\n",
      "False\n"
     ]
    }
   ],
   "source": [
    "print('Hello Python'.endswith('thon'))\n",
    "print('Hello Python'.endswith('Hello'))"
   ]
  },
  {
   "cell_type": "markdown",
   "metadata": {},
   "source": [
    "## ⽂字列型のメソッド\n",
    "- replaceメソッド: 第1引数の⽂字列を第２引数の⽂字列で置き換えた⽂字列を返す\n",
    "- lowerメソッド: ⽂字列を全て⼩⽂字にした⽂字列を返す\n",
    "- upperメソッド: ⽂字列を全て⼤⽂字にした⽂字列を返す"
   ]
  },
  {
   "cell_type": "code",
   "execution_count": 6,
   "metadata": {},
   "outputs": [
    {
     "name": "stdout",
     "output_type": "stream",
     "text": [
      "Hello World\n",
      "Hello Python\n",
      "Hello \n"
     ]
    }
   ],
   "source": [
    "print('Hello Python'.replace('Python', 'World'))\n",
    "print('Hello Python'.replace('Pyth0n', 'World'))\n",
    "print('Hello Python'.replace('Python', ''))"
   ]
  },
  {
   "cell_type": "code",
   "execution_count": 7,
   "metadata": {},
   "outputs": [
    {
     "data": {
      "text/plain": [
       "'hello world'"
      ]
     },
     "execution_count": 7,
     "metadata": {},
     "output_type": "execute_result"
    }
   ],
   "source": [
    "a = 'Hello World'\n",
    "a.lower()"
   ]
  },
  {
   "cell_type": "code",
   "execution_count": 8,
   "metadata": {},
   "outputs": [
    {
     "data": {
      "text/plain": [
       "'HELLO WORLD'"
      ]
     },
     "execution_count": 8,
     "metadata": {},
     "output_type": "execute_result"
    }
   ],
   "source": [
    "a.upper()"
   ]
  },
  {
   "cell_type": "code",
   "execution_count": 9,
   "metadata": {},
   "outputs": [
    {
     "data": {
      "text/plain": [
       "True"
      ]
     },
     "execution_count": 9,
     "metadata": {},
     "output_type": "execute_result"
    }
   ],
   "source": [
    "a.lower() == 'hello world'"
   ]
  },
  {
   "cell_type": "markdown",
   "metadata": {},
   "source": [
    "## ⽂字列型のメソッド (4/5)\n",
    "- stripメソッド: ⽂字列の前後の空⽩(半⾓空⽩、改⾏、タブなど)を取り除く\n",
    "- joinメソッド: リストの要素を⽂字列で連結する"
   ]
  },
  {
   "cell_type": "code",
   "execution_count": 10,
   "metadata": {},
   "outputs": [
    {
     "name": "stdout",
     "output_type": "stream",
     "text": [
      " hello\n",
      "\n",
      "hello\n"
     ]
    }
   ],
   "source": [
    "print(' hello\\n')\n",
    "print(' hello\\n'.strip())"
   ]
  },
  {
   "cell_type": "code",
   "execution_count": 11,
   "metadata": {},
   "outputs": [
    {
     "name": "stdout",
     "output_type": "stream",
     "text": [
      "taro,180,80\n"
     ]
    }
   ],
   "source": [
    "list3 = ['taro', '180', '80']\n",
    "text = ','.join(list3)\n",
    "print(text)"
   ]
  },
  {
   "cell_type": "markdown",
   "metadata": {},
   "source": [
    "## ⽂字列型のメソッド (5/5)\n",
    "- splitメソッド: ⽂字列を特定の⽂字列で分解して⽂字列のリストにする\n",
    "- CSV形式をコンマで分けたり、改⾏コードで複数⾏のテキストを⾏ごとに分解する処理によく使われる"
   ]
  },
  {
   "cell_type": "code",
   "execution_count": 12,
   "metadata": {},
   "outputs": [
    {
     "name": "stdout",
     "output_type": "stream",
     "text": [
      "['taro', ' 180', ' 80']\n"
     ]
    }
   ],
   "source": [
    "text = 'taro, 180, 80'\n",
    "list1 = text.split(',')\n",
    "print(list1)"
   ]
  },
  {
   "cell_type": "code",
   "execution_count": 14,
   "metadata": {},
   "outputs": [
    {
     "name": "stdout",
     "output_type": "stream",
     "text": [
      "['taro', '180', '80']\n"
     ]
    }
   ],
   "source": [
    "text = 'taro, 180, 80'\n",
    "list1 = text.split(',')\n",
    "def apply_strip(text):\n",
    "    return text.strip()\n",
    "list2 = list(map(apply_strip, list1))\n",
    "print(list2)"
   ]
  },
  {
   "cell_type": "markdown",
   "metadata": {},
   "source": [
    "## in 演算⼦を使った⽂字列型の処理\n",
    "- 特定の⽂字列が別の⽂字列内に含まれるかをin演算⼦で判別できる。返り値はTrue/False\n",
    "- 複雑な条件で⽂字列判定がしたい場合は8章の正規表現を使う"
   ]
  },
  {
   "cell_type": "code",
   "execution_count": 15,
   "metadata": {},
   "outputs": [
    {
     "name": "stdout",
     "output_type": "stream",
     "text": [
      "True\n",
      "False\n"
     ]
    }
   ],
   "source": [
    "print('Hell' in 'Hello')\n",
    "print('Ho' in 'Hello')"
   ]
  },
  {
   "cell_type": "markdown",
   "metadata": {},
   "source": [
    "## ⽂字列の⼀部を取り出す\n",
    "- ⽂字列はシーケンス型(リストなど)の1つ\n",
    "- []でインデックスを指定して特定位置の1⽂字を抜き出せる\n",
    "- []を使ったスライスで⽂字列の特定箇所を抜き出せる\n",
    "- ⽂字列のスライスの利⽤法は4章2節のリストのスライスと同じ"
   ]
  },
  {
   "cell_type": "code",
   "execution_count": 16,
   "metadata": {},
   "outputs": [
    {
     "name": "stdout",
     "output_type": "stream",
     "text": [
      "l\n",
      "lo py\n"
     ]
    }
   ],
   "source": [
    "text = 'hello python'\n",
    "print(text[3])\n",
    "print(text[3:8])"
   ]
  },
  {
   "cell_type": "markdown",
   "metadata": {},
   "source": [
    "## コラム: メソッドチェーン\n",
    "- 返り値を変数に格納せずに直接メソッドを呼び出せる\n",
    "- 鎖状に連ねることから「メソッドチェーン」と呼ばれる"
   ]
  },
  {
   "cell_type": "markdown",
   "metadata": {},
   "source": [
    "## 演習\n",
    "- 不変オブジェクトについて例を使って説明してください\n",
    "- ⽂字列型のformatメソッドでテンプレートを埋めてください。「'hello {}'」\n",
    "- ⽂字列型のlowerを使って⽂字列からbool値を得る関数を作成してください\n",
    "  - 引数が⼤⽂字⼩⽂字を問わず「true」であればTrue\n",
    "  - それ以外は全てFalse\n",
    "- replaceメソッドで⽂字列「\"Hello I'm Yuichi\"」の名前を⾃分の名前に変えてください。\n",
    "- メソッドチェーンで「'hello world python'」を1⾏で「['HELLO', 'WORLD', 'PYTHON']」にしてください"
   ]
  },
  {
   "cell_type": "code",
   "execution_count": 17,
   "metadata": {},
   "outputs": [
    {
     "data": {
      "text/plain": [
       "'hello Python'"
      ]
     },
     "execution_count": 17,
     "metadata": {},
     "output_type": "execute_result"
    }
   ],
   "source": [
    "'hello {}'.format('Python')"
   ]
  },
  {
   "cell_type": "code",
   "execution_count": 19,
   "metadata": {},
   "outputs": [
    {
     "name": "stdout",
     "output_type": "stream",
     "text": [
      "True\n"
     ]
    }
   ],
   "source": [
    "def is_true(text):\n",
    "    if text.lower() == 'true':\n",
    "        return True\n",
    "    return False\n",
    "print(is_true('tRue'))"
   ]
  },
  {
   "cell_type": "code",
   "execution_count": 21,
   "metadata": {},
   "outputs": [
    {
     "data": {
      "text/plain": [
       "\"Hello I'm John doe\""
      ]
     },
     "execution_count": 21,
     "metadata": {},
     "output_type": "execute_result"
    }
   ],
   "source": [
    "YOUE_NAME = \"John doe\"\n",
    "\"Hello I'm Yuichi\".replace('Yuichi', YOUE_NAME)"
   ]
  },
  {
   "cell_type": "code",
   "execution_count": 23,
   "metadata": {},
   "outputs": [
    {
     "data": {
      "text/plain": [
       "['HELLO', 'WORLD', 'PYTHON']"
      ]
     },
     "execution_count": 23,
     "metadata": {},
     "output_type": "execute_result"
    }
   ],
   "source": [
    "'hello world python'.upper().split(' ')"
   ]
  },
  {
   "cell_type": "code",
   "execution_count": null,
   "metadata": {},
   "outputs": [],
   "source": []
  }
 ],
 "metadata": {
  "kernelspec": {
   "display_name": "Python 3",
   "language": "python",
   "name": "python3"
  },
  "language_info": {
   "codemirror_mode": {
    "name": "ipython",
    "version": 3
   },
   "file_extension": ".py",
   "mimetype": "text/x-python",
   "name": "python",
   "nbconvert_exporter": "python",
   "pygments_lexer": "ipython3",
   "version": "3.7.4"
  }
 },
 "nbformat": 4,
 "nbformat_minor": 4
}
