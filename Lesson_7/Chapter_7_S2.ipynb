{
 "cells": [
  {
   "cell_type": "markdown",
   "metadata": {},
   "source": [
    "# SECTION 02 予期しないエラーに例外処理で対応する\n",
    "- このセクションで学ぶこと\n",
    "  - 例外とは\n",
    "  - 2種類の例外\n",
    "  - try/exceptによる例外処理\n",
    "  - 例外の詳細を取得する"
   ]
  },
  {
   "cell_type": "markdown",
   "metadata": {},
   "source": [
    "## 例外とは\n",
    "- 「例外」はプログラムの予期しない動作で発⽣するエラー\n",
    "- エラーと例外(英語ではException)はほぼ同じ意味\n",
    "- たとえば存在しないファイルを読もうとすると例外が発⽣する"
   ]
  },
  {
   "cell_type": "code",
   "execution_count": 2,
   "metadata": {},
   "outputs": [
    {
     "ename": "FileNotFoundError",
     "evalue": "[Errno 2] No such file or directory: 'abc.txt'",
     "output_type": "error",
     "traceback": [
      "\u001b[1;31m---------------------------------------------------------------------------\u001b[0m",
      "\u001b[1;31mFileNotFoundError\u001b[0m                         Traceback (most recent call last)",
      "\u001b[1;32m<ipython-input-2-db7e64482f0b>\u001b[0m in \u001b[0;36m<module>\u001b[1;34m\u001b[0m\n\u001b[1;32m----> 1\u001b[1;33m \u001b[0mfin\u001b[0m \u001b[1;33m=\u001b[0m \u001b[0mopen\u001b[0m\u001b[1;33m(\u001b[0m\u001b[1;34m'abc.txt'\u001b[0m\u001b[1;33m,\u001b[0m \u001b[1;34m'r'\u001b[0m\u001b[1;33m)\u001b[0m\u001b[1;33m\u001b[0m\u001b[1;33m\u001b[0m\u001b[0m\n\u001b[0m\u001b[0;32m      2\u001b[0m \u001b[1;32mfor\u001b[0m \u001b[0mline\u001b[0m \u001b[1;32min\u001b[0m \u001b[0mfin\u001b[0m\u001b[1;33m:\u001b[0m\u001b[1;33m\u001b[0m\u001b[1;33m\u001b[0m\u001b[0m\n\u001b[0;32m      3\u001b[0m     \u001b[0mprint\u001b[0m\u001b[1;33m(\u001b[0m\u001b[0mline\u001b[0m\u001b[1;33m)\u001b[0m\u001b[1;33m\u001b[0m\u001b[1;33m\u001b[0m\u001b[0m\n\u001b[0;32m      4\u001b[0m \u001b[0mfin\u001b[0m\u001b[1;33m.\u001b[0m\u001b[0mclose\u001b[0m\u001b[1;33m(\u001b[0m\u001b[1;33m)\u001b[0m\u001b[1;33m\u001b[0m\u001b[1;33m\u001b[0m\u001b[0m\n\u001b[0;32m      5\u001b[0m \u001b[0mprint\u001b[0m\u001b[1;33m(\u001b[0m\u001b[1;34m'finished'\u001b[0m\u001b[1;33m)\u001b[0m\u001b[1;33m\u001b[0m\u001b[1;33m\u001b[0m\u001b[0m\n",
      "\u001b[1;31mFileNotFoundError\u001b[0m: [Errno 2] No such file or directory: 'abc.txt'"
     ]
    }
   ],
   "source": [
    "fin = open('abc.txt', 'r')\n",
    "for line in fin:\n",
    "    print(line)\n",
    "fin.close()\n",
    "print('finished')"
   ]
  },
  {
   "cell_type": "markdown",
   "metadata": {},
   "source": [
    "## 2つのタイプの例外\n",
    "- 例外はおおまかに以下の2つに分類できる\n",
    "  - プログラムのバグから発⽣する例外。⽂法エラーや0除算など\n",
    "  - 外部要因で発⽣する例外。アクセス先サーバーのダウンなど\n",
    "- バグ起因の例外はプログラムを修正して対処することが必要\n",
    "- 外部要因の例外は防げないので「例外処理(失敗したときの処理)」を定義して対処する"
   ]
  },
  {
   "cell_type": "markdown",
   "metadata": {},
   "source": [
    "## try/exceptによる例外処理\n",
    "- 例外発⽣時に処理を継続するために「try/except」⽂を使う\n",
    "- try: 例外が発⽣する可能性がある場所\n",
    "- except: try内で例外が発⽣した場合におこなわれる処理"
   ]
  },
  {
   "cell_type": "code",
   "execution_count": 3,
   "metadata": {},
   "outputs": [
    {
     "name": "stdout",
     "output_type": "stream",
     "text": [
      "ファイルの読み込み開始\n",
      "読み込み成功\n",
      "プログラムが終了\n"
     ]
    }
   ],
   "source": [
    "try:\n",
    "    file_name = 'test.txt'\n",
    "    print('ファイルの読み込み開始')\n",
    "    fin = open(file_name, 'r')\n",
    "    fin.read()\n",
    "    fin.close()\n",
    "    print('読み込み成功')\n",
    "except:\n",
    "    print('エラーが発⽣')\n",
    "print('プログラムが終了')"
   ]
  },
  {
   "cell_type": "markdown",
   "metadata": {},
   "source": [
    "## try/exceptによる例外処理\n",
    "- tryブロック内の処理はエラー発⽣箇所以降は実⾏されない\n",
    "- exceptブロックはエラーが発⽣しなければ実⾏されない\n",
    "- try/except後の処理はエラーの有無に関わらず実⾏される"
   ]
  },
  {
   "cell_type": "markdown",
   "metadata": {},
   "source": [
    "## 例外の詳細を取得する\n",
    "- except⽂で例外を「例外クラス」の変数に補⾜できる\n",
    "- 例外クラスの最も⼀般的なものは「Exception」\n",
    "- 例外クラスの種類に応じた例外処理の定義なども可能で、可能ならより詳細な例外クラスで実装することを推奨(割愛)"
   ]
  },
  {
   "cell_type": "code",
   "execution_count": 4,
   "metadata": {},
   "outputs": [
    {
     "name": "stdout",
     "output_type": "stream",
     "text": [
      "エラーが発⽣\n",
      "[Errno 2] No such file or directory: 'test999.txt'\n"
     ]
    }
   ],
   "source": [
    "try:\n",
    "    fin = open('test999.txt', 'r')\n",
    "    fin.close()\n",
    "except Exception as e:\n",
    "    print('エラーが発⽣')\n",
    "    print(e)"
   ]
  },
  {
   "cell_type": "markdown",
   "metadata": {},
   "source": [
    "## 例外の詳細を取得する\n",
    "- 「traceback」モジュールを使うとエラー発⽣時に出⼒されていたメッセージのほぼ全てを補⾜できる\n",
    "- エラー発⽣箇所がファイルと⾏単位で分かる"
   ]
  },
  {
   "cell_type": "code",
   "execution_count": 5,
   "metadata": {},
   "outputs": [
    {
     "name": "stdout",
     "output_type": "stream",
     "text": [
      "エラーが発⽣\n",
      "Traceback (most recent call last):\n",
      "  File \"<ipython-input-5-4a870241769c>\", line 3, in <module>\n",
      "    fin = open('test999.txt', 'r')\n",
      "FileNotFoundError: [Errno 2] No such file or directory: 'test999.txt'\n",
      "\n"
     ]
    }
   ],
   "source": [
    "import traceback\n",
    "try:\n",
    "    fin = open('test999.txt', 'r')\n",
    "    fin.close()\n",
    "except:\n",
    "    print('エラーが発⽣')\n",
    "    error_text = traceback.format_exc()\n",
    "    print(error_text)"
   ]
  },
  {
   "cell_type": "markdown",
   "metadata": {},
   "source": [
    "## 演習\n",
    "- requestsモジュールのgetを例外処理でラップした関数を作成してください(6章に従ってインストールが必要)\n",
    "- 返り値はタプルで(成功したか, レスポンスのテキスト)とします\n",
    "  - 例外が発⽣した場合はtracebackをプリントして、(False, '')を返す\n",
    "  - レスポンスに問題がある場合は(False, '')を返す\n",
    "  - 問題がない場合(True, テキスト)を返す\n",
    "- リクエストレスポンスに問題があるかないかは「レスポンスオブジェクト.ok」で調べられます\n",
    "- わざと「存在しないサイトにアクセス」「存在するサイトの存在しないURLにアクセス」をしてみてください"
   ]
  },
  {
   "cell_type": "code",
   "execution_count": null,
   "metadata": {},
   "outputs": [],
   "source": []
  }
 ],
 "metadata": {
  "kernelspec": {
   "display_name": "Python 3",
   "language": "python",
   "name": "python3"
  },
  "language_info": {
   "codemirror_mode": {
    "name": "ipython",
    "version": 3
   },
   "file_extension": ".py",
   "mimetype": "text/x-python",
   "name": "python",
   "nbconvert_exporter": "python",
   "pygments_lexer": "ipython3",
   "version": "3.7.4"
  }
 },
 "nbformat": 4,
 "nbformat_minor": 4
}
