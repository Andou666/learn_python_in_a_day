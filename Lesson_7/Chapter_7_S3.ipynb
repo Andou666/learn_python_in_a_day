{
 "cells": [
  {
   "cell_type": "markdown",
   "metadata": {},
   "source": [
    "## SECTION 03 Pythonで⽇本語の⽂字列を扱う\n",
    "- このセクションで学ぶこと\n",
    "  - ⽂字コードとは\n",
    "  - プログラムファイルの⽂字コード\n",
    "  - コラム: python2の⽂字コード\n",
    "  - 様々な⽂字コードのファイルの読み書き"
   ]
  },
  {
   "cell_type": "markdown",
   "metadata": {},
   "source": [
    "## ⽂字コードとは\n",
    "- テキストファイル内の⽂字列も01で構成されている\n",
    "- 特定の01の組み合わせが「a」や「あ」と解釈されている\n",
    "- 同じ⽂字でも「⽂字コード」によって01の組み合わせが異なる\n",
    "- 16進数(0,1,...9,A,B,C,D,E)の1桁で2進数4桁「0000-1111」を表現できるため、読みやすさで⽂字コードを含むバイナリ表記には16進数を使うのが⼀般的\n",
    "\n",
    "|⽂字コード| 「a」の⽂字コード| 「あ」の⽂字コード|\n",
    "|---|---|---|\n",
    "|UTF-8| 0x61| 0x82A0|\n",
    "|Shift-JIS| 0x61| 0xA4A2|\n",
    "|EUC-JP| 0x61| 0xE38182|"
   ]
  },
  {
   "cell_type": "markdown",
   "metadata": {},
   "source": [
    "## プログラムファイルの⽂字コード\n",
    "- Pythonの標準⽂字コードはUTF-8。これを使うのが基本\n",
    "- 諸事情で他の⽂字コードを使う場合はプログラムの冒頭で「どの⽂字コードでプログラムを書いているか」を宣⾔する"
   ]
  },
  {
   "cell_type": "code",
   "execution_count": 1,
   "metadata": {},
   "outputs": [
    {
     "name": "stdout",
     "output_type": "stream",
     "text": [
      "こんにちは\n"
     ]
    }
   ],
   "source": [
    "# -*- coding: shift-jis -*-\n",
    "print('こんにちは')"
   ]
  },
  {
   "cell_type": "markdown",
   "metadata": {},
   "source": [
    "## コラム: python2の⽂字コード\n",
    "- Python2のデフォルト⽂字コードはASCII(アルファベットのみ)\n",
    "- ⽇本語及びマルチバイト⽂字を使うのであれば⽂頭での⽂字コードの宣⾔がUTF-8でも必要\n",
    "- ⾊々と⾯倒なので⽇本語を使うのであればPython3を使うべき"
   ]
  },
  {
   "cell_type": "markdown",
   "metadata": {},
   "source": [
    "## 様々な⽂字コードのファイルの読み書き\n",
    "- OSによってopen関数が想定するデフォルト⽂字コードが異なる\n",
    "  - Windows(⽇本語環境): Shift-JIS\n",
    "  - Mac: UTF-8\n",
    "- デフォルト⽂字コードと異なるファイルを⽂字コード指定なしにopenするとエラー"
   ]
  },
  {
   "cell_type": "code",
   "execution_count": 2,
   "metadata": {},
   "outputs": [
    {
     "ename": "FileNotFoundError",
     "evalue": "[Errno 2] No such file or directory: 'sjis.txt'",
     "output_type": "error",
     "traceback": [
      "\u001b[1;31m---------------------------------------------------------------------------\u001b[0m",
      "\u001b[1;31mFileNotFoundError\u001b[0m                         Traceback (most recent call last)",
      "\u001b[1;32m<ipython-input-2-ae263082c8af>\u001b[0m in \u001b[0;36m<module>\u001b[1;34m\u001b[0m\n\u001b[1;32m----> 1\u001b[1;33m \u001b[0mfin_sjis\u001b[0m \u001b[1;33m=\u001b[0m \u001b[0mopen\u001b[0m\u001b[1;33m(\u001b[0m\u001b[1;34m'sjis.txt'\u001b[0m\u001b[1;33m,\u001b[0m \u001b[1;34m'r'\u001b[0m\u001b[1;33m)\u001b[0m\u001b[1;33m\u001b[0m\u001b[1;33m\u001b[0m\u001b[0m\n\u001b[0m\u001b[0;32m      2\u001b[0m \u001b[0mprint\u001b[0m\u001b[1;33m(\u001b[0m\u001b[0mfin_sjis\u001b[0m\u001b[1;33m.\u001b[0m\u001b[0mread\u001b[0m\u001b[1;33m(\u001b[0m\u001b[1;33m)\u001b[0m\u001b[1;33m)\u001b[0m\u001b[1;33m\u001b[0m\u001b[1;33m\u001b[0m\u001b[0m\n\u001b[0;32m      3\u001b[0m \u001b[0mfin_sjis\u001b[0m\u001b[1;33m.\u001b[0m\u001b[0mclose\u001b[0m\u001b[1;33m(\u001b[0m\u001b[1;33m)\u001b[0m\u001b[1;33m\u001b[0m\u001b[1;33m\u001b[0m\u001b[0m\n\u001b[0;32m      4\u001b[0m \u001b[0mfin_utf8\u001b[0m \u001b[1;33m=\u001b[0m \u001b[0mopen\u001b[0m\u001b[1;33m(\u001b[0m\u001b[1;34m'utf8.txt'\u001b[0m\u001b[1;33m,\u001b[0m \u001b[1;34m'r'\u001b[0m\u001b[1;33m)\u001b[0m\u001b[1;33m\u001b[0m\u001b[1;33m\u001b[0m\u001b[0m\n\u001b[0;32m      5\u001b[0m \u001b[0mprint\u001b[0m\u001b[1;33m(\u001b[0m\u001b[0mfin_utf8\u001b[0m\u001b[1;33m.\u001b[0m\u001b[0mread\u001b[0m\u001b[1;33m(\u001b[0m\u001b[1;33m)\u001b[0m\u001b[1;33m)\u001b[0m\u001b[1;33m\u001b[0m\u001b[1;33m\u001b[0m\u001b[0m\n",
      "\u001b[1;31mFileNotFoundError\u001b[0m: [Errno 2] No such file or directory: 'sjis.txt'"
     ]
    }
   ],
   "source": [
    "fin_sjis = open('sjis.txt', 'r')\n",
    "print(fin_sjis.read())\n",
    "fin_sjis.close()\n",
    "fin_utf8 = open('utf8.txt', 'r')\n",
    "print(fin_utf8.read())\n",
    "fin_utf8.close()"
   ]
  },
  {
   "cell_type": "markdown",
   "metadata": {},
   "source": [
    "## 様々な⽂字コードのファイルの読み書き\n",
    "- open関数のencode引数で⽂字コードを指定可能\n",
    "- マルチプラットフォーム環境も考慮すると以下を推奨\n",
    "- テキストファイルの⽂字コードにはUTF-8を利⽤\n",
    "- 移植性を考えてMacであってもファイル読み込み時のencodeオプションにUTF-8を指定しておく\n",
    "- writeモードではopen時に指定した⽂字コードでファイルが書き出される"
   ]
  },
  {
   "cell_type": "code",
   "execution_count": 3,
   "metadata": {},
   "outputs": [
    {
     "ename": "FileNotFoundError",
     "evalue": "[Errno 2] No such file or directory: 'sjis.txt'",
     "output_type": "error",
     "traceback": [
      "\u001b[1;31m---------------------------------------------------------------------------\u001b[0m",
      "\u001b[1;31mFileNotFoundError\u001b[0m                         Traceback (most recent call last)",
      "\u001b[1;32m<ipython-input-3-ffef3f9201fc>\u001b[0m in \u001b[0;36m<module>\u001b[1;34m\u001b[0m\n\u001b[1;32m----> 1\u001b[1;33m \u001b[0mfin_sjis\u001b[0m \u001b[1;33m=\u001b[0m \u001b[0mopen\u001b[0m\u001b[1;33m(\u001b[0m\u001b[1;34m'sjis.txt'\u001b[0m\u001b[1;33m,\u001b[0m \u001b[1;34m'r'\u001b[0m\u001b[1;33m,\u001b[0m \u001b[0mencoding\u001b[0m\u001b[1;33m=\u001b[0m\u001b[1;34m'shift-jis'\u001b[0m\u001b[1;33m)\u001b[0m\u001b[1;33m\u001b[0m\u001b[1;33m\u001b[0m\u001b[0m\n\u001b[0m\u001b[0;32m      2\u001b[0m \u001b[0mprint\u001b[0m\u001b[1;33m(\u001b[0m\u001b[0mfin_sjis\u001b[0m\u001b[1;33m.\u001b[0m\u001b[0mread\u001b[0m\u001b[1;33m(\u001b[0m\u001b[1;33m)\u001b[0m\u001b[1;33m)\u001b[0m\u001b[1;33m\u001b[0m\u001b[1;33m\u001b[0m\u001b[0m\n\u001b[0;32m      3\u001b[0m \u001b[0mfin_sjis\u001b[0m\u001b[1;33m.\u001b[0m\u001b[0mclose\u001b[0m\u001b[1;33m(\u001b[0m\u001b[1;33m)\u001b[0m\u001b[1;33m\u001b[0m\u001b[1;33m\u001b[0m\u001b[0m\n\u001b[0;32m      4\u001b[0m \u001b[0mfin_utf8\u001b[0m \u001b[1;33m=\u001b[0m \u001b[0mopen\u001b[0m\u001b[1;33m(\u001b[0m\u001b[1;34m'utf8.txt'\u001b[0m\u001b[1;33m,\u001b[0m \u001b[1;34m'r'\u001b[0m\u001b[1;33m,\u001b[0m \u001b[0mencoding\u001b[0m\u001b[1;33m=\u001b[0m\u001b[1;34m'utf-8'\u001b[0m\u001b[1;33m)\u001b[0m\u001b[1;33m\u001b[0m\u001b[1;33m\u001b[0m\u001b[0m\n\u001b[0;32m      5\u001b[0m \u001b[0mprint\u001b[0m\u001b[1;33m(\u001b[0m\u001b[0mfin_utf8\u001b[0m\u001b[1;33m.\u001b[0m\u001b[0mread\u001b[0m\u001b[1;33m(\u001b[0m\u001b[1;33m)\u001b[0m\u001b[1;33m)\u001b[0m\u001b[1;33m\u001b[0m\u001b[1;33m\u001b[0m\u001b[0m\n",
      "\u001b[1;31mFileNotFoundError\u001b[0m: [Errno 2] No such file or directory: 'sjis.txt'"
     ]
    }
   ],
   "source": [
    "fin_sjis = open('sjis.txt', 'r', encoding='shift-jis')\n",
    "print(fin_sjis.read())\n",
    "fin_sjis.close()\n",
    "fin_utf8 = open('utf8.txt', 'r', encoding='utf-8')\n",
    "print(fin_utf8.read())\n",
    "fin_utf8.close()"
   ]
  },
  {
   "cell_type": "markdown",
   "metadata": {},
   "source": [
    "## 演習\n",
    "- 中に書かれている⽂字コードが不明なファイルの⽂字コードを特定するプログラムを作成してください\n",
    "  - UTF-8, Shift-JIS, EUC-JPの3つを判定するものとします\n",
    "  - AsciiのテキストはUTF-8に分類されるとします\n",
    "  - ヒント: 指定した⽂字コードで読み込めればその⽂字コード、エラーがおきればその⽂字コードでないと分かります\n",
    "- 本書籍で提供されているUTF-8とShift-Jisのサンプルファイルを使って正しく判別できるか確認してください"
   ]
  },
  {
   "cell_type": "code",
   "execution_count": null,
   "metadata": {},
   "outputs": [],
   "source": []
  }
 ],
 "metadata": {
  "kernelspec": {
   "display_name": "Python 3",
   "language": "python",
   "name": "python3"
  },
  "language_info": {
   "codemirror_mode": {
    "name": "ipython",
    "version": 3
   },
   "file_extension": ".py",
   "mimetype": "text/x-python",
   "name": "python",
   "nbconvert_exporter": "python",
   "pygments_lexer": "ipython3",
   "version": "3.7.4"
  }
 },
 "nbformat": 4,
 "nbformat_minor": 4
}
