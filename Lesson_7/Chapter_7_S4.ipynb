{
 "cells": [
  {
   "cell_type": "markdown",
   "metadata": {},
   "source": [
    "# SECTION 04 プログラムへのユーザー⼊⼒を利⽤する\n",
    "- このセクションで学ぶこと\n",
    "  - コマンドライン引数による⼊⼒\n",
    "  - コマンドライン引数の利⽤例\n",
    "  - input関数での標準⼊⼒\n",
    "  - input関数の利⽤例\n",
    "  - コラム: コマンドライン引数 vs 標準⼊⼒"
   ]
  },
  {
   "cell_type": "markdown",
   "metadata": {},
   "source": [
    "## コマンドライン引数による⼊⼒\n",
    "- プログラムにユーザー⼊⼒を与える場⾯は多い\n",
    "  - 解析プログラムで解析するデータのファイル\n",
    "  - 接続先IPやパスワードなど\n",
    "- プログラム内に直接定数で定義するよりユーザーに⼊⼒させたほうがプログラム修正がいらないので利⽤が簡単\n",
    "- コンソールでプログラム起動時に与えるパラメーター(コマンドライン引数)を「sys.argv」でリスト形式で取得できる"
   ]
  },
  {
   "cell_type": "code",
   "execution_count": 2,
   "metadata": {},
   "outputs": [],
   "source": [
    "import sys\n",
    "# print(sys.argv)"
   ]
  },
  {
   "cell_type": "markdown",
   "metadata": {},
   "source": [
    "## コマンドライン引数の利⽤例\n",
    "- 指定したファイルを読み込むプログラム\n",
    "- コマンドライン引数を使うコツ\n",
    "  - 引数が指定された数か最初にチェックする\n",
    "  - sys.argvの要素の値を分かりやすい定数に代⼊する"
   ]
  },
  {
   "cell_type": "code",
   "execution_count": null,
   "metadata": {},
   "outputs": [],
   "source": [
    "import sys\n",
    "if len(sys.argv) < 2:\n",
    "    print('Error. please input file name')\n",
    "    exit()\n",
    "FILE_NAME = sys.argv[1]\n",
    "fin = open(FILE_NAME, 'r')\n",
    "print(fin.read())\n",
    "fin.close()"
   ]
  },
  {
   "cell_type": "markdown",
   "metadata": {},
   "source": [
    "## input関数での標準⼊⼒\n",
    "- 「input関数」で標準⼊⼒受け付け(ユーザーのキーボード⼊⼒を受け付ける)状態となる\n",
    "- エンター(リターン)ボタンが押されたら⼊⼒終了"
   ]
  },
  {
   "cell_type": "code",
   "execution_count": 5,
   "metadata": {},
   "outputs": [
    {
     "name": "stdout",
     "output_type": "stream",
     "text": [
      "1\n"
     ]
    },
    {
     "name": "stdin",
     "output_type": "stream",
     "text": [
      "何か⽂字を⼊⼒してください： 100\n"
     ]
    },
    {
     "name": "stdout",
     "output_type": "stream",
     "text": [
      "⼊⼒値：100\n",
      "2\n"
     ]
    }
   ],
   "source": [
    "print(1)\n",
    "a = input('何か⽂字を⼊⼒してください：')\n",
    "print('⼊⼒値：' + a)\n",
    "print(2)"
   ]
  },
  {
   "cell_type": "markdown",
   "metadata": {},
   "source": [
    "## input関数の利⽤例\n",
    "- パラメーター⼊⼒を対話式に⾏なうプログラム\n",
    "  - IPやパスワードなどを順番に⼊⼒させる\n",
    "  - 設定項⽬の番号を⼊⼒させ、各項⽬でIPやパスワードを⼊⼒\n",
    "- プログラムをあえて⼀時中断させる⽬的\n",
    "  - デモやテストのステップごとに⽌めて結果を表⽰。確認を終えたら次のプログラムに向かう"
   ]
  },
  {
   "cell_type": "code",
   "execution_count": 7,
   "metadata": {},
   "outputs": [
    {
     "name": "stdin",
     "output_type": "stream",
     "text": [
      "please input filename:  hello.txt\n"
     ]
    },
    {
     "name": "stdout",
     "output_type": "stream",
     "text": [
      "hello world\n",
      "hello python\n",
      "\n"
     ]
    }
   ],
   "source": [
    "file_name = input('please input filename: ')\n",
    "fin = open(file_name, 'r')\n",
    "print(fin.read())\n",
    "fin.close()"
   ]
  },
  {
   "cell_type": "markdown",
   "metadata": {},
   "source": [
    "## コラム: コマンドライン引数 vs 標準⼊⼒\n",
    "- Pythonのプログラムはシェルスクリプトやバッチなどから呼び出されることも多い\n",
    "- 標準⼊⼒はユーザーの敷居は低いかもしれないが、他のプログラムから使いにくくなる\n",
    "- コマンドライン引数は呼び出せば動くので、他のプログラムから使いやすい\n",
    "- 特別な理由がなければコマンドライン引数でパラメーターを⼊⼒させるのがよい\n",
    "- 第三の⼿法として「環境変数でのパラメーター指定」なども使われることがある"
   ]
  },
  {
   "cell_type": "markdown",
   "metadata": {},
   "source": [
    "## 演習\n",
    "- コマンドライン引数と、input関数でそれぞれ以下を実現するプログラムを作成してください\n",
    "  - 「数値1, 計算記号, 数値2」を受け取る\n",
    "  - 対応する計算記号は +, -, *, / の4つ\n",
    "  - 数値1と数値2を与えられた計算記号で計算した結果をprint出⼒する\n",
    "  - ヒント1: 数値は⽂字列からfloatにキャストする\n",
    "  - ヒント2: 計算記号の値に応じてif/elseで処理を変える"
   ]
  },
  {
   "cell_type": "code",
   "execution_count": null,
   "metadata": {},
   "outputs": [],
   "source": []
  }
 ],
 "metadata": {
  "kernelspec": {
   "display_name": "Python 3",
   "language": "python",
   "name": "python3"
  },
  "language_info": {
   "codemirror_mode": {
    "name": "ipython",
    "version": 3
   },
   "file_extension": ".py",
   "mimetype": "text/x-python",
   "name": "python",
   "nbconvert_exporter": "python",
   "pygments_lexer": "ipython3",
   "version": "3.7.4"
  }
 },
 "nbformat": 4,
 "nbformat_minor": 4
}
