{
 "cells": [
  {
   "cell_type": "markdown",
   "metadata": {},
   "source": [
    "# SECTION 01 テキストファイルの読み書きを⾏う\n",
    "- このセクションで学ぶこと\n",
    "  - ファイルの読み書き処理はテキストエディタと同じ\n",
    "  - テキストファイルの読み込み\n",
    "  - ファイルのクローズ\n",
    "  - ファイルの書き込み処理\n",
    "  - ファイルの追記処理\n",
    "  - バイナリデータの読み書き処理\n",
    "  - コラム: バイナリデータの処理"
   ]
  },
  {
   "cell_type": "markdown",
   "metadata": {},
   "source": [
    "## ファイルの読み書き処理はテキストエディタと同じ\n",
    "- ファイル操作の流れ\n",
    "  1. ファイルをモード(Read/Write/Append)を指定して開く\n",
    "  2. ファイルを操作する\n",
    "  3. ファイルを閉じる\n",
    "- Pythonでファイルの読み書きには「open」関数を使う\n",
    "- 関数の返り値のファイルオブジェクトのメソッドでファイル操作"
   ]
  },
  {
   "cell_type": "code",
   "execution_count": 2,
   "metadata": {},
   "outputs": [
    {
     "name": "stdout",
     "output_type": "stream",
     "text": [
      "<_io.TextIOWrapper name='hello.txt' mode='r' encoding='cp932'>\n"
     ]
    }
   ],
   "source": [
    "fin = open('hello.txt', 'r')\n",
    "print(fin)"
   ]
  },
  {
   "cell_type": "markdown",
   "metadata": {},
   "source": [
    "## テキストファイルの読み込み\n",
    "- open関数の第⼆引数を「r」にして読み込み専⽤のファイルオブジェクトを取得する\n",
    "- 読み込みモードでの主要な操作\n",
    "  - readメソッド: ファイルの内容を全て読み込む\n",
    "  - forループ: ファイルの1⾏ずつループ処理する。省メモリ"
   ]
  },
  {
   "cell_type": "code",
   "execution_count": 3,
   "metadata": {},
   "outputs": [
    {
     "name": "stdout",
     "output_type": "stream",
     "text": [
      "hello world\n",
      "hello python\n",
      "\n"
     ]
    }
   ],
   "source": [
    "fin = open('hello.txt', 'r')\n",
    "text = fin.read()\n",
    "print(text)"
   ]
  },
  {
   "cell_type": "code",
   "execution_count": 4,
   "metadata": {},
   "outputs": [
    {
     "name": "stdout",
     "output_type": "stream",
     "text": [
      "1 hello world\n",
      "2 hello python\n"
     ]
    }
   ],
   "source": [
    "fin = open('hello.txt', 'r')\n",
    "i = 1\n",
    "for line in fin:\n",
    "    line = line.rstrip()\n",
    "    print('{} {}'.format(i, line))\n",
    "    i += 1"
   ]
  },
  {
   "cell_type": "markdown",
   "metadata": {},
   "source": [
    "## ファイルのクローズ\n",
    "- OSのリソースの開放と「書き込み処理を確実にする」ためにファイル操作終了後にファイルオブジェクトをクローズする\n",
    "- 「close」メソッドを使う"
   ]
  },
  {
   "cell_type": "code",
   "execution_count": 5,
   "metadata": {},
   "outputs": [],
   "source": [
    "fin = open('hello.txt', 'r')\n",
    "text = fin.read()\n",
    "fin.close()"
   ]
  },
  {
   "cell_type": "markdown",
   "metadata": {},
   "source": [
    "## ファイルの書き込み処理\n",
    "- openする際に「w(write)」モードを指定する\n",
    "- オープン時にファイル内容が全削除される\n",
    "- writeメソッドでテキストを書き込む\n",
    "- 改⾏は付与されないので必要ならテキストに「\\n」を追加"
   ]
  },
  {
   "cell_type": "code",
   "execution_count": 6,
   "metadata": {},
   "outputs": [],
   "source": [
    "fout = open('test.txt', 'w')\n",
    "fout.write('write text1\\n')\n",
    "fout.write('write text2\\n')\n",
    "fout.close()"
   ]
  },
  {
   "cell_type": "markdown",
   "metadata": {},
   "source": [
    "## ファイルの追記処理\n",
    "- すでにあるファイルの末尾にデータを書き込むには「a(append)」を指定して追記モードでファイルを開く\n",
    "- 開いたあとの操作は「w」モードと同じ"
   ]
  },
  {
   "cell_type": "code",
   "execution_count": 7,
   "metadata": {},
   "outputs": [],
   "source": [
    "fout = open('test.txt', 'a')\n",
    "fout.write('write text3\\n')\n",
    "fout.close()"
   ]
  },
  {
   "cell_type": "markdown",
   "metadata": {},
   "source": [
    "## バイナリデータの読み書き処理\n",
    "- 画像などのバイナリデータはモードに「b(binary)」を加える\n",
    "- 読み込みモード: 「rb」\n",
    "- 書き込みモード: 「wb」"
   ]
  },
  {
   "cell_type": "code",
   "execution_count": 8,
   "metadata": {},
   "outputs": [],
   "source": [
    "fi = open('sample.png', 'rb')\n",
    "image = fi.read()\n",
    "fi.close()\n",
    "fo = open('test.png', 'wb')\n",
    "fo.write(image)\n",
    "fo.close()"
   ]
  },
  {
   "cell_type": "markdown",
   "metadata": {},
   "source": [
    "## コラム: バイナリデータの処理\n",
    "- バイナリデータを直接ユーザー操作することは少ない\n",
    "- たとえばPILモジュールによる画像操作(サイズを⼩さくする)\n",
    "  1. ファイルからバイナリデータを読み込む\n",
    "  2. ライブラリにバイナリデータを渡す\n",
    "  3. ライブラリでデータ加⼯(画像サイズを⼩さくする)\n",
    "  4. バイナリデータをライブラリから取得\n",
    "  5. バイナリデータをファイルに書き込む\n",
    "- 「io.BytesIO」でバイナリをファイルに⾒せる処理をバイナリ系の操作ではよく使う。ファイルパスが求められるところにバイナリを与えたり、ファイルに書き出すのではなくバイナリを書き出すなどができる"
   ]
  },
  {
   "cell_type": "markdown",
   "metadata": {},
   "source": [
    "## 演習\n",
    "- テキストファイルを読み込んで、各⾏を逆に出⼒したファイルを書き出す。各⾏処理はforループがおすすめ。\n",
    "- 発展課題: PILモジュールをインストールして画像サイズを編集してください。\n",
    "- 上記のファイル名指定での動作を確認したら、ライブラリにファイル名を与えるかわり「io.Bytes()」でライブラリにバイナリデータを渡して、ライブラリからバイナリデータを受け取ってファイルに書き出してください"
   ]
  },
  {
   "cell_type": "code",
   "execution_count": null,
   "metadata": {},
   "outputs": [],
   "source": []
  }
 ],
 "metadata": {
  "kernelspec": {
   "display_name": "Python 3",
   "language": "python",
   "name": "python3"
  },
  "language_info": {
   "codemirror_mode": {
    "name": "ipython",
    "version": 3
   },
   "file_extension": ".py",
   "mimetype": "text/x-python",
   "name": "python",
   "nbconvert_exporter": "python",
   "pygments_lexer": "ipython3",
   "version": "3.7.4"
  }
 },
 "nbformat": 4,
 "nbformat_minor": 4
}
